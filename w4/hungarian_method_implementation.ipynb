{
 "cells": [
  {
   "cell_type": "markdown",
   "metadata": {},
   "source": [
    "# Implementing the Hungarian Method\n",
    "\n",
    "<b>Goal:</b> Implement the Hungarian Method."
   ]
  },
  {
   "cell_type": "markdown",
   "metadata": {},
   "source": [
    "Implement the Hungarian method for finding maximum weight matchings in weighted bipartite graphs. You may use the function `networkx.algorithms.bipartite.matching.maximum_matching` for finding a maximum cardinality matching in a bipartite graph, use the function `min_vertex_cover()` for finding a minimum cardinality vertex cover in a bipartite graph (following Theorem 3.9 from the script), or implement the whole algorithm from scratch."
   ]
  },
  {
   "cell_type": "markdown",
   "metadata": {},
   "source": [
    "## Implementation "
   ]
  },
  {
   "cell_type": "code",
   "execution_count": null,
   "metadata": {},
   "outputs": [],
   "source": [
    "import matplotlib.pyplot as plt\n",
    "import networkx as nx\n",
    "\n",
    "%matplotlib inline"
   ]
  },
  {
   "cell_type": "code",
   "execution_count": null,
   "metadata": {},
   "outputs": [],
   "source": [
    "def min_vertex_cover(G, M):\n",
    "    '''Computes the minimum cardinality vertex cover corresponding to the given maximum cardinality \n",
    "       matching following Theorem 3.9 in the script.\n",
    "    \n",
    "    Args:\n",
    "        G: A bipartite networkx graph.\n",
    "        M: A maximum cardinality matching to start from (provided as a set of pairs of vertices).\n",
    "    \n",
    "    Returns:\n",
    "        A list of vertices in a minimum cardinality vertex cover.\n",
    "    '''\n",
    "    \n",
    "    # Create default vertex and edge properties:\n",
    "    # For a vertex, \n",
    "    #  - 'matched' indicates whether a vertex is matched (value 1) or unmatched (value 0),\n",
    "    #  - 'part' indicates whether a vertex is in X (value 1) or Y (value 2),\n",
    "    #  - 'L' indicates whether a vertex is marked, i.e., in L (value 1), or not (value 0).\n",
    "    for v in G.nodes:\n",
    "        G.nodes[v]['matched'] = G.nodes[v]['part'] = G.nodes[v]['L'] = 0\n",
    "    # For an edge,\n",
    "    #  - 'm' indicates whether an edges is in the matching (value 1) or not (value 0)    \n",
    "    for u, w in G.edges:\n",
    "        G[u][w]['m'] = G[w][u]['m'] = 0\n",
    "        \n",
    "    # Mark edges in M\n",
    "    for u, w in M:\n",
    "        G[u][w]['m'] = G[w][u]['m'] = 1\n",
    "        G.nodes[u]['matched'] = G.nodes[w]['matched'] = 1\n",
    "    \n",
    "    # Partition G\n",
    "    for v in G.nodes:\n",
    "        if G.nodes[v]['part'] > 0:\n",
    "            continue\n",
    "        G.nodes[v]['part'] = 1\n",
    "        for u, w in nx.bfs_edges(G, v):\n",
    "            G.nodes[w]['part'] = G.nodes[u]['part'] % 2 + 1\n",
    "    \n",
    "    # Create the auxiliary directed graph\n",
    "    D = nx.DiGraph()\n",
    "    D.add_nodes_from(G.nodes)\n",
    "    for u, w in G.edges:\n",
    "        if G[u][w]['m'] == 0:\n",
    "            if G.nodes[u]['part'] == 1:\n",
    "                D.add_edge(u, w)\n",
    "            else:\n",
    "                D.add_edge(w, u)\n",
    "        else:\n",
    "            if G.nodes[u]['part'] == 1:\n",
    "                D.add_edge(w, u)\n",
    "            else:\n",
    "                D.add_edge(u, w)\n",
    "    \n",
    "    # Mark vertices in L\n",
    "    for v in G.nodes:\n",
    "        if G.nodes[v]['part'] == 2 or G.nodes[v]['matched'] == 1 or G.nodes[v]['L'] == 1:\n",
    "            continue\n",
    "        G.nodes[v]['L'] = 1\n",
    "        for u, w in nx.bfs_edges(D, v):\n",
    "            G.nodes[w]['L'] = 1\n",
    "\n",
    "    # Return S\n",
    "    return [v for v in G.nodes\n",
    "              if (G.nodes[v]['part'] == 1 and G.nodes[v]['L'] == 0) or\n",
    "                 (G.nodes[v]['part'] == 2 and G.nodes[v]['L'] == 1)]"
   ]
  },
  {
   "cell_type": "code",
   "execution_count": null,
   "metadata": {},
   "outputs": [],
   "source": [
    "def hungarian_method(G):\n",
    "    '''Finds a minimum weight perfect matching in G using Hungarian Method.\n",
    "    \n",
    "    Args:\n",
    "        G: A weighted biparitite networkx graph.\n",
    "    \n",
    "    Returns:\n",
    "        If a minimum weight perfect matching does not exist, returns None.\n",
    "        Otherwise, returns the matching in a dict where matching[i] == j if i is\n",
    "        matched to j.\n",
    "    '''\n",
    "    # Write your implementation here"
   ]
  },
  {
   "cell_type": "markdown",
   "metadata": {},
   "source": [
    "---"
   ]
  },
  {
   "cell_type": "markdown",
   "metadata": {},
   "source": [
    "## Testing\n",
    "\n",
    "Note that the `networkx` method `networkx.algorithms.bipartite.matching.minimum_weight_full_matching( )` (used in the testing function) requires the `SciPy` library to be installed. This dependency is installed automatically if you are using a recent version of the anaconda3 bundle. In case you already had an older version installed, you might have to manually upgrade `networkx` and/or instal `SciPy` using the commands\n",
    "\n",
    "- `conda update networkx` and\n",
    "- `conda install scipy`.\n",
    "\n",
    "If you encounter problems, compare to how we installed the `python-mip` library when setting up the environment!"
   ]
  },
  {
   "cell_type": "markdown",
   "metadata": {},
   "source": [
    "As always, also feel free to visualize at least the output of the Hungarian Method by implementing functionality to plot the input graph, for example with the maximum weight matching highlighted."
   ]
  },
  {
   "cell_type": "code",
   "execution_count": null,
   "metadata": {},
   "outputs": [],
   "source": [
    "def edge_list_weight(G, edge_list):\n",
    "    '''Computes the weight of a list of edges in a graph.\n",
    "    \n",
    "    Args:\n",
    "        G: A weighted networkx graph.\n",
    "        edge_list: A list of edges of G.\n",
    "    \n",
    "    Returns:\n",
    "        The weight of the edge list.\n",
    "    '''\n",
    "    return sum(G[i][j]['weight'] for i, j in edge_list)\n",
    "\n",
    "\n",
    "def test_hungarian_method(G):\n",
    "    '''Checks if hungarian_method() works correctly on a given instance.\n",
    "    \n",
    "    Args:\n",
    "        G: A weighted bipartite netowrkx graph.\n",
    "    \n",
    "    Returns:\n",
    "        A tuple consisting of three elements. The first element is True if \n",
    "        hungarian_method() returned a minimum weight perfect matching and \n",
    "        False otherwise. The second element is the cardinality of the edge\n",
    "        set returned by hungarian_method() and the third element is the weight\n",
    "        of this edge set.\n",
    "    '''\n",
    "    # Matcihng obtained with hungarian_method()\n",
    "    M1 = hungarian_method(G)\n",
    "    \n",
    "    if M1 is None:\n",
    "        validity = True\n",
    "        cardinality = 0\n",
    "        weight = 0\n",
    "    else:\n",
    "        validity = nx.is_matching(G, M1)\n",
    "        cardinality = len(M1.keys()) / 2\n",
    "        weight = edge_list_weight(G, M1.items()) / 2\n",
    "\n",
    "    try:\n",
    "        # Matching obtained with networkx\n",
    "        M2 = nx.algorithms.bipartite.matching.minimum_weight_full_matching(G)\n",
    "        validity = validity and 2 * cardinality == len(M2.keys()) and 2 * weight == edge_list_weight(G, M2.items())\n",
    "    except ValueError:\n",
    "        # No full matching exists\n",
    "        validity = validity and M1 is None\n",
    "    \n",
    "    return validity, cardinality, weight"
   ]
  },
  {
   "cell_type": "code",
   "execution_count": null,
   "metadata": {},
   "outputs": [],
   "source": [
    "# Instance 1\n",
    "# Observe that this is the example from the script (chapter \"The Hungarian Method by example\"), so you can check intermediate steps if you want!\n",
    "G1 = nx.complete_bipartite_graph(4, 4)\n",
    "\n",
    "G1_weights = [[2, 6, 7, 4], [0, 7, 10, 7], [2, 8, 9, 7], [0, 1, 7, 0]]\n",
    "G1.add_weighted_edges_from([(i, 4 + j, G1_weights[i][j]) for i in range(4) for j in range(4)])\n",
    "\n",
    "print(test_hungarian_method(G1))\n",
    "# Expected output: (True, 4.0, 14.0)"
   ]
  },
  {
   "cell_type": "code",
   "execution_count": null,
   "metadata": {},
   "outputs": [],
   "source": [
    "# Instance 2\n",
    "G2 = nx.complete_bipartite_graph(3, 3)\n",
    "\n",
    "G2_weights = [[1, 2, 3], [3, 3, 3], [3, 3, 2]]\n",
    "G2.add_weighted_edges_from([(i, 3 + j, G2_weights[i][j]) for i in range(3) for j in range(3)])\n",
    "\n",
    "print(test_hungarian_method(G2))\n",
    "# Expected output: (True, 3.0, 6.0)"
   ]
  },
  {
   "cell_type": "code",
   "execution_count": null,
   "metadata": {},
   "outputs": [],
   "source": [
    "# Instance 3\n",
    "G3 = nx.complete_bipartite_graph(4, 4)\n",
    "\n",
    "G3_weights = [[1, 1, 1, 2], [3, 2, 4, 1], [4, 4, 2, 4], [2, 3, 3, 3, 3]]\n",
    "G3.add_weighted_edges_from([(i, 4 + j, G3_weights[i][j]) for i in range(4) for j in range(4)])\n",
    "\n",
    "print(test_hungarian_method(G3))\n",
    "# Expected output: (True, 4.0, 6.0)"
   ]
  },
  {
   "cell_type": "code",
   "execution_count": null,
   "metadata": {},
   "outputs": [],
   "source": [
    "# Instance 4\n",
    "G4 = nx.complete_bipartite_graph(4, 4)\n",
    "\n",
    "G4_weights = [[5, 7, 2, 0], [1, 9, 10, 4], [7, 8, 1, 11], [0, 2, 4, 5]]\n",
    "G4.add_weighted_edges_from([(i, 4 + j, G4_weights[i][j]) for i in range(4) for j in range(4)])\n",
    "\n",
    "print(test_hungarian_method(G4))\n",
    "# Expected output: (True, 4.0, 4.0)"
   ]
  },
  {
   "cell_type": "code",
   "execution_count": null,
   "metadata": {},
   "outputs": [],
   "source": [
    "# Instance 5\n",
    "G5 = nx.complete_bipartite_graph(5, 5)\n",
    "\n",
    "G5_weights = [[1, 2, 7, 3, 0], [3, 4, 1, 0, 2], [2, 3, 6, 0, 0], [0, 6, 1, 1, 0], [2, 0, 0, 4, 5]]\n",
    "G5.add_weighted_edges_from([(i, 5 + j, G5_weights[i][j]) for i in range(5) for j in range(5)])\n",
    "\n",
    "print(test_hungarian_method(G5))\n",
    "# Expected output: (True, 5.0, 1.0)"
   ]
  },
  {
   "cell_type": "code",
   "execution_count": null,
   "metadata": {},
   "outputs": [],
   "source": [
    "# Instance 6\n",
    "G6 = nx.complete_bipartite_graph(5, 5)\n",
    "\n",
    "G6_weights = [[30, 18, 9, 39, 97], [30, 3, 56, 9, 3], [86, 94, 13, 31, 34], [24, 72, 59, 30, 4], [10, 87, 25, 57, 29]]\n",
    "G6.add_weighted_edges_from([(i, 5 + j, G6_weights[i][j]) for i in range(5) for j in range(5)])\n",
    "\n",
    "print(test_hungarian_method(G6))\n",
    "# Expected output: (True, 5.0, 54.0)"
   ]
  },
  {
   "cell_type": "code",
   "execution_count": null,
   "metadata": {},
   "outputs": [],
   "source": [
    "# Instance 7\n",
    "# (infeasible)\n",
    "G7 = nx.Graph()\n",
    "G7.add_weighted_edges_from([(1, 4, 1), (1, 5, 2), (1, 6, 4), (2, 4, 3), (3, 4, 7)])\n",
    "\n",
    "print(test_hungarian_method(G7))\n",
    "# Expected output: (True, 0, 0)"
   ]
  }
 ],
 "metadata": {
  "kernelspec": {
   "display_name": "Python 3",
   "language": "python",
   "name": "python3"
  },
  "language_info": {
   "codemirror_mode": {
    "name": "ipython",
    "version": 3
   },
   "file_extension": ".py",
   "mimetype": "text/x-python",
   "name": "python",
   "nbconvert_exporter": "python",
   "pygments_lexer": "ipython3",
   "version": "3.7.3"
  }
 },
 "nbformat": 4,
 "nbformat_minor": 4
}
