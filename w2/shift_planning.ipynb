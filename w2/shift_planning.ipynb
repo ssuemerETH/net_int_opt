{
 "cells": [
  {
   "cell_type": "markdown",
   "metadata": {},
   "source": [
    "# Night shift planning\n",
    "\n",
    "<b>Goal:</b> Implement algorithms to solve two variations of the night shift planning problem."
   ]
  },
  {
   "cell_type": "markdown",
   "metadata": {},
   "source": [
    "## Implementation \n",
    "\n",
    "The signatures of the functions to implement are given below. Note that for the programming part, we represent the $n$ nights by the set $N = \\{0, 1, \\ldots, n-1\\}$, and the $q$ physicians by the set $P = \\{0,1,\\ldots,q-1\\}$. It is clear from the context whether an integer refers to the corresponding night or the corresponding physician. Also check the inputs in the testing section below to see examples!"
   ]
  },
  {
   "cell_type": "code",
   "execution_count": 22,
   "metadata": {},
   "outputs": [],
   "source": [
    "import matplotlib.pyplot as plt\n",
    "import networkx as nx\n",
    "import random"
   ]
  },
  {
   "cell_type": "code",
   "execution_count": 23,
   "metadata": {},
   "outputs": [],
   "source": [
    "def schedule_a(n, q, W, alpha, N):\n",
    "    '''Finds a feasible assignment of nights to physicians.\n",
    "    \n",
    "    Args:\n",
    "        n (int): Number of nights.\n",
    "        q (int): Number of physicians.\n",
    "        W: List indexed by physicians containing lists of nights when each\n",
    "        physician is available.\n",
    "        alpha: List indexed by physicians containing max number of nights each\n",
    "        physician can be assigned.\n",
    "        N: List of lists describing the partitioning of nights into blocks such\n",
    "        that no physician can be assigned to more than 2 nights per block.\n",
    "\n",
    "    Returns:\n",
    "        If there is a feasible assignment, returns a dict keyed by physicians\n",
    "        containing lists of nights assigned to each physician. If there is no\n",
    "        feasible assignment, returns None.\n",
    "    '''\n",
    "    # Add your implementation here\n",
    "    k = len(N)\n",
    "\n",
    "    special = [\"source\", \"sink\"]\n",
    "    phys = [f\"p_{j}\" for j in range(q)]\n",
    "    phys_blocks = [f\"p_{j}, b_{i}\" for j in range(q) for i in range(k)]\n",
    "    nights = [f\"n_{i}\" for i in range(n)]\n",
    "\n",
    "    G = nx.DiGraph()\n",
    "    node_cats = [special, phys, phys_blocks, nights]\n",
    "    for cat in node_cats:\n",
    "        G.add_nodes_from(cat)\n",
    "    \n",
    "    # connect source to physicians\n",
    "    for j in range(q):\n",
    "        G.add_edge(\"source\", f\"p_{j}\", capacity = alpha[j])\n",
    "    \n",
    "    # connect physicians to (physicians X blocks)\n",
    "    for j in range(q):\n",
    "        for i in range(k):\n",
    "            G.add_edge(f\"p_{j}\", f\"p_{j}, b_{i}\", capacity = 2)\n",
    "    \n",
    "    # connect (physicians X blocks) to nights\n",
    "    for j in range(q):\n",
    "        for i in range(k): \n",
    "            for ns in N[i]:\n",
    "                if ns in W[j]:\n",
    "                    G.add_edge(f\"p_{j}, b_{i}\", f\"n_{ns}\", capacity = 1)\n",
    "\n",
    "    # connect nights to sink\n",
    "    for ns in range(n):\n",
    "        G.add_edge(f\"n_{ns}\", \"sink\", capacity = 2)\n",
    "    \n",
    "    total_flow, edge_flow = nx.maximum_flow(G, \"source\", \"sink\", capacity = 'capacity')\n",
    "    if total_flow < 2 * n:\n",
    "        return None\n",
    "\n",
    "    res = {j : [] for j in range(q)}\n",
    "    for j in range(q):\n",
    "        for i in range(k):\n",
    "            for ns in N[i]:\n",
    "                if ns in W[j] and edge_flow[f\"p_{j}, b_{i}\"][f\"n_{ns}\"] == 1:\n",
    "                    res[j].append(ns)\n",
    "\n",
    "    return res"
   ]
  },
  {
   "cell_type": "code",
   "execution_count": 24,
   "metadata": {},
   "outputs": [],
   "source": [
    "def schedule_b(n, q, W, alpha, N):\n",
    "    '''Finds an assignment of nights to physicians that minimizes the maximum\n",
    "    number of nights assigned to any physician.\n",
    "    \n",
    "    Args:\n",
    "        n (int): Number of nights.\n",
    "        q (int): Number of physicians.\n",
    "        W: List indexed by physicians containing lists of nights when each\n",
    "        physician is available.\n",
    "        alpha: List indexed by physicians containing max number of nights each\n",
    "        physician can be assigned.\n",
    "        N: List of lists describing the partitioning of nights into blocks such\n",
    "        that no physician can be assigned to more than 2 nights per block.\n",
    "\n",
    "    Returns:\n",
    "        If there is a feasible assignment, returns a dict keyed by physicians\n",
    "        containing lists of nights assigned to each physician, minimizing the\n",
    "        maximum number of nights assigned to any physician. If there is no\n",
    "        feasible assignment, returns None.\n",
    "    '''\n",
    "    # Add your implementation here\n",
    "    M = max(alpha) if alpha else -1\n",
    "    for k in range(1, M + 1):\n",
    "        res = schedule_a(n, q, W, [min(k, alpha[j]) for j in range(q)], N)\n",
    "        if res:\n",
    "            return res\n",
    "\n",
    "    return None"
   ]
  },
  {
   "cell_type": "markdown",
   "metadata": {},
   "source": [
    "---"
   ]
  },
  {
   "cell_type": "markdown",
   "metadata": {},
   "source": [
    "## Testing\n",
    "\n",
    "Below, we provide 10 example instances that you can test your implementations on.\n",
    "\n",
    "You can use the `is_feasible( )` function below to test if the inputs that your implementation reports are feasible. Note that you'll obtain feedback on unsatisfied constraints, so you can double-check your solutions and your implementation accordingly!\n",
    "\n",
    "Also, you can use the second function `test_schedule_ab( )` to test both of your implementations for (a) and (b) from above on the given example instances and compare to the expected outputs given below (as prepared in the cells further down). Be aware that the shift assignments are not unique, so you might see different assignments from those that we provide."
   ]
  },
  {
   "cell_type": "code",
   "execution_count": 25,
   "metadata": {},
   "outputs": [],
   "source": [
    "def is_feasible(n, q, W, alpha, N, assignment):\n",
    "    '''Checks if the given assignment is feasible for the given instance.\n",
    "    \n",
    "    Args:\n",
    "        n (int): Number of nights.\n",
    "        q (int): Number of physicians.\n",
    "        W: List indexed by physicians containing lists of nights when each\n",
    "        physician is available.\n",
    "        alpha: List indexed by physicians containing max number of nights each\n",
    "        physician can be assigned.\n",
    "        N: List of lists describing the partitioning of nights into blocks such\n",
    "        that no physician can be assigned to more than 2 nights per block.\n",
    "        assignment: Dict keyed by physicians containing lists of nights assigned\n",
    "        to each physician.\n",
    "    \n",
    "    Returns:\n",
    "        True if the given assignment is feasible for the given instance and\n",
    "        False otherwise.\n",
    "    '''\n",
    "    if assignment is None:\n",
    "        print('Assignment is empty.')\n",
    "        return True\n",
    "    \n",
    "    k = len(N) # number of night blocks\n",
    "    \n",
    "    night_block = {}\n",
    "    for l in range(k):\n",
    "        for i in N[l]:\n",
    "            night_block[i] = l\n",
    "    \n",
    "    night_physicians = [0] * n\n",
    "    for j in range(q):\n",
    "        shifts_per_block = [0] * k\n",
    "        total_shifts = 0\n",
    "        for night in assignment[j]:\n",
    "            if night not in W[j]:\n",
    "                print(f'Violation: Physician {j} is assigned night {night}, on which they are unavailable.')\n",
    "                return False\n",
    "            \n",
    "            shifts_per_block[night_block[night]] += 1\n",
    "            if shifts_per_block[night_block[night]] > 2:\n",
    "                print(f'Violation: Physician {j} is assigned more than 2 shifts in block {night_block[night]}.')\n",
    "                return False\n",
    "            \n",
    "            total_shifts += 1\n",
    "            night_physicians[night] += 1\n",
    "        \n",
    "        if total_shifts > alpha[j]:\n",
    "            print(f'Violation: Physician {j} is assigned {total_shifts} shifts, exceeding the limit of {alpha[j]}.')\n",
    "            return False\n",
    "\n",
    "    for i in range(n):\n",
    "        if night_physicians[i] != 2:\n",
    "            print(f'Violation: Night {i} is assigned {night_physicians[i]} instead of 2 physicians.')\n",
    "            return False\n",
    "    \n",
    "    return True"
   ]
  },
  {
   "cell_type": "code",
   "execution_count": 26,
   "metadata": {},
   "outputs": [],
   "source": [
    "def test_schedule_ab(n, q, W, alpha, N):\n",
    "    '''Tests schedule_a() and schedule_b() on the given instance and prints information on the results of the test.\n",
    "    \n",
    "    Args:\n",
    "        n (int): Number of nights.\n",
    "        q (int): Number of physicians.\n",
    "        W: List indexed by physicians containing lists of nights when each\n",
    "        physician is available.\n",
    "        alpha: List indexed by physicians containing max number of nights each\n",
    "        physician can be assigned.\n",
    "        N: List of lists describing the partitioning of nights into blocks such\n",
    "        that no physician can be assigned to more than 2 nights per block.\n",
    "        assignment: Dict keyed by physicians containing lists of nights assigned\n",
    "        to each physician.\n",
    "    \n",
    "    Returns:\n",
    "        None.\n",
    "    '''\n",
    "    res_a = schedule_a(n, q, W, alpha, N)\n",
    "    print(f'Output assignment (part a): {res_a}')\n",
    "    if res_a != None:\n",
    "        feasible = is_feasible(n, q, W, alpha, N, res_a)\n",
    "        print(f\"Assignment is {'' if feasible else 'in'}feasible.\")\n",
    "        if feasible:\n",
    "            print(f\"The maximum number of nights per physician is {max([len(res_a.get(j, 0)) for j in range(q)], default=0)}.\")\n",
    "    else:\n",
    "        print(f\"Instance is infeasible.\")\n",
    "    \n",
    "    print()\n",
    "    \n",
    "    res_b = schedule_b(n, q, W, alpha, N)\n",
    "    print(f'Output assignment (part b): {res_b}')\n",
    "    if res_a != None:\n",
    "        feasible = is_feasible(n, q, W, alpha, N, res_b)\n",
    "        print(f\"Assignment is {'' if feasible else 'in'}feasible.\")\n",
    "        if feasible:\n",
    "            print(f\"The maximum number of nights per physician is {max([len(res_b.get(j, 0)) for j in range(q)], default=0)}.\")\n",
    "    else:\n",
    "        print(f\"Instance is infeasible.\")"
   ]
  },
  {
   "cell_type": "code",
   "execution_count": 38,
   "metadata": {},
   "outputs": [
    {
     "name": "stdout",
     "output_type": "stream",
     "text": [
      "Output assignment (part a): {}\n",
      "Assignment is feasible.\n",
      "The maximum number of nights per physician is 0.\n",
      "\n",
      "Output assignment (part b): None\n",
      "Assignment is empty.\n",
      "Assignment is feasible.\n",
      "The maximum number of nights per physician is 0.\n"
     ]
    }
   ],
   "source": [
    "# Instance 1\n",
    "# empty\n",
    "n1 = 0\n",
    "q1 = 0\n",
    "W1 = []\n",
    "alpha1 = []\n",
    "N1 = []\n",
    "\n",
    "# Auxiliary graph\n",
    "# nx.draw_networkx(schedule_graph(n1, q1, W1, alpha1, N1))\n",
    "# plt.show()\n",
    "\n",
    "# Test\n",
    "test_schedule_ab(n1, q1, W1, alpha1, N1)\n",
    "# Expected output:\n",
    "#  Output assignment (part a): {}\n",
    "#  Assignment is feasible.\n",
    "#  The maximum number of nights per physician is 0.\n",
    "#  \n",
    "#  Output assignment (part b): {}\n",
    "#  Assignment is feasible.\n",
    "#  The maximum number of nights per physician is 0.\n"
   ]
  },
  {
   "cell_type": "code",
   "execution_count": 28,
   "metadata": {},
   "outputs": [
    {
     "name": "stdout",
     "output_type": "stream",
     "text": [
      "Output assignment (part a): None\n",
      "Instance is infeasible.\n",
      "\n",
      "Output assignment (part b): None\n",
      "Instance is infeasible.\n"
     ]
    }
   ],
   "source": [
    "# Instance 2\n",
    "# one physician, one night\n",
    "n2 = 1\n",
    "q2 = 1\n",
    "k2 = 1\n",
    "W2 = [[0]]\n",
    "alpha2 = [2]\n",
    "N2 = [[0]]\n",
    "\n",
    "# Auxiliary graph\n",
    "# nx.draw_networkx(schedule_graph(n2, q2, W2, alpha2, N2))\n",
    "# plt.show()\n",
    "\n",
    "# Test\n",
    "test_schedule_ab(n2, q2, W2, alpha2, N2)\n",
    "# Expected output:\n",
    "#  Output assignment (part a): None\n",
    "#  Instance is infeasible.\n",
    "#  \n",
    "#  Output assignment (part b): None\n",
    "#  Instance is infeasible."
   ]
  },
  {
   "cell_type": "code",
   "execution_count": 29,
   "metadata": {},
   "outputs": [
    {
     "name": "stdout",
     "output_type": "stream",
     "text": [
      "Output assignment (part a): {0: [0], 1: [0]}\n",
      "Assignment is feasible.\n",
      "The maximum number of nights per physician is 1.\n",
      "\n",
      "Output assignment (part b): {0: [0], 1: [0]}\n",
      "Assignment is feasible.\n",
      "The maximum number of nights per physician is 1.\n"
     ]
    }
   ],
   "source": [
    "# Instance 3\n",
    "# two physicians, one night\n",
    "n3 = 1\n",
    "q3 = 2\n",
    "W3 = [[0], [0]]\n",
    "alpha3 = [1, 1]\n",
    "N3 = [[0]]\n",
    "\n",
    "# Auxiliary graph\n",
    "# nx.draw_networkx(schedule_graph(n3, q3, W3, alpha3, N3))\n",
    "# plt.show()\n",
    "\n",
    "# Test\n",
    "test_schedule_ab(n3, q3, W3, alpha3, N3)\n",
    "# Expected output:\n",
    "#  Output assignment (part a): {0: [0], 1: [0]}\n",
    "#  Assignment is feasible.\n",
    "#  The maximum number of nights per physician is 1.\n",
    "#  \n",
    "#  Output assignment (part b): {0: [0], 1: [0]}\n",
    "#  Assignment is feasible.\n",
    "#  The maximum number of nights per physician is 1."
   ]
  },
  {
   "cell_type": "code",
   "execution_count": 30,
   "metadata": {},
   "outputs": [
    {
     "name": "stdout",
     "output_type": "stream",
     "text": [
      "Output assignment (part a): {0: [0], 1: [0, 1], 2: [1]}\n",
      "Assignment is feasible.\n",
      "The maximum number of nights per physician is 2.\n",
      "\n",
      "Output assignment (part b): {0: [0], 1: [0, 1], 2: [1]}\n",
      "Assignment is feasible.\n",
      "The maximum number of nights per physician is 2.\n"
     ]
    }
   ],
   "source": [
    "# Instance 4\n",
    "# two nights, one physician with two shifts, two physicians with one shift each\n",
    "n4 = 2\n",
    "q4 = 3\n",
    "W4 = [[0], [0, 1], [1]]\n",
    "alpha4 = [2, 2, 2]\n",
    "N4 = [[0, 1]]\n",
    "\n",
    "# Auxiliary graph\n",
    "# nx.draw_networkx(schedule_graph(n4, q4, W4, alpha4, N4))\n",
    "# plt.show()\n",
    "\n",
    "# Test\n",
    "test_schedule_ab(n4, q4, W4, alpha4, N4)\n",
    "# Expected output:\n",
    "#  Output assignment (part a): {0: [0], 1: [0, 1], 2: [1]}\n",
    "#  Assignment is feasible.\n",
    "#  The maximum number of nights per physician is 2.\n",
    "#  \n",
    "#  Output assignment (part b): {0: [0], 1: [0, 1], 2: [1]}\n",
    "#  Assignment is feasible.\n",
    "#  The maximum number of nights per physician is 2."
   ]
  },
  {
   "cell_type": "code",
   "execution_count": 31,
   "metadata": {},
   "outputs": [
    {
     "name": "stdout",
     "output_type": "stream",
     "text": [
      "Output assignment (part a): {0: [0, 1], 1: [1, 2], 2: [2, 3], 3: [3, 4], 4: [0, 4]}\n",
      "Assignment is feasible.\n",
      "The maximum number of nights per physician is 2.\n",
      "\n",
      "Output assignment (part b): {0: [0, 1], 1: [1, 2], 2: [2, 3], 3: [3, 4], 4: [0, 4]}\n",
      "Assignment is feasible.\n",
      "The maximum number of nights per physician is 2.\n"
     ]
    }
   ],
   "source": [
    "# Instance 5\n",
    "# perfect 2:1 matching in one block\n",
    "n5 = 5\n",
    "q5 = 5\n",
    "W5 = [[0, 1], [1, 2], [2, 3], [3, 4], [0, 4]]\n",
    "alpha5 = [2] * q5\n",
    "N5 = [range(n5)]\n",
    "\n",
    "# Auxiliary graph\n",
    "# nx.draw_networkx(schedule_graph(n5, q5, W5, alpha5, N5))\n",
    "# plt.show()\n",
    "\n",
    "# Test\n",
    "test_schedule_ab(n5, q5, W5, alpha5, N5)\n",
    "# Expected output:\n",
    "#  Output assignment (part a): {0: [0, 1], 1: [1, 2], 2: [2, 3], 3: [3, 4], 4: [0, 4]}\n",
    "#  Assignment is feasible.\n",
    "#  The maximum number of nights per physician is 2.\n",
    "#  \n",
    "#  Output assignment (part b): {0: [0, 1], 1: [1, 2], 2: [2, 3], 3: [3, 4], 4: [0, 4]}\n",
    "#  Assignment is feasible.\n",
    "#  The maximum number of nights per physician is 2."
   ]
  },
  {
   "cell_type": "code",
   "execution_count": 32,
   "metadata": {},
   "outputs": [
    {
     "name": "stdout",
     "output_type": "stream",
     "text": [
      "Output assignment (part a): {0: [0, 1, 5, 7], 1: [1, 2, 7, 9], 2: [2, 3, 6, 9], 3: [3, 4, 6, 8], 4: [0, 4, 5, 8]}\n",
      "Assignment is feasible.\n",
      "The maximum number of nights per physician is 4.\n",
      "\n",
      "Output assignment (part b): {0: [0, 1, 5, 7], 1: [1, 2, 7, 9], 2: [2, 3, 6, 9], 3: [3, 4, 6, 8], 4: [0, 4, 5, 8]}\n",
      "Assignment is feasible.\n",
      "The maximum number of nights per physician is 4.\n"
     ]
    }
   ],
   "source": [
    "# Instance 6\n",
    "# perfect 2:1 matching in two blocks\n",
    "n6 = 10\n",
    "q6 = 5\n",
    "W6 = [[0, 1, 5, 7], [1, 2, 7, 9], [2, 3, 9, 6], [3, 4, 6, 8], [0, 4, 8, 5]]\n",
    "alpha6 = [10] * q6\n",
    "N6 = [range(5), range(5, 10)]\n",
    "\n",
    "# Auxiliary graph\n",
    "# nx.draw_networkx(schedule_graph(n6, q6, W6, alpha6, N6))\n",
    "# plt.show()\n",
    "\n",
    "# Test\n",
    "test_schedule_ab(n6, q6, W6, alpha6, N6)\n",
    "# Expected output:\n",
    "#  Output assignment (part a): {0: [0, 1, 5, 7], 1: [1, 2, 7, 9], 2: [2, 3, 6, 9], 3: [3, 4, 6, 8], 4: [0, 4, 5, 8]}\n",
    "#  Assignment is feasible.\n",
    "#  The maximum number of nights per physician is 4.\n",
    "#  \n",
    "#  Output assignment (part b): {0: [0, 1, 5, 7], 1: [1, 2, 7, 9], 2: [2, 3, 6, 9], 3: [3, 4, 6, 8], 4: [0, 4, 5, 8]}\n",
    "#  Assignment is feasible.\n",
    "#  The maximum number of nights per physician is 4."
   ]
  },
  {
   "cell_type": "code",
   "execution_count": 33,
   "metadata": {},
   "outputs": [
    {
     "name": "stdout",
     "output_type": "stream",
     "text": [
      "Output assignment (part a): None\n",
      "Instance is infeasible.\n",
      "\n",
      "Output assignment (part b): None\n",
      "Instance is infeasible.\n"
     ]
    }
   ],
   "source": [
    "# Instance 7\n",
    "# three blocks, infeasible\n",
    "n7 = 9\n",
    "q7 = 5\n",
    "W7 = [[0, 1, 2, 3], [1, 2, 3, 4], [3, 4, 5, 6], [5, 6, 7, 8], [7, 8, 9, 10]]\n",
    "alpha7 = [4] * q7\n",
    "N7 = [range(3), range(3, 6), range(6, 9)]\n",
    "\n",
    "# Auxiliary graph\n",
    "# nx.draw_networkx(schedule_graph(n7, q7, W7, alpha7, N7))\n",
    "# plt.show()\n",
    "\n",
    "# Test\n",
    "test_schedule_ab(n7, q7, W7, alpha7, N7)\n",
    "# Expected output:\n",
    "#  Output assignment (part a): None\n",
    "#  Instance is infeasible.\n",
    "#  \n",
    "#  Output assignment (part b): None\n",
    "#  Instance is infeasible."
   ]
  },
  {
   "cell_type": "code",
   "execution_count": 34,
   "metadata": {},
   "outputs": [
    {
     "name": "stdout",
     "output_type": "stream",
     "text": [
      "Output assignment (part a): {0: [], 1: [], 2: [], 3: [0], 4: [1, 2, 3, 4, 5, 6, 7], 5: [0], 6: [1], 7: [2], 8: [3], 9: [4], 10: [5], 11: [6], 12: [7]}\n",
      "Assignment is feasible.\n",
      "The maximum number of nights per physician is 7.\n",
      "\n",
      "Output assignment (part b): {0: [5], 1: [4], 2: [3, 7], 3: [2, 6], 4: [0, 1], 5: [0], 6: [1], 7: [2], 8: [3], 9: [4], 10: [5], 11: [6], 12: [7]}\n",
      "Assignment is feasible.\n",
      "The maximum number of nights per physician is 2.\n"
     ]
    }
   ],
   "source": [
    "# Instance 8\n",
    "# \"one does all of them\"\n",
    "n8 = 8\n",
    "q8 = 13\n",
    "W8 = [[0,1,2,3,4,5,6,7], [0,1,2,3,4,5,6,7], [0,1,2,3,4,5,6,7], [0,1,2,3,4,5,6,7], [0,1,2,3,4,5,6,7], [0], [1], [2], [3], [4], [5], [6], [7]]\n",
    "alpha8 = [10] * q8\n",
    "N8 = [[0],[1],[2],[3],[4],[5],[6],[7]]\n",
    "\n",
    "# Auxiliary graph\n",
    "# nx.draw_networkx(schedule_graph(n8, q8, W8, alpha8, N8))\n",
    "# plt.show()\n",
    "\n",
    "# Test\n",
    "test_schedule_ab(n8, q8, W8, alpha8, N8)\n",
    "# Expected output:\n",
    "#  Output assignment (part a): {0: [0, 1], 1: [1, 2], 2: [2, 3], 3: [3, 4], 4: [0, 4]}\n",
    "#  Assignment is feasible.\n",
    "#  The maximum number of nights per physician is 2.\n",
    "#  \n",
    "#  Output assignment (part b): {0: [0, 1], 1: [1, 2], 2: [2, 3], 3: [3, 4], 4: [0, 4]}\n",
    "#  Assignment is feasible.\n",
    "#  The maximum number of nights per physician is 2."
   ]
  },
  {
   "cell_type": "code",
   "execution_count": 37,
   "metadata": {},
   "outputs": [
    {
     "name": "stdout",
     "output_type": "stream",
     "text": [
      "Output assignment (part a): {0: [8, 10, 11, 13], 1: [6], 2: [], 3: [], 4: [], 5: [10, 3, 13, 9, 12], 6: [6], 7: [14, 1, 8, 0], 8: [5], 9: [1], 10: [], 11: [2, 5, 3], 12: [4, 14, 12], 13: [7], 14: [2, 4, 0, 11, 7, 9]}\n",
      "Assignment is feasible.\n",
      "The maximum number of nights per physician is 6.\n",
      "\n",
      "Output assignment (part b): {0: [2, 4, 7], 1: [14, 6], 2: [], 3: [], 4: [], 5: [10, 13, 6], 6: [13, 9], 7: [14, 1, 8, 0], 8: [2, 11, 7, 12], 9: [1], 10: [], 11: [5, 3, 11, 12], 12: [4, 10, 3], 13: [5], 14: [8, 0, 9]}\n",
      "Assignment is feasible.\n",
      "The maximum number of nights per physician is 4.\n"
     ]
    }
   ],
   "source": [
    "# Instance 9\n",
    "# large random feasible\n",
    "random.seed(9)\n",
    "n9 = 15\n",
    "q9 = 15\n",
    "W9 = [random.sample(range(n9), random.randint(0, n9)) for j in range(q9)]\n",
    "alpha9 = [random.randint(0, 10) for j in range(q9)]\n",
    "N9 = [[] for l in range(4)]\n",
    "for i in range(n9):\n",
    "    random.choice(N9).append(i)\n",
    "\n",
    "# Auxiliary graph\n",
    "# nx.draw_networkx(schedule_graph(n9, q9, W9, alpha9, N9))\n",
    "# plt.show()\n",
    "\n",
    "# Test\n",
    "test_schedule_ab(n9, q9, W9, alpha9, N9)\n",
    "# Example output:\n",
    "#  Output assignment (part a): {0: [2, 5, 8, 11, 13], 1: [7], 2: [], 3: [], 4: [], 5: [5, 10, 13], 6: [], 7: [0, 1, 8, 14], 8: [3], 9: [1], 10: [], 11: [2, 3, 6], 12: [4, 7, 12], 13: [6, 9], 14: [0, 4, 9, 10, 11, 12, 14]}\n",
    "#  Assignment is feasible.\n",
    "#  The maximum number of nights per physician is 7.\n",
    "#  \n",
    "#  Output assignment (part b): {0: [2, 12, 13], 1: [11], 2: [], 3: [], 4: [], 5: [5, 9, 10], 6: [11, 12], 7: [0, 1, 8, 14], 8: [2, 3], 9: [1], 10: [], 11: [0, 5, 6, 7], 12: [3, 10, 13, 14], 13: [4, 6], 14: [4, 7, 8, 9]}\n",
    "#  Assignment is feasible.\n",
    "#  The maximum number of nights per physician is 4."
   ]
  },
  {
   "cell_type": "code",
   "execution_count": 36,
   "metadata": {},
   "outputs": [
    {
     "name": "stdout",
     "output_type": "stream",
     "text": [
      "Output assignment (part a): None\n",
      "Instance is infeasible.\n",
      "\n",
      "Output assignment (part b): None\n",
      "Instance is infeasible.\n"
     ]
    }
   ],
   "source": [
    "# Instance 10\n",
    "# large random infeasible\n",
    "random.seed(4)\n",
    "n10 = 20\n",
    "q10 = 20\n",
    "W10 = [random.sample(range(n10), random.randint(0, 13)) for j in range(q10)]\n",
    "alpha10 = [random.randint(0, 10) for j in range(q10)]\n",
    "N10 = [[] for l in range(5)]\n",
    "for i in range(n10):\n",
    "    random.choice(N10).append(i)\n",
    "\n",
    "# Auxiliary graph\n",
    "# nx.draw_networkx(schedule_graph(n10, q10, W10, alpha10, N10))\n",
    "# plt.show()\n",
    "\n",
    "# Test\n",
    "test_schedule_ab(n10, q10, W10, alpha10, N10)\n",
    "# Example output:\n",
    "#  Output assignment (part a): None\n",
    "#  Instance is infeasible.\n",
    "#  \n",
    "#  Output assignment (part b): None\n",
    "#  Instance is infeasible."
   ]
  },
  {
   "cell_type": "markdown",
   "metadata": {},
   "source": [
    "If you want to generate more testing instances, you can also change the seeds in the random instances above (or, of course, create your own)!"
   ]
  },
  {
   "cell_type": "code",
   "execution_count": null,
   "metadata": {},
   "outputs": [],
   "source": []
  }
 ],
 "metadata": {
  "kernelspec": {
   "display_name": ".venv",
   "language": "python",
   "name": "python3"
  },
  "language_info": {
   "codemirror_mode": {
    "name": "ipython",
    "version": 3
   },
   "file_extension": ".py",
   "mimetype": "text/x-python",
   "name": "python",
   "nbconvert_exporter": "python",
   "pygments_lexer": "ipython3",
   "version": "3.12.3"
  }
 },
 "nbformat": 4,
 "nbformat_minor": 4
}
