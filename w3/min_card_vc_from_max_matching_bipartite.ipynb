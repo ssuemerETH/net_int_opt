{
 "cells": [
  {
   "cell_type": "markdown",
   "metadata": {},
   "source": [
    "# Computing a minimum cardinality vertex cover from a maximum cardinality matching in bipartite graphs\n",
    "\n",
    "<b>Goal:</b> Implement an algorithm that computes a minimum cardinality vertex cover from a maximum cardinality matching in a bipartite graph."
   ]
  },
  {
   "cell_type": "markdown",
   "metadata": {},
   "source": [
    "Below, we provide a framework for your solution (the signature of the function `min_vertex_cover()` that you need to implement) and example instances to test your implementation."
   ]
  },
  {
   "cell_type": "markdown",
   "metadata": {},
   "source": [
    "## Implementation "
   ]
  },
  {
   "cell_type": "code",
   "execution_count": 1,
   "metadata": {},
   "outputs": [],
   "source": [
    "import matplotlib.pyplot as plt\n",
    "import networkx as nx"
   ]
  },
  {
   "cell_type": "code",
   "execution_count": 2,
   "metadata": {},
   "outputs": [],
   "source": [
    "def min_vertex_cover(G, M = None):\n",
    "    '''Computes a minimum cardinality vertex cover.\n",
    "    \n",
    "    Args:\n",
    "        G: A bipartite networkx graph.\n",
    "        M: A maximum cardinality matching to start from (provided as a set of pairs of vertices). \n",
    "           If no matching is provided, a maximum cardinality matching will be calculated by the algorithm.\n",
    "    \n",
    "    Returns:\n",
    "        A list of vertices in a minimum cardinality vertex cover.\n",
    "    '''\n",
    "    \n",
    "    # Calculate a maximum cardinality matching if none was provided\n",
    "    M = M if M != None else nx.max_weight_matching(G)\n",
    "\n",
    "    # Write your implementation here\n",
    "\n",
    "    # Find bipartition\n",
    "    colors = nx.algorithms.bipartite.color(G)\n",
    "\n",
    "    X = {node for node, color in colors.items() if color == 0}\n",
    "    Y = {node for node, color in colors.items() if color == 1}\n",
    "\n",
    "    # Decode matching to a mate map, so that lookup for a vertex being exposed is easier\n",
    "    mate_map = {}\n",
    "    for (u, v) in M:\n",
    "        mate_map[u] = v\n",
    "        mate_map[v] = u\n",
    "    \n",
    "    # Construct auxiliary directed graph\n",
    "    dG = nx.DiGraph()\n",
    "    dG.add_nodes_from(G.nodes())\n",
    "\n",
    "    for (u, v) in G.edges():\n",
    "        if u in Y:\n",
    "            u, v = v, u\n",
    "        \n",
    "        if u not in mate_map or mate_map[u] != v:\n",
    "            dG.add_edge(u, v)\n",
    "        else:\n",
    "            dG.add_edge(v, u)\n",
    "    \n",
    "    # Run BFS in auxiliary graph\n",
    "    L = set()\n",
    "    for x in X:\n",
    "        if x not in mate_map:\n",
    "            for node in nx.bfs_tree(dG, x):\n",
    "                L.add(node)\n",
    "    \n",
    "    # Return vertex cover\n",
    "    return list((X - L) | (Y & L))"
   ]
  },
  {
   "cell_type": "markdown",
   "metadata": {},
   "source": [
    "---"
   ]
  },
  {
   "cell_type": "markdown",
   "metadata": {},
   "source": [
    "## Testing\n",
    "\n",
    "Use the function below to test your implementation.\n",
    "\n",
    "<b>Add-on:</b> Modify the testing function below so that it does not only check correctness of the algorithm, but does also draw the graph with the maximum cardinality matching and the minimum cardinality vertex cover highlighted."
   ]
  },
  {
   "cell_type": "code",
   "execution_count": 3,
   "metadata": {},
   "outputs": [],
   "source": [
    "def test_min_vertex_cover(G):\n",
    "    '''Checks if min_vertex_cover() works correctly on a given instance.\n",
    "    \n",
    "    Args:\n",
    "        G: A bipartite netowrkx graph.\n",
    "    \n",
    "    Returns:\n",
    "        True if min_vertex_cover() returned a minimum vertex cover for G and False otherwise.\n",
    "    '''\n",
    "    \n",
    "    M = nx.max_weight_matching(G)\n",
    "    C = min_vertex_cover(G, M)\n",
    "    \n",
    "    for u, v in G.edges:\n",
    "        if not u in C and not v in C:\n",
    "            # C is not a vertex cover\n",
    "            return False\n",
    "    \n",
    "    if len(C) != len(M):\n",
    "        # C is not minimial\n",
    "        return False\n",
    "    \n",
    "    # C is a min vertex cover\n",
    "    return True"
   ]
  },
  {
   "cell_type": "code",
   "execution_count": 4,
   "metadata": {},
   "outputs": [
    {
     "name": "stdout",
     "output_type": "stream",
     "text": [
      "True\n"
     ]
    }
   ],
   "source": [
    "# Instance 1\n",
    "instance_1 = nx.complete_bipartite_graph(4, 5)\n",
    "\n",
    "print(test_min_vertex_cover(instance_1))"
   ]
  },
  {
   "cell_type": "code",
   "execution_count": 5,
   "metadata": {},
   "outputs": [
    {
     "name": "stdout",
     "output_type": "stream",
     "text": [
      "True\n"
     ]
    }
   ],
   "source": [
    "# Instance 1\n",
    "instance_2 = nx.complete_bipartite_graph(7, 6)\n",
    "\n",
    "print(test_min_vertex_cover(instance_2))"
   ]
  },
  {
   "cell_type": "code",
   "execution_count": 6,
   "metadata": {},
   "outputs": [
    {
     "name": "stdout",
     "output_type": "stream",
     "text": [
      "True\n"
     ]
    }
   ],
   "source": [
    "# Instance 3\n",
    "instance_3 = nx.empty_graph(8)\n",
    "\n",
    "print(test_min_vertex_cover(instance_3))"
   ]
  },
  {
   "cell_type": "code",
   "execution_count": 7,
   "metadata": {},
   "outputs": [
    {
     "name": "stdout",
     "output_type": "stream",
     "text": [
      "True\n"
     ]
    }
   ],
   "source": [
    "# Instance 4\n",
    "instance_4 = nx.Graph()\n",
    "instance_4.add_edges_from([(0, 7), (1, 5), (1, 6), (2, 5), (2, 8), (3, 7), (4, 6), (4, 8)])\n",
    "\n",
    "print(test_min_vertex_cover(instance_4))"
   ]
  },
  {
   "cell_type": "code",
   "execution_count": 8,
   "metadata": {},
   "outputs": [
    {
     "name": "stdout",
     "output_type": "stream",
     "text": [
      "True\n"
     ]
    }
   ],
   "source": [
    "# Instance 5\n",
    "# Play with the parameters of the random graph to explore more examples!\n",
    "instance_5 = nx.bipartite.random_graph(10, 10, 0.25)\n",
    "\n",
    "print(test_min_vertex_cover(instance_5))"
   ]
  }
 ],
 "metadata": {
  "kernelspec": {
   "display_name": ".venv",
   "language": "python",
   "name": "python3"
  },
  "language_info": {
   "codemirror_mode": {
    "name": "ipython",
    "version": 3
   },
   "file_extension": ".py",
   "mimetype": "text/x-python",
   "name": "python",
   "nbconvert_exporter": "python",
   "pygments_lexer": "ipython3",
   "version": "3.12.3"
  }
 },
 "nbformat": 4,
 "nbformat_minor": 4
}
