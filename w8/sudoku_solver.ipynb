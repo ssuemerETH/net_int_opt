{
 "cells": [
  {
   "cell_type": "markdown",
   "metadata": {},
   "source": [
    "# Exercise: Implementing a Sudoku solver and testing for uniqueness\n",
    "\n",
    "<b>Goal:</b> In this exercise, we implement a Sudoku solver using an integer program and Python-MIP. As an extra result, we will also see how such a solver can be used to test uniqueness of a solution to a given Sudoku puzzle.\n",
    "\n",
    "---"
   ]
  },
  {
   "cell_type": "markdown",
   "metadata": {},
   "source": [
    "## Solving a Sudoku puzzle: Modeling with integer variables\n",
    "\n",
    "As you most likely all know, a Sudoku is puzzle where the goal is to fill in the cells of a 9x9 grid with integers from $1$ to $9$ such that\n",
    "- there is precisely one number per cell,\n",
    "- no row contains two equal numbers,\n",
    "- no column contains two equal numbers, and\n",
    "- no one of the nine 3x3 squares that the grid can be partitioned in contains two equal numbers.\n",
    "\n",
    "An example of a Sudoku puzzle is given below.\n",
    "\n",
    "<div style=\"background-color:white\">\n",
    "<center>\n",
    "    <img src=\"sudoku_solver_example.png\", style=\"padding-top: 10px;\">\n",
    "</center>\n",
    "</div>"
   ]
  },
  {
   "cell_type": "markdown",
   "metadata": {},
   "source": [
    "To solve such a Sudoku puzzle, we have to decide which numbers to assign to which cell. These decisions can be easily modelled by integral decision variables $x_{ijk}$ for $i,j,k\\in\\{1,\\ldots,9\\}$ such that\n",
    "\n",
    "$$\n",
    "x_{ijk} = \\begin{cases} 1 & \\text{if cell $(i,j)$ of the Sudoku contains number $k$}\\\\ 0 & \\text{else} \\end{cases}\\enspace. \n",
    "$$\n",
    "\n",
    "The question is how to set up suitable constraints that guarantee that a feasible $\\{0,1\\}$-point $x$ does indeed correspond to a solution of the Sudoku.\n"
   ]
  },
  {
   "cell_type": "markdown",
   "metadata": {},
   "source": [
    "<b>Your first task:</b> Come up with linear constraints in the variables $x_{ijk}$ that model the conditions imposed on a valid Sudoku solution, i.e., make sure that any $\\{0,1\\}$-solution of your system corresponds to a feasible solution of a given Sudoku."
   ]
  },
  {
   "cell_type": "markdown",
   "metadata": {},
   "source": [
    "#### We use zero-based indexing for grid cells so that translation to code is straightforward.\n",
    "\n",
    "\\begin{align*}\n",
    "x_{ijk} &= 1 \\text{ for all cells $(i, j)$ of the Sudoku that already contain the number $k$} \\\\\n",
    "\\sum_{k = 1}^9 x_{ijk} &= 1 \\text{ for all $i, j \\in \\{0, \\dots, 8\\}$} \\\\\n",
    "\\sum_{j = 0}^8 x_{ijk} &= 1 \\text{ for all $i \\in \\{0, \\dots, 8\\}$ and $k \\in [9]$} \\\\\n",
    "\\sum_{i = 0}^8 x_{ijk} &= 1 \\text{ for all $j \\in \\{0, \\dots, 8\\}$ and $k \\in [9]$} \\\\\n",
    "\\sum_{i = 3r}^{3r + 2} \\sum_{j = 3c}^{3c + 2} x_{ijk} &= 1 \\text{ for all $r, c \\in \\{0, 1, 2\\}$ and $k \\in [9]$} \\\\\n",
    "x_{ijk} &\\in \\{0, 1\\} \\text{ for all $i, j \\in \\{0, \\dots, 8\\}$ and $k \\in [9]$}\n",
    "\\end{align*}"
   ]
  },
  {
   "cell_type": "markdown",
   "metadata": {},
   "source": [
    "---\n",
    "\n",
    "## Implementing integer programs in Python-MIP\n",
    "\n",
    "Implementing integer programs in Python-MIP is almost the same as implementing linear programs - except that you'll have to declare that you want to put integrality conditions on your variables. Check out the simple IP below."
   ]
  },
  {
   "cell_type": "code",
   "execution_count": 1,
   "metadata": {},
   "outputs": [
    {
     "name": "stdout",
     "output_type": "stream",
     "text": [
      "Welcome to the CBC MILP Solver \n",
      "Version: Trunk\n",
      "Build Date: Oct 24 2021 \n",
      "\n",
      "Starting solution of the Linear programming relaxation problem using Primal Simplex\n",
      "\n",
      "Coin0506I Presolve 0 (-1) rows, 0 (-1) columns and 0 (-1) elements\n",
      "Clp0000I Optimal - objective value 4.5\n",
      "Coin0511I After Postsolve, objective 4.5, infeasibilities - dual 0 (0), primal 0 (0)\n",
      "Clp0032I Optimal objective 4.5 - 0 iterations time 0.002, Presolve 0.00\n",
      "\n",
      "Starting MIP optimization\n",
      "Cgl0004I processed model has 0 rows, 0 columns (0 integer (0 of which binary)) and 0 elements\n",
      "Cgl0015I Clique Strengthening extended 0 cliques, 0 were dominated\n",
      "Cbc3007W No integer variables\n",
      "Total time (CPU seconds):       0.00   (Wallclock seconds):       0.00\n",
      "\n"
     ]
    },
    {
     "data": {
      "text/plain": [
       "<OptimizationStatus.OPTIMAL: 0>"
      ]
     },
     "execution_count": 1,
     "metadata": {},
     "output_type": "execute_result"
    }
   ],
   "source": [
    "import mip\n",
    "\n",
    "simpleProblem = mip.Model(name=\"Simple IP example\", sense=mip.MINIMIZE)\n",
    "\n",
    "x = simpleProblem.add_var(name=\"x\", var_type=mip.INTEGER)\n",
    "\n",
    "simpleProblem.objective = x\n",
    "\n",
    "simpleProblem += x >= 4.5\n",
    "\n",
    "simpleProblem.optimize()"
   ]
  },
  {
   "cell_type": "code",
   "execution_count": 2,
   "metadata": {},
   "outputs": [
    {
     "name": "stdout",
     "output_type": "stream",
     "text": [
      "5.0\n"
     ]
    }
   ],
   "source": [
    "print(x.x)"
   ]
  },
  {
   "cell_type": "markdown",
   "metadata": {},
   "source": [
    "As you can see, the `add_var` takes an additional (optional) argument `var_type`, which we can set to `INTEGER`, `BINARY` or `CONTINUOUS` (the latter one being the default). Thus, for the Sudoku problem above, you might want to use binary variables."
   ]
  },
  {
   "cell_type": "markdown",
   "metadata": {},
   "source": [
    "<b>Your second task:</b> Implement the constraints that you came up with in the first task in an integer program, and use it to find a solution to an input Sudoku problem. Observe that this is a pure feasibility problem, so you can use an IP with a constant objective.\n",
    "\n",
    "To this end, you can assume that the Sudoku is given to you as a list of $81$ values, each representing a cell of the Sudoku read row by row from left to right; where a $0$ indicates an empty cell. An example is given below. Note that there also is a function to display a Sudoku that is given in the above form.\n",
    "\n",
    "Make sure that your function returns the Sudoku in the same format as the input."
   ]
  },
  {
   "cell_type": "code",
   "execution_count": 4,
   "metadata": {},
   "outputs": [
    {
     "name": "stdout",
     "output_type": "stream",
     "text": [
      "╔═══╤═══╤═══╦═══╤═══╤═══╦═══╤═══╤═══╗\n",
      "║ 4 │   │ 7 ║   │   │   ║   │   │   ║\n",
      "╟───┼───┼───╫───┼───┼───╫───┼───┼───╢\n",
      "║   │ 3 │ 5 ║   │ 9 │ 7 ║ 4 │   │   ║\n",
      "╟───┼───┼───╫───┼───┼───╫───┼───┼───╢\n",
      "║   │ 9 │   ║   │   │   ║   │   │ 6 ║\n",
      "╠═══╪═══╪═══╬═══╪═══╪═══╬═══╪═══╪═══╣\n",
      "║   │   │   ║ 3 │   │ 2 ║   │   │   ║\n",
      "╟───┼───┼───╫───┼───┼───╫───┼───┼───╢\n",
      "║ 6 │   │   ║   │ 8 │   ║   │   │   ║\n",
      "╟───┼───┼───╫───┼───┼───╫───┼───┼───╢\n",
      "║   │   │   ║   │   │   ║ 5 │   │   ║\n",
      "╠═══╪═══╪═══╬═══╪═══╪═══╬═══╪═══╪═══╣\n",
      "║   │   │   ║ 4 │   │   ║   │ 1 │ 8 ║\n",
      "╟───┼───┼───╫───┼───┼───╫───┼───┼───╢\n",
      "║   │   │ 3 ║   │ 2 │ 8 ║   │   │ 4 ║\n",
      "╟───┼───┼───╫───┼───┼───╫───┼───┼───╢\n",
      "║ 5 │   │ 4 ║   │   │   ║   │ 9 │ 7 ║\n",
      "╚═══╧═══╧═══╩═══╧═══╧═══╩═══╧═══╧═══╝\n",
      "\n"
     ]
    }
   ],
   "source": [
    "# Example Sudoku input and Sudoku printing\n",
    "\n",
    "sudoku1 = [4, 0, 7, 0, 0, 0, 0, 0, 0, \n",
    "           0, 3, 5, 0, 9, 7, 4, 0, 0, \n",
    "           0, 9, 0, 0, 0, 0, 0, 0, 6, \n",
    "           0, 0, 0, 3, 0, 2, 0, 0, 0, \n",
    "           6, 0, 0, 0, 8, 0, 0, 0, 0, \n",
    "           0, 0, 0, 0, 0, 0, 5, 0, 0, \n",
    "           0, 0, 0, 4, 0, 0, 0, 1, 8, \n",
    "           0, 0, 3, 0, 2, 8, 0, 0, 4, \n",
    "           5, 0, 4, 0, 0, 0, 0, 9, 7]\n",
    "\n",
    "def printSudoku(sudoku):\n",
    "    # compact Sudoku printing function\n",
    "    # taken from https://codegolf.stackexchange.com/questions/126930/\n",
    "    #    draw-a-sudoku-board-using-line-drawing-characters\n",
    "    q = lambda x,y:x+y+x+y+x\n",
    "    r = lambda a,b,c,d,e:a+q(q(b*3,c),d)+e+\"\\n\"\n",
    "    print(((r(*\"╔═╤╦╗\") + q(q(\"║ %d │ %d │ %d \"*3 + \"║\\n\",r(*\"╟─┼╫╢\")), r(*\"╠═╪╬╣\")) +\n",
    "            r(*\"╚═╧╩╝\")) % tuple(sudoku)).replace(*\"0 \"))\n",
    "\n",
    "printSudoku(sudoku1)"
   ]
  },
  {
   "cell_type": "code",
   "execution_count": 28,
   "metadata": {},
   "outputs": [],
   "source": [
    "# Implementation of a Sudoku solver\n",
    "\n",
    "def sudokuSolver(inputSudoku):\n",
    "    \n",
    "    ## Your code goes here.\n",
    "    sudoku_lp = mip.Model(name=\"sudoku\", sense=mip.MINIMIZE)\n",
    "    vars = [[[sudoku_lp.add_var(name=f\"x_{i}{j}{k}\", var_type=mip.BINARY) for k in range(1, 10)] for j in range(9)] for i in range(9)] # create variables\n",
    "\n",
    "    # third index is one-based, use this function for easier access\n",
    "    def gv(i, j, k):\n",
    "        return vars[i][j][k - 1]\n",
    "    \n",
    "    # already occupied cells\n",
    "    for i in range(9):\n",
    "        for j in range(9):\n",
    "            k = inputSudoku[9 * i + j]\n",
    "            if k > 0:\n",
    "                sudoku_lp += gv(i, j, k) == 1.0\n",
    "    \n",
    "    # every cell contains exactly one number \n",
    "    for i in range(9):\n",
    "        for j in range(9):\n",
    "            sudoku_lp += mip.xsum(gv(i, j, k) for k in range(1, 10)) == 1\n",
    "\n",
    "    # every row contains every number exactly once\n",
    "    for i in range(9):\n",
    "        for k in range(1, 10):\n",
    "            sudoku_lp += mip.xsum(gv(i, j, k) for j in range(9)) == 1\n",
    "    \n",
    "    # every column contains every number exactly once\n",
    "    for j in range(9):\n",
    "        for k in range(1, 10):\n",
    "            sudoku_lp += mip.xsum(gv(i, j, k) for i in range(9)) == 1\n",
    "\n",
    "    # every 3x3 subgrid contains every number exactly once\n",
    "    for r in range(3):\n",
    "        for c in range(3):\n",
    "            for k in range(1, 10):\n",
    "                sudoku_lp += mip.xsum(gv(i, j, k) for i in range(3 * r, 3 * r + 3) for j in range(3 * c, 3 * c + 3)) == 1\n",
    "\n",
    "    sudoku_lp.optimize()\n",
    "    if sudoku_lp.status == mip.OptimizationStatus.INFEASIBLE:\n",
    "        return (None, sudoku_lp, vars)\n",
    "\n",
    "    outputSudoku = []\n",
    "\n",
    "    # translate IP output back to sudoku\n",
    "    for i in range(9):\n",
    "        for j in range(9):\n",
    "            for k in range(1, 10):\n",
    "                if gv(i, j, k).x == 1.0:\n",
    "                    outputSudoku.append(k)\n",
    "                    break\n",
    "\n",
    "    return (outputSudoku, sudoku_lp, vars)"
   ]
  },
  {
   "cell_type": "code",
   "execution_count": 29,
   "metadata": {},
   "outputs": [
    {
     "name": "stdout",
     "output_type": "stream",
     "text": [
      "Starting solution of the Linear programming relaxation problem using Primal Simplex\n",
      "\n",
      "Coin0506I Presolve 0 (-349) rows, 0 (-729) columns and 0 (-2941) elements\n",
      "Clp0000I Optimal - objective value 0\n",
      "Coin0511I After Postsolve, objective 0, infeasibilities - dual 0 (0), primal 0 (0)\n",
      "Clp0032I Optimal objective 0 - 0 iterations time 0.002, Presolve 0.00, Idiot 0.00\n",
      "\n",
      "Starting MIP optimization\n",
      "Cgl0004I processed model has 0 rows, 0 columns (0 integer (0 of which binary)) and 0 elements\n",
      "Cgl0015I Clique Strengthening extended 0 cliques, 0 were dominated\n",
      "Cbc3007W No integer variables\n",
      "Total time (CPU seconds):       0.00   (Wallclock seconds):       0.00\n",
      "\n",
      "╔═══╤═══╤═══╦═══╤═══╤═══╦═══╤═══╤═══╗\n",
      "║ 4 │ 6 │ 7 ║ 2 │ 1 │ 3 ║ 9 │ 8 │ 5 ║\n",
      "╟───┼───┼───╫───┼───┼───╫───┼───┼───╢\n",
      "║ 8 │ 3 │ 5 ║ 6 │ 9 │ 7 ║ 4 │ 2 │ 1 ║\n",
      "╟───┼───┼───╫───┼───┼───╫───┼───┼───╢\n",
      "║ 1 │ 9 │ 2 ║ 8 │ 4 │ 5 ║ 7 │ 3 │ 6 ║\n",
      "╠═══╪═══╪═══╬═══╪═══╪═══╬═══╪═══╪═══╣\n",
      "║ 7 │ 5 │ 1 ║ 3 │ 6 │ 2 ║ 8 │ 4 │ 9 ║\n",
      "╟───┼───┼───╫───┼───┼───╫───┼───┼───╢\n",
      "║ 6 │ 2 │ 9 ║ 5 │ 8 │ 4 ║ 1 │ 7 │ 3 ║\n",
      "╟───┼───┼───╫───┼───┼───╫───┼───┼───╢\n",
      "║ 3 │ 4 │ 8 ║ 9 │ 7 │ 1 ║ 5 │ 6 │ 2 ║\n",
      "╠═══╪═══╪═══╬═══╪═══╪═══╬═══╪═══╪═══╣\n",
      "║ 2 │ 7 │ 6 ║ 4 │ 5 │ 9 ║ 3 │ 1 │ 8 ║\n",
      "╟───┼───┼───╫───┼───┼───╫───┼───┼───╢\n",
      "║ 9 │ 1 │ 3 ║ 7 │ 2 │ 8 ║ 6 │ 5 │ 4 ║\n",
      "╟───┼───┼───╫───┼───┼───╫───┼───┼───╢\n",
      "║ 5 │ 8 │ 4 ║ 1 │ 3 │ 6 ║ 2 │ 9 │ 7 ║\n",
      "╚═══╧═══╧═══╩═══╧═══╧═══╩═══╧═══╧═══╝\n",
      "\n"
     ]
    }
   ],
   "source": [
    "printSudoku(sudokuSolver(sudoku1)[0])"
   ]
  },
  {
   "cell_type": "markdown",
   "metadata": {},
   "source": [
    "---\n",
    "\n",
    "## Checking for uniqueness of the Sudoku solutions\n",
    "\n",
    "Sudokus are generally agreed to only be \"real\" Sudokus if they have a unique Solution.\n",
    "\n",
    "<b>Your third task:</b> Implement a function that checks whether a Sudoko has no solution, a unique solution, or more than one solution! You can reuse the code that you generated for the Sudoku solver above. The function should return a tuple `(n, sol)`, where $n\\in\\{0, 1, 2\\}$ depending on whether the Sudoku has zero, one, or at least two solutions, respectively, and `sol` is a list of zero, one, or two solutions of the Sudoku.\n",
    "\n",
    "If you want a hint, run the following code cell. Do not run it if you want to think about the problem yourself! :)"
   ]
  },
  {
   "cell_type": "code",
   "execution_count": 38,
   "metadata": {},
   "outputs": [
    {
     "name": "stdout",
     "output_type": "stream",
     "text": [
      "Hint: Observe that solving a Sudoku did not use the objective function of the IP. Once you found one solution, can you exploit the fact that you can choose the objective to see if you can find another solution?\n"
     ]
    }
   ],
   "source": [
    "## Running this cell will display a hint!\n",
    "\n",
    "encoded = [79, 98, 115, 101, 114, 118, 101, 32, 116, 104, 97, 116, 32, 115, 111, 108, 118, 105, 110, 103, 32, 97, 32, 83, 117, 100, 111, 107, 117, 32, 100, 105, 100, 32, 110, 111, 116, 32, 117, 115, 101, 32, 116, 104, 101, 32, 111, 98, 106, 101, 99, 116, 105, 118, 101, 32, 102, 117, 110, 99, 116, 105, 111, 110, 32, 111, 102, 32, 116, 104, 101, 32, 73, 80, 46, 32, 79, 110, 99, 101, 32, 121, 111, 117, 32, 102, 111, 117, 110, 100, 32, 111, 110, 101, 32, 115, 111, 108, 117, 116, 105, 111, 110, 44, 32, 99, 97, 110, 32, 121, 111, 117, 32, 101, 120, 112, 108, 111, 105, 116, 32, 116, 104, 101, 32, 102, 97, 99, 116, 32, 116, 104, 97, 116, 32, 121, 111, 117, 32, 99, 97, 110, 32, 99, 104, 111, 111, 115, 101, 32, 116, 104, 101, 32, 111, 98, 106, 101, 99, 116, 105, 118, 101, 32, 116, 111, 32, 115, 101, 101, 32, 105, 102, 32, 121, 111, 117, 32, 99, 97, 110, 32, 102, 105, 110, 100, 32, 97, 110, 111, 116, 104, 101, 114, 32, 115, 111, 108, 117, 116, 105, 111, 110, 63]\n",
    "print('Hint: ' + ''.join([chr(x) for x in encoded]))"
   ]
  },
  {
   "cell_type": "code",
   "execution_count": null,
   "metadata": {},
   "outputs": [],
   "source": [
    "def numberOfSolutions(inputSudoku):\n",
    "    \n",
    "    ## Your code goes here.\n",
    "    sol1, lp, vars = sudokuSolver(inputSudoku)\n",
    "    if not sol1:\n",
    "        return (0, [])\n",
    "    \n",
    "    # third index is one-based, use this function for easier access\n",
    "    def gv(i, j, k):\n",
    "        return vars[i][j][k - 1]\n",
    "\n",
    "    # add all variables that are set to one in sol1 to current objective, there are 81 such variables\n",
    "    lp += mip.xsum(gv(i, j, sol1[9 * i + j]) for i in range(9) for j in range(9))\n",
    "\n",
    "    lp.optimize()\n",
    "\n",
    "    # try to minimize the above sum, if the minimum is less than 81, another solution is found, otherwise sol1 is the unique solution\n",
    "    if lp.objective_value == 9 * 9:\n",
    "        return (1, [sol1])\n",
    "\n",
    "    # construct the newly found solution\n",
    "    sol2 = []\n",
    "\n",
    "    # translate IP output back to sudoku\n",
    "    for i in range(9):\n",
    "        for j in range(9):\n",
    "            for k in range(1, 10):\n",
    "                if gv(i, j, k).x == 1.0:\n",
    "                    sol2.append(k)\n",
    "                    break\n",
    "    \n",
    "    return (2, [sol1, sol2])"
   ]
  },
  {
   "cell_type": "markdown",
   "metadata": {},
   "source": [
    "---\n",
    "\n",
    "## Testing your code\n",
    "\n",
    "Among the following three Sudokus, there is one from each category that your function `numberOfSolutions()` should be able to distinguish: One has no solution, one has a unique Solution, and one has two Solutions. Test your implementation on these Sudokus!"
   ]
  },
  {
   "cell_type": "code",
   "execution_count": null,
   "metadata": {},
   "outputs": [
    {
     "name": "stdout",
     "output_type": "stream",
     "text": [
      "╔═══╤═══╤═══╦═══╤═══╤═══╦═══╤═══╤═══╗\n",
      "║ 2 │   │   ║   │   │   ║   │ 4 │   ║\n",
      "╟───┼───┼───╫───┼───┼───╫───┼───┼───╢\n",
      "║ 1 │   │   ║   │   │   ║   │   │ 7 ║\n",
      "╟───┼───┼───╫───┼───┼───╫───┼───┼───╢\n",
      "║ 8 │   │ 6 ║ 3 │   │   ║   │   │   ║\n",
      "╠═══╪═══╪═══╬═══╪═══╪═══╬═══╪═══╪═══╣\n",
      "║   │ 5 │   ║   │   │ 7 ║ 3 │   │ 1 ║\n",
      "╟───┼───┼───╫───┼───┼───╫───┼───┼───╢\n",
      "║   │   │ 3 ║   │ 1 │   ║   │   │   ║\n",
      "╟───┼───┼───╫───┼───┼───╫───┼───┼───╢\n",
      "║   │   │ 2 ║   │   │ 3 ║ 7 │ 5 │ 4 ║\n",
      "╠═══╪═══╪═══╬═══╪═══╪═══╬═══╪═══╪═══╣\n",
      "║   │   │ 7 ║   │   │ 5 ║   │   │   ║\n",
      "╟───┼───┼───╫───┼───┼───╫───┼───┼───╢\n",
      "║ 5 │   │   ║   │ 4 │   ║   │   │   ║\n",
      "╟───┼───┼───╫───┼───┼───╫───┼───┼───╢\n",
      "║   │   │   ║ 1 │ 7 │   ║   │   │ 8 ║\n",
      "╚═══╧═══╧═══╩═══╧═══╧═══╩═══╧═══╧═══╝\n",
      "\n"
     ]
    }
   ],
   "source": [
    "sudoku2 = [2, 0, 0, 0, 0, 0, 0, 4, 0, \n",
    "           1, 0, 0, 0, 0, 0, 0, 0, 7,\n",
    "           8, 0, 6, 3, 0, 0, 0, 0, 0,\n",
    "           0, 5, 0, 0, 0, 7, 3, 0, 1, \n",
    "           0, 0, 3, 0, 1, 0, 0, 0, 0, \n",
    "           0, 0, 2, 0, 0, 3, 7, 5, 4, \n",
    "           0, 0, 7, 0, 0, 5, 0, 0, 0, \n",
    "           5, 0, 0, 0, 4, 0, 0, 0, 0, \n",
    "           0, 0, 0, 1, 7, 0, 0, 0, 8]\n",
    "printSudoku(sudoku2)\n",
    "# 0 solutions"
   ]
  },
  {
   "cell_type": "code",
   "execution_count": null,
   "metadata": {},
   "outputs": [
    {
     "name": "stdout",
     "output_type": "stream",
     "text": [
      "╔═══╤═══╤═══╦═══╤═══╤═══╦═══╤═══╤═══╗\n",
      "║   │   │   ║ 6 │   │ 7 ║   │   │   ║\n",
      "╟───┼───┼───╫───┼───┼───╫───┼───┼───╢\n",
      "║   │   │   ║   │   │   ║   │ 9 │ 8 ║\n",
      "╟───┼───┼───╫───┼───┼───╫───┼───┼───╢\n",
      "║ 3 │   │   ║   │   │   ║   │   │   ║\n",
      "╠═══╪═══╪═══╬═══╪═══╪═══╬═══╪═══╪═══╣\n",
      "║   │   │   ║   │ 2 │   ║ 6 │   │   ║\n",
      "╟───┼───┼───╫───┼───┼───╫───┼───┼───╢\n",
      "║   │   │   ║   │   │   ║ 7 │   │   ║\n",
      "╟───┼───┼───╫───┼───┼───╫───┼───┼───╢\n",
      "║   │ 4 │   ║   │ 8 │   ║   │   │   ║\n",
      "╠═══╪═══╪═══╬═══╪═══╪═══╬═══╪═══╪═══╣\n",
      "║ 1 │   │   ║   │   │   ║   │ 2 │ 3 ║\n",
      "╟───┼───┼───╫───┼───┼───╫───┼───┼───╢\n",
      "║   │   │ 8 ║ 9 │   │   ║   │   │   ║\n",
      "╟───┼───┼───╫───┼───┼───╫───┼───┼───╢\n",
      "║   │   │   ║ 4 │   │   ║ 1 │   │   ║\n",
      "╚═══╧═══╧═══╩═══╧═══╧═══╩═══╧═══╧═══╝\n",
      "\n"
     ]
    }
   ],
   "source": [
    "sudoku3 = [0, 0, 0, 6, 0, 7, 0, 0, 0, \n",
    "           0, 0, 0, 0, 0, 0, 0, 9, 8,\n",
    "           3, 0, 0, 0, 0, 0, 0, 0, 0,\n",
    "           0, 0, 0, 0, 2, 0, 6, 0, 0, \n",
    "           0, 0, 0, 0, 0, 0, 7, 0, 0, \n",
    "           0, 4, 0, 0, 8, 0, 0, 0, 0, \n",
    "           1, 0, 0, 0, 0, 0, 0, 2, 3, \n",
    "           0, 0, 8, 9, 0, 0, 0, 0, 0, \n",
    "           0, 0, 0, 4, 0, 0, 1, 0, 0]\n",
    "printSudoku(sudoku3)\n",
    "# 1 solution"
   ]
  },
  {
   "cell_type": "code",
   "execution_count": null,
   "metadata": {},
   "outputs": [
    {
     "name": "stdout",
     "output_type": "stream",
     "text": [
      "╔═══╤═══╤═══╦═══╤═══╤═══╦═══╤═══╤═══╗\n",
      "║   │ 6 │   ║   │   │   ║   │ 7 │ 4 ║\n",
      "╟───┼───┼───╫───┼───┼───╫───┼───┼───╢\n",
      "║ 1 │   │   ║ 6 │   │ 7 ║   │   │ 3 ║\n",
      "╟───┼───┼───╫───┼───┼───╫───┼───┼───╢\n",
      "║ 7 │   │   ║   │   │   ║   │   │   ║\n",
      "╠═══╪═══╪═══╬═══╪═══╪═══╬═══╪═══╪═══╣\n",
      "║   │   │   ║   │ 1 │   ║   │   │ 2 ║\n",
      "╟───┼───┼───╫───┼───┼───╫───┼───┼───╢\n",
      "║   │   │ 1 ║ 5 │   │   ║ 9 │   │   ║\n",
      "╟───┼───┼───╫───┼───┼───╫───┼───┼───╢\n",
      "║ 9 │   │   ║ 8 │   │   ║   │ 1 │   ║\n",
      "╠═══╪═══╪═══╬═══╪═══╪═══╬═══╪═══╪═══╣\n",
      "║   │   │   ║   │   │   ║   │ 3 │   ║\n",
      "╟───┼───┼───╫───┼───┼───╫───┼───┼───╢\n",
      "║ 3 │   │   ║   │   │ 2 ║ 8 │ 5 │   ║\n",
      "╟───┼───┼───╫───┼───┼───╫───┼───┼───╢\n",
      "║   │   │ 9 ║   │   │ 4 ║   │   │   ║\n",
      "╚═══╧═══╧═══╩═══╧═══╧═══╩═══╧═══╧═══╝\n",
      "\n"
     ]
    }
   ],
   "source": [
    "sudoku4 = [0, 6, 0, 0, 0, 0, 0, 7, 4,\n",
    "           1, 0, 0, 6, 0, 7, 0, 0, 3, \n",
    "           7, 0, 0, 0, 0, 0, 0, 0, 0, \n",
    "           0, 0, 0, 0, 1, 0, 0, 0, 2, \n",
    "           0, 0, 1, 5, 0, 0, 9, 0, 0, \n",
    "           9, 0, 0, 8, 0, 0, 0, 1, 0, \n",
    "           0, 0, 0, 0, 0, 0, 0, 3, 0, \n",
    "           3, 0, 0, 0, 0, 2, 8, 5, 0, \n",
    "           0, 0, 9, 0, 0, 4, 0, 0, 0]\n",
    "printSudoku(sudoku4)\n",
    "# 2 solutions"
   ]
  },
  {
   "cell_type": "code",
   "execution_count": null,
   "metadata": {},
   "outputs": [],
   "source": [
    "# Test your functions here!\n",
    "def printResults(inputSudoku):\n",
    "  n, res = numberOfSolutions(inputSudoku)\n",
    "  print()\n",
    "  print(f\"{n} solutions found.\")\n",
    "  for q in res:\n",
    "    printSudoku(q)\n",
    "\n",
    "printResults(sudoku4)"
   ]
  },
  {
   "cell_type": "code",
   "execution_count": null,
   "metadata": {},
   "outputs": [],
   "source": []
  }
 ],
 "metadata": {
  "kernelspec": {
   "display_name": ".venv",
   "language": "python",
   "name": "python3"
  },
  "language_info": {
   "codemirror_mode": {
    "name": "ipython",
    "version": 3
   },
   "file_extension": ".py",
   "mimetype": "text/x-python",
   "name": "python",
   "nbconvert_exporter": "python",
   "pygments_lexer": "ipython3",
   "version": "3.12.3"
  }
 },
 "nbformat": 4,
 "nbformat_minor": 4
}
