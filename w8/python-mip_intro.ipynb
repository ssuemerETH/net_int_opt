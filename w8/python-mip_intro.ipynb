{
 "cells": [
  {
   "cell_type": "markdown",
   "metadata": {},
   "source": [
    "# Solving a linear program in Python with Python-MIP"
   ]
  },
  {
   "cell_type": "markdown",
   "metadata": {},
   "source": [
    "<b>Goals of this notebook:</b>\n",
    "Learn some basic commands to solve an LP with Python.\n",
    "These commands include `Model`, `add_var`, and `xsum`.\n",
    "\n",
    "<b>Python packages required:</b>\n",
    "mip\n",
    "\n",
    "<b>Additional resources:</b>\n",
    "The official Python-MIP documentation can be found at https://docs.python-mip.com/en/latest/index.html. See https://docs.python-mip.com/en/latest/examples.html for additional examples.\n"
   ]
  },
  {
   "cell_type": "markdown",
   "metadata": {
    "slideshow": {
     "slide_type": "-"
    }
   },
   "source": [
    "In its most general form, a linear program looks like\n",
    "\n",
    "$$\n",
    "\\begin{array}{rcl}\n",
    "    \\max & c^\\intercal x\\\\\n",
    "    \\text{s.t.}& Ax &\\le& b\\\\\n",
    "                     & Bx &=& d\\\\\n",
    "                     & Cx &\\ge& f\\\\\n",
    "                     & x & \\in & \\mathbb{R}^n.\n",
    "\\end{array}\n",
    "$$\n",
    "\n",
    "There are three components to an LP: the variables $x$, the objective $\\max ~ c^\\intercal x$, and the constraints $Ax \\le b$, $Bx = d$, and $Cx \\ge f$.\n",
    "In order to code these using Python, we can follow the following six steps:\n",
    "\n",
    "<b>Step 1: Import Python's toolbox for solving LPs.</b> \n",
    "We will use the module called Python-MIP, which contains many useful linear programming tools.\n",
    "\n",
    "<b>Step 2: Create an empty linear program.</b>\n",
    "Intuitively, an empty linear program is Python's version of a sheet of paper on which we write the variables, the objetive, and the constraints.\n",
    "\n",
    "<b>Step 3: Add the variables $x$.</b>\n",
    "The three components of the LP involve $x$, so we need to create these first.\n",
    "\n",
    "<b>Step 4: Add the objective</b> $\\max ~ c^\\intercal x$.\n",
    "\n",
    "<b>Step 5: Add the constraints </b> $Ax \\le b, ~Bx = d$, and $Cx \\ge f$.\n",
    "\n",
    "<b>Step 6: Solve the LP and print the results.</b>\n",
    "\n",
    "The following example will help us introduce the basic Python commands needed in <b>Steps 1-6</b>."
   ]
  },
  {
   "cell_type": "markdown",
   "metadata": {},
   "source": [
    "### Example: Alice's Farm\n",
    "Alice wants to build a farm to produce corn. She can spend CHF 1000.\n",
    "It costs Alice CHF 3 to produce one kilogram of corn, and she can sell it for CHF 7.\n",
    "Alice can also buy farmland at a cost of CHF 100 per acre, and each acre can only grow 30 kilograms of corn.\n",
    "How many acres of farmland should she buy and how many kgs of corn should she produce to maximize profit?\n",
    "\n",
    "Here is a model of Alice's problem.\n",
    "    \n",
    "$$\n",
    "\\begin{array}{rlcl}\n",
    "\\max & 7 \\times (\\text{corn produced})\t\\\\\n",
    "\\text{s.t.} &  \\text{corn produced} &\\le& 30 \\times (\\text{acres purchased})\\\\\n",
    "         & 3 \\times (\\text{corn produced}) + 100 \\times (\\text{acres purchased}) &\\le& 1000\\\\\n",
    "         &\\text{corn produced} & \\ge & 0\\\\\n",
    "         &\\text{acres purchased} & \\ge &0.\n",
    "\\end{array}\n",
    "$$"
   ]
  },
  {
   "cell_type": "markdown",
   "metadata": {},
   "source": [
    "#### Step 1: Loading Python-MIP"
   ]
  },
  {
   "cell_type": "markdown",
   "metadata": {},
   "source": [
    "Run the following line of code to import Python-MIP."
   ]
  },
  {
   "cell_type": "code",
   "execution_count": 1,
   "metadata": {},
   "outputs": [],
   "source": [
    "# Import the necessary LP toolbox from Python\n",
    "\n",
    "from mip import *"
   ]
  },
  {
   "cell_type": "markdown",
   "metadata": {},
   "source": [
    "<i>Note:</i> If the above gives an error, you should double-check the installation of the python-mip package. This is covered in the introduction to the conda and notebook environment."
   ]
  },
  {
   "cell_type": "markdown",
   "metadata": {},
   "source": [
    "#### Step 2: Creating an empty linear program"
   ]
  },
  {
   "cell_type": "markdown",
   "metadata": {},
   "source": [
    "We create an empty linear program using the `Model` command as follows:"
   ]
  },
  {
   "cell_type": "code",
   "execution_count": 2,
   "metadata": {},
   "outputs": [],
   "source": [
    "# Create an empty linear program\n",
    "\n",
    "farm_lp = Model(name=\"Alice's_Farm\", sense=MAXIMIZE)"
   ]
  },
  {
   "cell_type": "markdown",
   "metadata": {},
   "source": [
    "The above line has the following components:\n",
    "\n",
    "- `farm_lp` - This is the variable we use to store our LP. You can choose any name you want.\n",
    "\n",
    "- `name=\"Alice's_Farm\"` - This is the name displayed when we print the linear program. This is an optional parameter; you may choose any name you want or omit the `name` parameter.\n",
    "   \n",
    "- `sense=MAXIMIZE` - This makes the linear program a maximization problem. This is an optional parameter, so you may omit it, in which case the optimization sense will be set to _Minimize_ by default. Alternatively, we can set the sense by assigning it to `farm_lp.sense`, or at <b>Step 4</b> when adding the objective.\n",
    "Note that we can simply write `MAXIMIZE` here because this is among the things that are imported from `mip`."
   ]
  },
  {
   "cell_type": "markdown",
   "metadata": {},
   "source": [
    "#### Step 3: Add the variables"
   ]
  },
  {
   "cell_type": "markdown",
   "metadata": {},
   "source": [
    "Now we need to create two variables: one for the amount of corn produced and one for the number of acres purchased. \n",
    "\n",
    "We create a variable for the amount of corn produced using the `add_var` function of the LP class as follows:"
   ]
  },
  {
   "cell_type": "code",
   "execution_count": 3,
   "metadata": {},
   "outputs": [],
   "source": [
    "# Create a variable for corn\n",
    "\n",
    "corn = farm_lp.add_var(name=\"corn_produced\", lb=0)"
   ]
  },
  {
   "cell_type": "markdown",
   "metadata": {},
   "source": [
    "The above function call has the following two arguments:\n",
    "\n",
    "- `name=\"corn_produced\"` - This is the name of the variable that is displayed when we print the LP. You can choose any name you want. \n",
    "\n",
    "- `lb = 0` - This guarantees that the variable is lower bounded by 0 (i.e., that is it nonnegative). \n",
    "\n",
    "<i>Note:</i> The command `lb=0` creates the inequality $\\text{corn} \\ge 0$.\n",
    "Alternatively, we can add this as a constraint in <b>Step 5</b>.\n",
    "However, this type of constraint is so common that Python-MIP has commands to add it at this step.\n",
    "\n",
    "The `add_var` function is used similarly to create a variable for the number of acres purchased."
   ]
  },
  {
   "cell_type": "code",
   "execution_count": 4,
   "metadata": {},
   "outputs": [],
   "source": [
    "# Create a variable for land\n",
    "\n",
    "acres = farm_lp.add_var(name=\"acres_purchased\", lb=0)"
   ]
  },
  {
   "cell_type": "markdown",
   "metadata": {},
   "source": [
    "#### Step 4: Add the objective function"
   ]
  },
  {
   "cell_type": "markdown",
   "metadata": {},
   "source": [
    "In <b>Step 2</b> that we created `farm_lp` to be a maximization problem. \n",
    "Therefore, we only need to add the objective function $c^\\intercal x$, the optimization sense is already known to the LP.\n",
    "The objective function for our problem is $7 \\times \\text{(corn produced)}$.\n",
    "Using our variables from <b>Step 3</b>, the objective function becomes `7*corn`.\n",
    "To add the objective to `farm_lp`, we save it in the attribute `objective` of `farm_lp`.\n",
    "\n",
    "Run the following line of code to add the objective to `farm_lp`."
   ]
  },
  {
   "cell_type": "code",
   "execution_count": 5,
   "metadata": {},
   "outputs": [],
   "source": [
    "# Add the objective\n",
    "\n",
    "farm_lp.objective = 7*corn"
   ]
  },
  {
   "cell_type": "markdown",
   "metadata": {},
   "source": [
    "<i>Note:</i> If we would not have set the optimization sense to maximization in <b>Step 1</b>, we could now call `farm_lp.maximization(7*corn)` to set the objective and the LP sense at the same time."
   ]
  },
  {
   "cell_type": "markdown",
   "metadata": {},
   "source": [
    "#### Step 5: Add the constraints"
   ]
  },
  {
   "cell_type": "markdown",
   "metadata": {},
   "source": [
    "The first constraint is $\\text{corn produced} \\le 30 \\times (\\text{acres purchased})$.\n",
    "Using our variables this becomes `corn <= 30* acres`.\n",
    "We use the command `+=` to add this to `farm_lp` as follows:"
   ]
  },
  {
   "cell_type": "code",
   "execution_count": 6,
   "metadata": {},
   "outputs": [],
   "source": [
    "# Add the first constraint\n",
    "\n",
    "farm_lp += corn <= 30*acres"
   ]
  },
  {
   "cell_type": "markdown",
   "metadata": {},
   "source": [
    "The second constraint is $3 \\times (\\text{corn produced}) + 100 \\times (\\text{acres purchased}) \\le 1000$.\n",
    "\n",
    "Add this to our LP by running the following line of code."
   ]
  },
  {
   "cell_type": "code",
   "execution_count": 7,
   "metadata": {},
   "outputs": [],
   "source": [
    "# Add the second constraint\n",
    "\n",
    "farm_lp += 3*corn +100*acres <= 1000"
   ]
  },
  {
   "cell_type": "markdown",
   "metadata": {},
   "source": [
    "#### Step 6: Solve the LP and print the results"
   ]
  },
  {
   "cell_type": "markdown",
   "metadata": {},
   "source": [
    "Now our LP is completely set up. Unfortunately, Python-MIP doesn't allow us to directly print out the LP to standard output (though it does allow us to export it to a file using the `write()` function described [here](https://python-mip.readthedocs.io/en/latest/classes.html#mip.Model.write)), but you can use the following function to double-check the model."
   ]
  },
  {
   "cell_type": "code",
   "execution_count": 8,
   "metadata": {},
   "outputs": [
    {
     "name": "stdout",
     "output_type": "stream",
     "text": [
      "Alice's_Farm:\n",
      "MAX\n",
      "+ 7.0corn_produced \n",
      "SUBJECT TO\n",
      "constr(0): +1.0 corn_produced -30.0 acres_purchased <= -0.0\n",
      "constr(1): +3.0 corn_produced +100.0 acres_purchased <= 1000.0\n",
      "VARIABLES\n",
      "0.0 <= corn_produced <= 1.7976931348623157e+308 C\n",
      "0.0 <= acres_purchased <= 1.7976931348623157e+308 C\n"
     ]
    }
   ],
   "source": [
    "# This function creates a string representation of a given python-mip model\n",
    "def model_to_str(model):\n",
    "    s = f'{model.name}:\\n{model.sense}\\n{model.objective}\\n'\n",
    "    if model.constrs:\n",
    "        s += 'SUBJECT TO\\n' + '\\n'.join(map(str, model.constrs)) + '\\n'\n",
    "    s += 'VARIABLES\\n' + '\\n'.join(f'{v.lb} <= {v.name} <= {v.ub} {v.var_type}' for v in model.vars)\n",
    "    return s\n",
    "\n",
    "# Display our LP\n",
    "print(model_to_str(farm_lp))"
   ]
  },
  {
   "cell_type": "markdown",
   "metadata": {},
   "source": [
    "The following lines of code solves our linear program."
   ]
  },
  {
   "cell_type": "code",
   "execution_count": 9,
   "metadata": {},
   "outputs": [
    {
     "name": "stdout",
     "output_type": "stream",
     "text": [
      "Welcome to the CBC MILP Solver \n",
      "Version: Trunk\n",
      "Build Date: Oct 24 2021 \n",
      "\n"
     ]
    },
    {
     "data": {
      "text/plain": [
       "<OptimizationStatus.OPTIMAL: 0>"
      ]
     },
     "execution_count": 9,
     "metadata": {},
     "output_type": "execute_result"
    },
    {
     "name": "stdout",
     "output_type": "stream",
     "text": [
      "Starting solution of the Linear programming problem using Primal Simplex\n",
      "\n",
      "Coin0506I Presolve 0 (-2) rows, 0 (-2) columns and 0 (-4) elements\n",
      "Clp0000I Optimal - objective value 1105.2632\n",
      "Coin0511I After Postsolve, objective 1105.2632, infeasibilities - dual 0 (0), primal 0 (0)\n",
      "Clp0032I Optimal objective 1105.263158 - 0 iterations time 0.002, Presolve 0.00, Idiot 0.00\n"
     ]
    }
   ],
   "source": [
    "# Solve the linear program\n",
    "\n",
    "farm_lp.optimize()"
   ]
  },
  {
   "cell_type": "markdown",
   "metadata": {},
   "source": [
    "If everything went well, then the output should be `<OptimizationStatus.OPTIMAL: 0>`, which means that the LP was solved to optimality.\n",
    "\n",
    "<i>Note: </i> There are several possible status values, including `OptimizationStatus.OPTIMAL`, `OptimizationStatus.INFEASIBLE`, and `OptimizationStatus.UNBOUNDED`. You can find the full list with descriptions at https://docs.python-mip.com/en/latest/classes.html#optimizationstatus.\n",
    "\n",
    "We can check the optimization status not only by looking at the output of `optimize()`, but also by accessing the `status` attribute of our model. An example is provided below."
   ]
  },
  {
   "cell_type": "code",
   "execution_count": 10,
   "metadata": {},
   "outputs": [
    {
     "name": "stdout",
     "output_type": "stream",
     "text": [
      "Our LP was solved to optimality.\n"
     ]
    }
   ],
   "source": [
    "# Double-check the status of our LP\n",
    "\n",
    "if farm_lp.status == OptimizationStatus.OPTIMAL:\n",
    "    print('Our LP was solved to optimality.')\n",
    "else:\n",
    "    print(f'Something went wrong, the current status is {farm_lp.status}.')"
   ]
  },
  {
   "cell_type": "markdown",
   "metadata": {},
   "source": [
    "Now we (Alice and us) would like to know the optimal objective value and the optimal values of `corn` and `acres`.\n",
    "The optimal value of `corn` can be accessed using `corn.x`.\n",
    "Similarly, the optimal value of `acres` can be accessed using `acres.x`.\n",
    "The optimal objective value of `farm_lp` is accessed using `farm_lp.objective_value`.\n",
    "\n",
    "Below we access these attributes to display the optimal solution of our LP."
   ]
  },
  {
   "cell_type": "code",
   "execution_count": 11,
   "metadata": {},
   "outputs": [
    {
     "name": "stdout",
     "output_type": "stream",
     "text": [
      "Alice should produce 157.89 kilograms of corn.\n",
      "Alice should purchase 5.26 acres of land.\n",
      "Alice will have a profit of CHF 1105.26.\n"
     ]
    }
   ],
   "source": [
    "# Print the optimal value and the variables values\n",
    "\n",
    "opt_corn = corn.x\n",
    "print(f'Alice should produce {opt_corn:.2f} kilograms of corn.')\n",
    "\n",
    "opt_acres = acres.x\n",
    "print(f'Alice should purchase {opt_acres:.2f} acres of land.')\n",
    "\n",
    "opt_val = farm_lp.objective_value\n",
    "print(f'Alice will have a profit of CHF {opt_val:.2f}.')"
   ]
  },
  {
   "cell_type": "markdown",
   "metadata": {},
   "source": [
    "<i>Note:</i>\n",
    "The character `%.2f` is a formatting tool for rounding a decimal to two places."
   ]
  },
  {
   "cell_type": "markdown",
   "metadata": {},
   "source": [
    "Congratulations! We have successfully solved our first LP. If everything was run correctly, then the output should be\n",
    "\n",
    "    Alice should produce 157.89 kilograms of corn.\n",
    "    Alice should purchase 5.26 acres of land.\n",
    "    Alice will have a profit of CHF 1105.26."
   ]
  },
  {
   "cell_type": "markdown",
   "metadata": {},
   "source": [
    "#### Conclusions"
   ]
  },
  {
   "cell_type": "markdown",
   "metadata": {},
   "source": [
    "There are six main steps to solving a linear program. \n",
    "Moreover, the basic commands that we learned are already enough to solve many optimization problems. You can see https://docs.python-mip.com/en/latest/examples.html for other examples (though they involve integer variables and are significantly more complex than what we covered here).\n",
    "\n",
    "In the next example, we show how to use the `xsum` command in Python-MIP when dealing with multiple variables."
   ]
  },
  {
   "cell_type": "markdown",
   "metadata": {},
   "source": [
    "### Example: Bob's electric company\n",
    "\n",
    "Alice's farm was a helpful example, but it was also simple with only two variables. \n",
    "What if we had a more complicated LP with more variables?\n",
    "Some LPs can have thousands of variables!\n",
    "In <b>Step 3</b> we could write the `add_var` command thousands of times on thousands of lines of code, but this would be tedious and prone to mistakes! \n",
    "Similarly, writing down one constraint that involves one thousand variables would be painful. \n",
    "\n",
    "In order to handle these complications, we can use the `xsum` function from Python-MIP. \n",
    "Let us illustrate this with another example.\n",
    "\n",
    "Bob works for the electric company and must decide how to distribute electricity to the houses on his street. \n",
    "The street has seven houses, and each house requires at least 30 kWh per day. \n",
    "The company has two generators that can supply power to the houses.\n",
    "Generator 1 can supply at most 100 kWh per day and generator 2 can supply at most 150 kWh.\n",
    "The following price chart shows how much it costs (in CHF) each generator to supply 1 kWh to each house.\n",
    "\n",
    "$$\n",
    "\\begin{array}{c|c|c|c|c|c|c|c}\n",
    "&\\text{House 1}&\\text{House 2}&\\text{House 3}&\\text{House 4}&\\text{House 5}&\\text{House 6}&\\text{House 7} \\\\\n",
    "\\hline\n",
    "\\text{Generator 1} & .17 & .25 & .29 & .16 & .24 & .20 & .29\\\\\n",
    "\\text{Generator 2} & .18 & .21 & .30 & .20 & .20 & .23 & .28\\\\\n",
    "\\end{array}\n",
    "$$\n",
    "\n",
    "\n",
    "How should Bob supply power to the houses in order to minimize his daily cost?"
   ]
  },
  {
   "cell_type": "markdown",
   "metadata": {},
   "source": [
    "The following is a mathematical model of Bob's problem. \n",
    "We use a variable $x_{g,h}$ to denote the number of kWh that generator $g$ sends to house $h$.\n",
    "For this model, we use the abbreviation $p_{g,h}$ to denote the price to send one kWh from generator $g$ to house $h$. \n",
    "For example $p_{2,6} = 0.23$. \n",
    "\n",
    "$$\n",
    "\\begin{array}{rlll}\n",
    "\\min & \\displaystyle \\sum_{g=1}^2 \\sum_{h=1}^7 p_{g,h} \\cdot x_{g,h}\\\\\n",
    "\\text{s.t.} & \\displaystyle \\sum_{h=1}^7 x_{1,h} \\le 100 &\\text{[Generator 1 can produce at most 100 kWh]}\\\\\n",
    "&\\displaystyle \\sum_{h=1}^7 x_{2,h} \\le 150 &\\text{[Generator 2 can produce at most 150 kWh]}\\\\\n",
    "& \\displaystyle \\sum_{g=1}^2 x_{g,h} \\ge 30 & \\text{for each } h =1,\\dotsc, 7 &\\text{[Each house needs at least 30 kWh]} \\\\\n",
    "& x_{g,h} \\ge 0 & \\text{for each } g =1,2 \\text{ and }h =1,\\dotsc, 7.\n",
    "\\end{array}\n",
    "$$"
   ]
  },
  {
   "cell_type": "markdown",
   "metadata": {},
   "source": [
    "#### Solving the problem\n",
    "\n",
    "Let us follow the steps outlined above. \n",
    "<b>Step 1</b> and <b>Step 2</b> load Python-MIP and create an empty LP.\n",
    "Note that this is a minimization problem, so we use `MINIMIZE` in the function `Model`. (Alternatively, we could omit the `sense` parameter, as the optimization sense will be set to _Minimization_ by default.)\n",
    "We will also store the prices in a 2-dimensional Python list.\n",
    "\n",
    "Run the following line of code to run these steps. \n",
    "\n",
    "<i>Note: </i>\n",
    "Lists are useful tools for storing information in Python, but we do not need to know how to manipulate them in this example.\n",
    "All we need to know is that if we want to access a price, for instance the price from generator i to house j, then we use the code `priceGen[i-1][j-1]`.\n",
    "Recall that Python lists begin their indexing at 0 and not 1 (for a more precise indexing system, consider using Python dictionaries)."
   ]
  },
  {
   "cell_type": "code",
   "execution_count": 12,
   "metadata": {},
   "outputs": [],
   "source": [
    "# Import the necessary LP toolbox from Python\n",
    "\n",
    "from mip import *\n",
    "\n",
    "# Create an empty linear program\n",
    "\n",
    "Electricity_LP = Model(name=\"Bob's_electricity\", sense=MINIMIZE)\n",
    "\n",
    "# Load the price chart\n",
    "# We use the notation gxhy to indicate generator x and house y\n",
    "\n",
    "pricesGen = [[0.17, 0.25, 0.29, 0.16, 0.24, 0.20, 0.29],\n",
    "             [0.18, 0.21, 0.30, 0.20, 0.20, 0.23, 0.28]]"
   ]
  },
  {
   "cell_type": "markdown",
   "metadata": {},
   "source": [
    "<b>Step 3</b> is to create the variables. \n",
    "There are 14 variables in total. As we said above, one way to add these variables to our model would be to define each variable on a new line by using lines of code like\n",
    "\n",
    "`variable_1 = Electricity_LP.add_var(...)`.\n",
    "\n",
    "However, a more convenient approach to defining these variables is to create the variables using list comprehension, which allows us to turn 14 lines of code into a few short lines.\n",
    "We will take this second approach here:"
   ]
  },
  {
   "cell_type": "code",
   "execution_count": 13,
   "metadata": {},
   "outputs": [],
   "source": [
    "# Create the variables\n",
    "\n",
    "variables = [[Electricity_LP.add_var(name=f'g{gen}h{house}', lb=0)\n",
    "              for house in range(7)]\n",
    "              for gen in range(2)]"
   ]
  },
  {
   "cell_type": "markdown",
   "metadata": {},
   "source": [
    "<i>Note: </i>\n",
    "We can store the LP variables in a Python list, tuple, or dictionary. \n",
    "Here, we store the variables in a 2-dimensional list that is generated using Pyhton's list comprehension."
   ]
  },
  {
   "cell_type": "markdown",
   "metadata": {},
   "source": [
    "<b>Step 4</b> is to add the objective function $\\sum_{g=1}^2 \\sum_{h=1}^7 p_{g,h} \\cdot x_{g,h}$. \n",
    "One approach to add the objective function is to write `Electricity_LP +=` followed by all 14 terms in the objective function.\n",
    "However, as was the case when we added variables, this can be tedious and lead to mistakes.\n",
    "\n",
    "Fortunately, Python-MIP has a function called `xsum` that allows us to create a linear expression from a list of terms. Moreover, we can use list comprehension to generate the terms and pass it to `xsum` in one line, like so:"
   ]
  },
  {
   "cell_type": "code",
   "execution_count": 14,
   "metadata": {},
   "outputs": [],
   "source": [
    "# Add the objective\n",
    "\n",
    "Electricity_LP += xsum(pricesGen[gen][house]*variables[gen][house] \n",
    "                       for gen in range(2) \n",
    "                       for house in range(7))"
   ]
  },
  {
   "cell_type": "markdown",
   "metadata": {},
   "source": [
    "<b>Step 5</b> is to add the constraints. \n",
    "Here, we can use the `xsum` function to create the left hand side and then add the inequalities and the right hand sides (i.e., `<= 100`, `<= 150`, and `>= 30`).\n",
    "\n",
    "Run the following code to add the constraints."
   ]
  },
  {
   "cell_type": "code",
   "execution_count": 15,
   "metadata": {},
   "outputs": [],
   "source": [
    "# Add the constraints\n",
    "\n",
    "# The first set of constraints is for the generators\n",
    "\n",
    "# Generator 1 can supply at most 100 kWh\n",
    "Electricity_LP += xsum(variables[0]) <= 100\n",
    "\n",
    "# Generator 2 can supply at most 150 kWh\n",
    "Electricity_LP += xsum(variables[1]) <= 150\n",
    "\n",
    "    \n",
    "# The second set of constraints says each house must recieve at least 30 kWh\n",
    "\n",
    "for house in range(7):\n",
    "    Electricity_LP += xsum(variables[gen][house] for gen in range(2)) >= 30"
   ]
  },
  {
   "cell_type": "markdown",
   "metadata": {},
   "source": [
    "Great! \n",
    "Now we have everything we need to solve our LP. "
   ]
  },
  {
   "cell_type": "code",
   "execution_count": 16,
   "metadata": {},
   "outputs": [
    {
     "name": "stdout",
     "output_type": "stream",
     "text": [
      "Bob's_electricity:\n",
      "MIN\n",
      "+ 0.17g0h0 + 0.25g0h1 + 0.29g0h2 + 0.16g0h3 + 0.24g0h4 + 0.2g0h5 + 0.29g0h6 + 0.18g1h0 + 0.21g1h1 + 0.3g1h2 + 0.2g1h3 + 0.2g1h4 + 0.23g1h5 + 0.28g1h6 \n",
      "SUBJECT TO\n",
      "constr(0): +1.0 g0h0 +1.0 g0h1 +1.0 g0h2 +1.0 g0h3 +1.0 g0h4 +1.0 g0h5 +1.0 g0h6 <= 100.0\n",
      "constr(1): +1.0 g1h0 +1.0 g1h1 +1.0 g1h2 +1.0 g1h3 +1.0 g1h4 +1.0 g1h5 +1.0 g1h6 <= 150.0\n",
      "constr(2): +1.0 g0h0 +1.0 g1h0 >= 30.0\n",
      "constr(3): +1.0 g0h1 +1.0 g1h1 >= 30.0\n",
      "constr(4): +1.0 g0h2 +1.0 g1h2 >= 30.0\n",
      "constr(5): +1.0 g0h3 +1.0 g1h3 >= 30.0\n",
      "constr(6): +1.0 g0h4 +1.0 g1h4 >= 30.0\n",
      "constr(7): +1.0 g0h5 +1.0 g1h5 >= 30.0\n",
      "constr(8): +1.0 g0h6 +1.0 g1h6 >= 30.0\n",
      "VARIABLES\n",
      "0.0 <= g0h0 <= 1.7976931348623157e+308 C\n",
      "0.0 <= g0h1 <= 1.7976931348623157e+308 C\n",
      "0.0 <= g0h2 <= 1.7976931348623157e+308 C\n",
      "0.0 <= g0h3 <= 1.7976931348623157e+308 C\n",
      "0.0 <= g0h4 <= 1.7976931348623157e+308 C\n",
      "0.0 <= g0h5 <= 1.7976931348623157e+308 C\n",
      "0.0 <= g0h6 <= 1.7976931348623157e+308 C\n",
      "0.0 <= g1h0 <= 1.7976931348623157e+308 C\n",
      "0.0 <= g1h1 <= 1.7976931348623157e+308 C\n",
      "0.0 <= g1h2 <= 1.7976931348623157e+308 C\n",
      "0.0 <= g1h3 <= 1.7976931348623157e+308 C\n",
      "0.0 <= g1h4 <= 1.7976931348623157e+308 C\n",
      "0.0 <= g1h5 <= 1.7976931348623157e+308 C\n",
      "0.0 <= g1h6 <= 1.7976931348623157e+308 C \n",
      "\n",
      "Starting solution of the Linear programming problem using Dual Simplex\n",
      "\n",
      "Coin0506I Presolve 9 (0) rows, 14 (0) columns and 28 (0) elements\n",
      "Clp0006I 0  Obj 0 Primal inf 209.99999 (7)\n",
      "Clp0000I Optimal - objective value 45.5\n",
      "Bob must spend CHF 45.50.\n",
      "Bob should send 10.00 kWh from generator 1 to house 1.\n",
      "Bob should send 0.00 kWh from generator 1 to house 2.\n",
      "Bob should send 30.00 kWh from generator 1 to house 3.\n",
      "Bob should send 30.00 kWh from generator 1 to house 4.\n",
      "Bob should send 0.00 kWh from generator 1 to house 5.\n",
      "Bob should send 30.00 kWh from generator 1 to house 6.\n",
      "Bob should send 0.00 kWh from generator 1 to house 7.\n",
      "Bob should send 20.00 kWh from generator 2 to house 1.\n",
      "Bob should send 30.00 kWh from generator 2 to house 2.\n",
      "Bob should send 0.00 kWh from generator 2 to house 3.\n",
      "Bob should send 0.00 kWh from generator 2 to house 4.\n",
      "Bob should send 30.00 kWh from generator 2 to house 5.\n",
      "Bob should send 0.00 kWh from generator 2 to house 6.\n",
      "Bob should send 30.00 kWh from generator 2 to house 7.\n",
      "Clp0032I Optimal objective 45.5 - 8 iterations time 0.002\n"
     ]
    }
   ],
   "source": [
    "# Display our linear program\n",
    "\n",
    "print(model_to_str(Electricity_LP), '\\n')\n",
    "\n",
    "# Solve the linear program\n",
    "\n",
    "Electricity_LP.optimize()\n",
    "\n",
    "# Print the optimal value and the variables values\n",
    "\n",
    "opt_val = Electricity_LP.objective_value\n",
    "print(f'Bob must spend CHF {opt_val:.2f}.')\n",
    "\n",
    "for gen in range(2):\n",
    "    for house in range(7):\n",
    "        opt_power = variables[gen][house].x\n",
    "        print(f'Bob should send {opt_power:.2f} kWh from generator {gen+1} to house {house+1}.')"
   ]
  },
  {
   "cell_type": "markdown",
   "metadata": {},
   "source": [
    "If everything ran correctly, then the output should say that Bob spends CHF 45.50.\n",
    "\n",
    "#### Conclusions\n",
    "\n",
    "A linear program can have multiple variables and constraints. \n",
    "There are certain tools in Python such as dictionaries and the `xsum` command to help us simplify our code when solving the LP."
   ]
  },
  {
   "cell_type": "markdown",
   "metadata": {},
   "source": [
    "### Try it yourself: A blending problem\n",
    "\n",
    "A company produces cat food from several ingredients: chicken, beef, mutton, rice, wheat, and gel. The following table lists the cost (in CHF) and nutritional values (in g) of one gram of each ingredient, as well as nutritional standards that 100g of cat food has to satisfy.\n",
    "\n",
    "| Ingredient              | Cost  | Protein | Fat    | Fibre  | Salt  |\n",
    "| :---------------------- | :---- | :------ | :----- | :----- | :---- |\n",
    "| Chicken                 | 0.012 | 0.100   | 0.060  | 0.001  | 0.002 |\n",
    "| Beef                    | 0.013 | 0.150   | 0.100  | 0.050  | 0.005 |\n",
    "| Mutton                  | 0.010 | 0.150   | 0.110  | 0.003  | 0.020 |\n",
    "| Rice                    | 0.002 | 0.000   | 0.010  | 0.100  | 0.002 |\n",
    "| Wheat bran              | 0.005 | 0.180   | 0.010  | 0.150  | 0.008 |\n",
    "| Gel                     | 0.001 | 0.000   | 0.000  | 0.000  | 0.000 |\n",
    "| Nutritional standard    | —     | ≥ 11    | ≥ 6    | ≤ 2    | ≤ 0.4 |\n",
    "\n",
    "Your goal is to determine the composition of ingredients that minimizes the cost of the mixture while meeting the nutritional standards.\n",
    "\n",
    "<b>Your task:</b> Solve the problem by creating a linear program whose optimal solution indicates an appropriate mixture, and solve the LP using Python-MIP."
   ]
  },
  {
   "cell_type": "code",
   "execution_count": null,
   "metadata": {},
   "outputs": [
    {
     "name": "stdout",
     "output_type": "stream",
     "text": [
      "Cat_Food:\n",
      "MIN\n",
      "+ 0.012v0 + 0.013v1 + 0.01v2 + 0.002v3 + 0.005v4 + 0.001v5 \n",
      "SUBJECT TO\n",
      "constr(0): +0.1 v0 +0.15 v1 +0.15 v2 +0.0 v3 +0.17 v4 +0.0 v5 >= 11.0\n",
      "constr(1): +0.06 v0 +0.1 v1 +0.11 v2 +0.01 v3 +0.01 v4 +0.0 v5 >= 6.0\n",
      "constr(2): +0.001 v0 +0.05 v1 +0.003 v2 +0.1 v3 +0.15 v4 +0.0 v5 <= 2.0\n",
      "constr(3): +0.002 v0 +0.005 v1 +0.02 v2 +0.002 v3 +0.008 v4 +0.0 v5 <= 0.4\n",
      "VARIABLES\n",
      "0.0 <= v0 <= 1.7976931348623157e+308 C\n",
      "0.0 <= v1 <= 1.7976931348623157e+308 C\n",
      "0.0 <= v2 <= 1.7976931348623157e+308 C\n",
      "0.0 <= v3 <= 1.7976931348623157e+308 C\n",
      "0.0 <= v4 <= 1.7976931348623157e+308 C\n",
      "0.0 <= v5 <= 1.7976931348623157e+308 C \n",
      "\n",
      "Starting solution of the Linear programming problem using Dual Simplex\n",
      "\n",
      "Clp0024I Matrix will be packed to eliminate 5 small elements\n",
      "Coin0506I Presolve 4 (0) rows, 5 (-1) columns and 19 (0) elements\n",
      "Clp0006I 0  Obj 0 Primal inf 285.13673 (2)\n",
      "Clp0000I Optimal - objective value 1.0704212\n",
      "Coin0511I After Postsolve, objective 1.0704212, infeasibilities - dual 0 (0), primal 0 (0)\n",
      "Clp0032I Optimal objective 1.070421159 - 5 iterations time 0.002, Presolve 0.00\n",
      "Minimum cost: 1.07.\n",
      "68.07556675062969\n",
      "10.706297229219189\n",
      "6.846347607052894\n",
      "0.0\n",
      "9.173803526448348\n",
      "0.0\n"
     ]
    }
   ],
   "source": [
    "# Write your code here\n",
    "costs = [0.012, 0.013, 0.01, 0.002, 0.005, 0.001]\n",
    "\n",
    "nvals = [[0.1, 0.15, 0.15, 0, 0.17, 0], [0.06, 0.1, 0.11, 0.01, 0.01, 0], [0.001, 0.05, 0.003, 0.1, 0.15, 0], [0.002, 0.005, 0.02, 0.002, 0.008, 0]] # transposed view of the above table, easier to work with\n",
    "ic = len(costs)\n",
    "\n",
    "cat_lp = Model(name=\"Cat_Food\", sense=MINIMIZE)\n",
    "vars = [cat_lp.add_var(f\"v{i}\", lb = 0) for i in range(ic)] # one variable per ingredient\n",
    "\n",
    "cat_lp += xsum(costs[i] * vars[i] for i in range(ic)) # objective, cost\n",
    "\n",
    "cat_lp += xsum(nvals[0][i] * vars[i] for i in range(ic)) >= 11 # protein\n",
    "cat_lp += xsum(nvals[1][i] * vars[i] for i in range(ic)) >= 6 # fat\n",
    "cat_lp += xsum(nvals[2][i] * vars[i] for i in range(ic)) <= 2 # fibre\n",
    "cat_lp += xsum(nvals[3][i] * vars[i] for i in range(ic)) <= 0.4 # salt\n",
    "\n",
    "print(model_to_str(cat_lp), '\\n')\n",
    "\n",
    "cat_lp.optimize()\n",
    "\n",
    "# Print the optimal value and the variables values\n",
    "\n",
    "opt_val = cat_lp.objective_value\n",
    "print(f'Minimum cost: {opt_val:.2f}.')\n",
    "\n",
    "for var in vars:\n",
    "    print(var.x)"
   ]
  },
  {
   "cell_type": "code",
   "execution_count": null,
   "metadata": {},
   "outputs": [],
   "source": []
  }
 ],
 "metadata": {
  "celltoolbar": "Raw Cell Format",
  "kernelspec": {
   "display_name": ".venv",
   "language": "python",
   "name": "python3"
  },
  "language_info": {
   "codemirror_mode": {
    "name": "ipython",
    "version": 3
   },
   "file_extension": ".py",
   "mimetype": "text/x-python",
   "name": "python",
   "nbconvert_exporter": "python",
   "pygments_lexer": "ipython3",
   "version": "3.12.3"
  }
 },
 "nbformat": 4,
 "nbformat_minor": 4
}
