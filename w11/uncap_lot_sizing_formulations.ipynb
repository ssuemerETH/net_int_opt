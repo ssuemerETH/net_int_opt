{
 "cells": [
  {
   "cell_type": "markdown",
   "metadata": {},
   "source": [
    "# Two relaxations for uncapacitated lot-sizing\n",
    "\n",
    "<b>Goal:</b> Implement two relaxations for the uncapacitated lot-sizing problems and compare their performance."
   ]
  },
  {
   "cell_type": "markdown",
   "metadata": {},
   "source": [
    "In this notebook, we consider the formulations $(6.10)$ and $(7.3)$ for the uncapacitated lot-sizing problem from the script and their linear relaxations, which we denote by $Q_1$ and $Q_2$, respectively. We implement both relaxations using python-mip and compare their performance on a collection of concrete instances."
   ]
  },
  {
   "cell_type": "markdown",
   "metadata": {},
   "source": [
    "## Implementation"
   ]
  },
  {
   "cell_type": "code",
   "execution_count": 1,
   "metadata": {},
   "outputs": [],
   "source": [
    "from mip import *"
   ]
  },
  {
   "cell_type": "code",
   "execution_count": 2,
   "metadata": {},
   "outputs": [],
   "source": [
    "class UncapLotSizingInstance:\n",
    "    def __init__(self, T, d, p, q, h):\n",
    "        '''Initializes the class storing an instance of the uncapacitated lot-sizing problem.\n",
    "        \n",
    "        Args:\n",
    "            T: Positive integer, number of time steps.\n",
    "            d: List of non-negative reals, the demand vector.\n",
    "            p: List of non-negative reals, the production cost vector.\n",
    "            q: List of non-negative reals, the setup cost vector.\n",
    "            h: List of non-negative reals, the storage cost vector.\n",
    "        '''\n",
    "        self.T, self.d, self.p, self.q, self.h = T, d, p, q, h\n",
    "    \n",
    "    def is_ok(self):\n",
    "        '''Checks if the parameters of the instance satisfy the conditions described in the docstring in __init__().\n",
    "        \n",
    "        Returns:\n",
    "            True or False indicating if the parameters of the instance are well-behaved.\n",
    "        '''\n",
    "        return (self.T > 0 and\n",
    "                all(len(list_) == self.T and all(i >= 0 for i in list_)\n",
    "                    for list_ in [self.d, self.p, self.q, self.h]))"
   ]
  },
  {
   "cell_type": "code",
   "execution_count": null,
   "metadata": {},
   "outputs": [],
   "source": [
    "def q_1_relaxation(instance):\n",
    "    '''Returns the Q_1 relaxation for an instance of the uncapacitated lot-sizing problem.\n",
    "    \n",
    "    Args:\n",
    "        instance(UncapLotSizingInstance): The problem instance.\n",
    "    \n",
    "    Returns:\n",
    "        A python-mip model encoding the Q_1 relaxation for the given instance.\n",
    "    '''\n",
    "    # Write your implementation here\n",
    "\n",
    "    # minimize\n",
    "    lp = Model(name = \"Q1\", sense=MINIMIZE)\n",
    "\n",
    "    # define variables\n",
    "    x = [lp.add_var(name=f\"x_{t}\", lb=0) for t in range(instance.T)]\n",
    "    s = [lp.add_var(name=f\"s_{t}\", lb=0) for t in range(instance.T)]\n",
    "    y = [lp.add_var(name=f\"y_{t}\", lb=0, ub=1) for t in range(instance.T)]\n",
    "\n",
    "    # define M\n",
    "    M = sum(instance.d)\n",
    "\n",
    "    # add stock constraints\n",
    "    lp += s[0] == x[0] - instance.d[0]\n",
    "    for t in range(1, instance.T):\n",
    "        lp += s[t] == s[t - 1] + x[t] - instance.d[t]\n",
    "    \n",
    "    # add big-M constraints\n",
    "    for i in range(instance.T):\n",
    "        lp += x[i] <= M * y[t]\n",
    "    \n",
    "    # define objective\n",
    "    lp.objective = xsum([instance.p[t] * x[t] for t in range(instance.T)]) + xsum([instance.h[t] * s[t] for t in range(instance.T)]) + xsum([instance.q[t] * y[t] for t in range(instance.T)])\n",
    "\n",
    "    return lp"
   ]
  },
  {
   "cell_type": "code",
   "execution_count": 4,
   "metadata": {},
   "outputs": [],
   "source": [
    "def q_2_relaxation(instance):\n",
    "    '''Returns the Q_2 relaxation for an instance of the uncapacitated lot-sizing problem.\n",
    "    \n",
    "    Args:\n",
    "        instance(UncapLotSizingInstance): The problem instance.\n",
    "    \n",
    "    Returns:\n",
    "        A python-mip model encoding the Q_2 relaxation for the given instance.\n",
    "    '''\n",
    "    # Write your implementation here\n",
    "\n",
    "    # minimize\n",
    "    lp = Model(name = \"Q1\", sense=MINIMIZE)\n",
    "\n",
    "    # define variables\n",
    "    x = [lp.add_var(name=f\"x_{t}\", lb=0) for t in range(instance.T)]\n",
    "    s = [lp.add_var(name=f\"s_{t}\", lb=0) for t in range(instance.T)]\n",
    "    y = [lp.add_var(name=f\"y_{t}\", lb=0, ub=1) for t in range(instance.T)]\n",
    "\n",
    "    Z = [(t, l) for t in range(instance.T) for l in range(t, instance.T)]\n",
    "    z = {(t, l) : lp.add_var(name=f\"z_{t},{l}\", lb=0, ub=1) for (t, l) in Z}\n",
    "\n",
    "    # add stock constraints\n",
    "    lp += s[0] == x[0] - instance.d[0]\n",
    "    for t in range(1, instance.T):\n",
    "        lp += s[t] == s[t - 1] + x[t] - instance.d[t]\n",
    "    \n",
    "    for (t, l) in Z:\n",
    "        lp += z[t, l] <= y[t]\n",
    "\n",
    "    for t in range(instance.T):\n",
    "        lp += x[t] == xsum([instance.d[l] * z[t, l] for l in range(t, instance.T)])\n",
    "\n",
    "    for l in range(instance.T):\n",
    "        lp += xsum([z[t, l] for t in range(l + 1)]) == 1\n",
    "    \n",
    "    # define objective\n",
    "    lp.objective = xsum([instance.p[t] * x[t] for t in range(instance.T)]) + xsum([instance.h[t] * s[t] for t in range(instance.T)]) + xsum([instance.q[t] * y[t] for t in range(instance.T)])\n",
    "\n",
    "    return lp"
   ]
  },
  {
   "cell_type": "markdown",
   "metadata": {},
   "source": [
    "## Testing\n",
    "\n",
    "Test your implementation by running the code below. Answer the following questions:\n",
    "1. What is the number of variables and constraints used in each of the two relaxations?\n",
    "1. Which relaxation is solved faster on average?\n",
    "\n",
    "<i>Note:</i> The measurements take a few minutes to complete. Feel free to change the measurement range and the number of repetitions, but make sure the difference in performance remains clear."
   ]
  },
  {
   "cell_type": "code",
   "execution_count": 6,
   "metadata": {},
   "outputs": [],
   "source": [
    "import matplotlib.pyplot as plt\n",
    "import random\n",
    "import time"
   ]
  },
  {
   "cell_type": "code",
   "execution_count": 7,
   "metadata": {},
   "outputs": [],
   "source": [
    "def random_array(a_len, a_min, a_max):\n",
    "    '''Returns an array of length a_len filled with random elements between a_min and a_max.'''\n",
    "    return [random.uniform(a_min, a_max) for i in range(a_len)]\n",
    "\n",
    "\n",
    "def random_instance(T):\n",
    "    '''Generates a random instance of the uncapacitated lot-sizing problem with T time steps.'''\n",
    "    d = random_array(T, 0, 100)\n",
    "    p = random_array(T, 400, 420)\n",
    "    q = random_array(T, 1000, 2000)\n",
    "    h = random_array(T, 10, 20)\n",
    "    return UncapLotSizingInstance(T, d, p, q, h)"
   ]
  },
  {
   "cell_type": "code",
   "execution_count": null,
   "metadata": {},
   "outputs": [],
   "source": [
    "# Initialize measurements\n",
    "num_reps = 5\n",
    "T_range = range(10, 261, 25)\n",
    "times = [{T: [] for T in T_range}, {T: [] for T in T_range}]\n",
    "relaxations = [q_1_relaxation, q_2_relaxation]\n",
    "relaxation_names = ['Q_1 Relaxation', 'Q_2 Relaxation']\n",
    "random.seed(1)\n",
    "\n",
    "for T in T_range:\n",
    "    print(f'Measuring for T = {T}...')\n",
    "    \n",
    "    for rep in range(num_reps):\n",
    "        print(f'Repetition {rep}...')\n",
    "        \n",
    "        # Generate a random instance\n",
    "        instance = random_instance(T)\n",
    "        \n",
    "        for i in range(2):\n",
    "            # Measure the performance of the i-th model on the generated instance\n",
    "            m = relaxations[i](instance)\n",
    "            start = time.process_time()\n",
    "            m.optimize()\n",
    "            end = time.process_time()\n",
    "            dt = end - start\n",
    "            times[i][T].append(dt)\n",
    "            print(f'{relaxation_names[i]} has optimal value {m.objective_value}, found in time {dt}.')"
   ]
  },
  {
   "cell_type": "code",
   "execution_count": 10,
   "metadata": {},
   "outputs": [
    {
     "data": {
      "image/png": "[encoded data removed]",
      "text/plain": [
       "<Figure size 800x500 with 1 Axes>"
      ]
     },
     "metadata": {},
     "output_type": "display_data"
    }
   ],
   "source": [
    "# Plot the measurement results\n",
    "plt.figure(figsize=(8,5))\n",
    "plt.title('Solving uncapacitated lot-sizing problem using LP relaxations')\n",
    "plt.xlabel('T')\n",
    "plt.ylabel('Process time [s]')\n",
    "for i in range(2):\n",
    "    plt.scatter([size for size, res in times[i].items() for time in res if time <= 10], \n",
    "                [time for size, res in times[i].items() for time in res if time <= 10],\n",
    "                label=relaxation_names[i])\n",
    "plt.legend()\n",
    "plt.grid(True)\n",
    "plt.show()"
   ]
  },
  {
   "cell_type": "markdown",
   "metadata": {},
   "source": [
    "## (Optional) Verification of the example for part (a)\n",
    "\n",
    "Let us numerically verify that the example we proposed in part (a) is correct. To this end, we construct the corresponding problem instance, create the two relaxations using `q_1_relaxation()` and `q_2_relaxation()`, and solve the models. As we can see, the optimal values differ by exactly a factor of $2$, so our example instance is valid."
   ]
  },
  {
   "cell_type": "code",
   "execution_count": 13,
   "metadata": {},
   "outputs": [
    {
     "name": "stdout",
     "output_type": "stream",
     "text": [
      "Starting solution of the Linear programming problem using Primal Simplex\n",
      "\n",
      "Coin0506I Presolve 5 (-1) rows, 5 (-4) columns and 11 (-3) elements\n",
      "Clp1000I sum of infeasibilities 1.30112e-08 - average 2.60224e-09, 0 fixed columns\n",
      "Coin0506I Presolve 5 (0) rows, 5 (0) columns and 11 (0) elements\n",
      "Clp0006I 0  Obj 6.000173 Dual inf 797.1019 (4)\n",
      "Clp0029I End of values pass after 5 iterations\n",
      "Clp0000I Optimal - objective value 6\n",
      "Clp0000I Optimal - objective value 6\n",
      "Clp0000I Optimal - objective value 6\n",
      "Coin0511I After Postsolve, objective 6, infeasibilities - dual 0 (0), primal 0 (0)\n",
      "Clp0032I Optimal objective 6 - 0 iterations time 0.002, Presolve 0.00, Idiot 0.00\n",
      "Q1 relaxation has optimal value: 5.999999999999999.\n",
      "Starting solution of the Linear programming problem using Dual Simplex\n",
      "\n",
      "Coin0506I Presolve 4 (-11) rows, 5 (-10) columns and 10 (-25) elements\n",
      "Clp0006I 0  Obj 11 Primal inf 1.999998 (2)\n",
      "Clp0000I Optimal - objective value 12\n",
      "Coin0511I After Postsolve, objective 12, infeasibilities - dual 0 (0), primal 0 (0)\n",
      "Clp0032I Optimal objective 12 - 2 iterations time 0.002, Presolve 0.00\n",
      "Q2 relaxation has optimal value: 12.0.\n"
     ]
    }
   ],
   "source": [
    "# Write your implementation here\n",
    "T = 3\n",
    "d = [1, 1, 1]\n",
    "p = [1, 1, 1]\n",
    "q = [9, 9, 9]\n",
    "h = [0, 0, 0]\n",
    "\n",
    "inst = UncapLotSizingInstance(T, d, p, q, h)\n",
    "q1_rel = q_1_relaxation(inst)\n",
    "q2_rel = q_2_relaxation(inst)\n",
    "\n",
    "q1_rel.optimize()\n",
    "print(f\"Q1 relaxation has optimal value: {q1_rel.objective_value}.\")\n",
    "\n",
    "q2_rel.optimize()\n",
    "print(f\"Q2 relaxation has optimal value: {q2_rel.objective_value}.\")"
   ]
  },
  {
   "cell_type": "code",
   "execution_count": null,
   "metadata": {},
   "outputs": [],
   "source": []
  }
 ],
 "metadata": {
  "kernelspec": {
   "display_name": ".venv",
   "language": "python",
   "name": "python3"
  },
  "language_info": {
   "codemirror_mode": {
    "name": "ipython",
    "version": 3
   },
   "file_extension": ".py",
   "mimetype": "text/x-python",
   "name": "python",
   "nbconvert_exporter": "python",
   "pygments_lexer": "ipython3",
   "version": "3.12.3"
  }
 },
 "nbformat": 4,
 "nbformat_minor": 4
}
