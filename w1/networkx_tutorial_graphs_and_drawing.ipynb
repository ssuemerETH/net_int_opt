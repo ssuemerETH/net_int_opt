{
 "cells": [
  {
   "cell_type": "markdown",
   "metadata": {},
   "source": [
    "# Creating and drawing graphs with networkx\n",
    "\n",
    "<b>Goals of this notebook:</b>\n",
    "Learn how to create and draw undirected and directed graphs with and wihtout node and edge attributes.\n",
    "\n",
    "<b>Python packages required:</b>\n",
    "`networkx`\n",
    "\n",
    "<b>Additional resources:</b>\n",
    "For more on networkx including examples and tutorials, see https://networkx.github.io/documentation/stable/.\n",
    "For more on graph drawing, see https://networkx.github.io/documentation/stable/reference/drawing.html."
   ]
  },
  {
   "cell_type": "markdown",
   "metadata": {},
   "source": [
    "## Part 1. Undirected graphs\n",
    "\n",
    "Graphs are ways of representing relationships between objects. \n",
    "A graph consists of two components: a set of nodes (sometimes called vertices) and a set of edges that connect the nodes."
   ]
  },
  {
   "cell_type": "markdown",
   "metadata": {},
   "source": [
    "### Creating graphs\n",
    "\n",
    "We can build graphs in Python using three steps.\n",
    "\n",
    "<b>Step 1: Import Python's toolbox for graphs.</b> \n",
    "This toolbox is called `networkx`. \n",
    "\n",
    "<b>Step 2: Create an empty graph.</b>\n",
    "An empty graph is just the graph that contains no nodes or edges.\n",
    "\n",
    "<b>Step 3: Add nodes and edges.</b>\n",
    "\n",
    "Let's use the the following example to demonstrate <b>Steps 1-3</b>.\n",
    "\n",
    "$$\n",
    "\\begin{array}{rcl}\n",
    "\\text{Nodes} &=& \\{1, 2, \\dotsc, 7\\}\\\\\n",
    "\\text{Edges} &=&\\{\\{i,j\\} : ~~ |i - j| \\equiv 1\\pmod{5} ~~\\text{or} ~~ |i - j| \\equiv 2\\pmod{5}\\}.\n",
    "\\end{array}\n",
    "$$\n",
    "\n",
    "<i>Note:</i>\n",
    "We can label each node with anything we choose, e.g., a number, a letter, or a name."
   ]
  },
  {
   "cell_type": "markdown",
   "metadata": {},
   "source": [
    "#### Steps 1 and 2. Loading networkx and creating an empty graph\n",
    "\n",
    "The first thing to do is load `networkx` using the command\n",
    "\n",
    "`import networkx as nx`\n",
    "\n",
    "<i>Note:</i> You need to load the `networkx` package only once in the notebook."
   ]
  },
  {
   "cell_type": "code",
   "execution_count": 1,
   "metadata": {},
   "outputs": [],
   "source": [
    "# Load networkx\n",
    "import networkx as nx"
   ]
  },
  {
   "cell_type": "markdown",
   "metadata": {},
   "source": [
    "After loading `networkx` as above, we can create an empty graph named `G` with the command \n",
    "\n",
    "`G = nx.Graph()`\n",
    "\n",
    "Feel free to replace `G` with the name that you want for your graph.\n",
    "\n",
    "Run the following line of code to import `networkx` and create `G`."
   ]
  },
  {
   "cell_type": "code",
   "execution_count": 2,
   "metadata": {},
   "outputs": [],
   "source": [
    "# Create an empty graph\n",
    "G = nx.Graph()"
   ]
  },
  {
   "cell_type": "markdown",
   "metadata": {},
   "source": [
    "#### Step 3. Adding nodes and edges \n",
    "\n",
    "There are many ways to add nodes to `G`.\n",
    "We add the node labeled `v` to `G` using the command \n",
    "\n",
    "`G.add_node(v)` \n",
    "\n",
    "We can view the nodes of `G` using the command `G.nodes`.\n",
    "\n",
    "Run the following line of code to add node labeled `1` and print the node list. "
   ]
  },
  {
   "cell_type": "code",
   "execution_count": 3,
   "metadata": {},
   "outputs": [
    {
     "name": "stdout",
     "output_type": "stream",
     "text": [
      "The nodes of G are [1].\n"
     ]
    }
   ],
   "source": [
    "# Add one node to G\n",
    "G.add_node(1)\n",
    "\n",
    "# Print the node list\n",
    "print(f'The nodes of G are {G.nodes}.')"
   ]
  },
  {
   "cell_type": "markdown",
   "metadata": {},
   "source": [
    "We can add multiple nodes using the command `G.add_nodes_from()`.\n",
    "If we want to add nodes `2,3,4,5` to `G`, then we using the command \n",
    "\n",
    "`G.add_nodes_from([2,3,4,5])`\n",
    "\n",
    "<i>Note:</i> The nodes that we add are inserted in `G.add_nodes_from()` using a Python list. Therefore, we can also add the nodes `2,3,4,5` using `G.add_nodes_from(range(2,6))`.\n",
    "\n",
    "Run the following line of code to add node labeled `2` through `5` and print the node list."
   ]
  },
  {
   "cell_type": "code",
   "execution_count": 4,
   "metadata": {},
   "outputs": [
    {
     "name": "stdout",
     "output_type": "stream",
     "text": [
      "The nodes of G are [1, 2, 3, 4, 5].\n"
     ]
    }
   ],
   "source": [
    "# Add multiple nodes to G\n",
    "G.add_nodes_from([2, 3, 4, 5])\n",
    "\n",
    "# Print the nodes\n",
    "print(f'The nodes of G are {G.nodes}.')"
   ]
  },
  {
   "cell_type": "markdown",
   "metadata": {},
   "source": [
    "A third way to add a node is to add an edge containing the node.\n",
    "Notice that the last two nodes that we need to add, `6` and `7`, form an edge in `G`. \n",
    "We can add one edge at a time using the command `G.add_edge()` with the two nodes of the edge inserted in `()`.\n",
    "Therefore, the command \n",
    "\n",
    "`G.add_edge(6,7)` \n",
    "\n",
    "will add the nodes `6` and `7` <i>and</i> add the edge `(6,7)`.\n",
    "\n",
    "We can access the current edge list using the command `G.edges`.\n",
    " \n",
    "Run the following line of code to add nodes `6` and `7` and print the nodes and edges."
   ]
  },
  {
   "cell_type": "code",
   "execution_count": 5,
   "metadata": {},
   "outputs": [
    {
     "name": "stdout",
     "output_type": "stream",
     "text": [
      "The nodes of G are [1, 2, 3, 4, 5, 6, 7].\n",
      "The edges of G are [(6, 7)].\n"
     ]
    }
   ],
   "source": [
    "# Add nodes to G by adding an edge\n",
    "G.add_edge(6, 7)\n",
    "\n",
    "# Print the nodes\n",
    "print(f'The nodes of G are {G.nodes}.')\n",
    "\n",
    "# Print the edges\n",
    "print(f'The edges of G are {G.edges}.')"
   ]
  },
  {
   "cell_type": "markdown",
   "metadata": {},
   "source": [
    "The command `G.add_edge()` adds one edge to `G`. \n",
    "We can add multiple edges using the command `G.add_edges_from()` with the edges inserted in `()` in a list.\n",
    "For example, the command\n",
    "\n",
    "`G.add_edges_from([(1,2), (2,3), (3,4), (4,5)])`\n",
    "\n",
    "will add the edges `(1,2), (2,3), (3,4)` and `(4,5)` to `G`.\n",
    "\n",
    "Run the following line of code to add these edges to `G` and print the edges."
   ]
  },
  {
   "cell_type": "code",
   "execution_count": 6,
   "metadata": {},
   "outputs": [
    {
     "name": "stdout",
     "output_type": "stream",
     "text": [
      "The edges of G are [(1, 2), (2, 3), (3, 4), (4, 5), (6, 7)].\n"
     ]
    }
   ],
   "source": [
    "# Add multiple edges\n",
    "G.add_edges_from([(1, 2), (2, 3), (3, 4), (4, 5)])\n",
    "\n",
    "# Print the edges\n",
    "print(f'The edges of G are {G.edges}.')"
   ]
  },
  {
   "cell_type": "markdown",
   "metadata": {},
   "source": [
    "It is important to know that we can also remove nodes and edges from a graph. \n",
    "The command to remove a node is `G.remove_node()`, and the command to remove an edge is `G.remove_edge()`.\n",
    "For example, the command\n",
    "\n",
    "`G.remove_edge(1, 2)`\n",
    "\n",
    "removes the edge `(1,2)` from `G`.\n",
    "We can also use the commands `G.remove_nodes_from()` and `G.remove_edges_from()`.\n",
    "\n",
    "Run the following line of code to remove the edge `(1, 2)` from `G` and print the edges."
   ]
  },
  {
   "cell_type": "code",
   "execution_count": 7,
   "metadata": {},
   "outputs": [
    {
     "name": "stdout",
     "output_type": "stream",
     "text": [
      "The edges of G are [(2, 3), (3, 4), (4, 5), (6, 7)].\n"
     ]
    }
   ],
   "source": [
    "# Removing edges\n",
    "G.remove_edge(1, 2)\n",
    "\n",
    "#Print the edges\n",
    "print(f'The edges of G are {G.edges}.')"
   ]
  },
  {
   "cell_type": "markdown",
   "metadata": {},
   "source": [
    "We can add the remaining edges of `G` by looping through all nodes and checking if they form an edge of `G`.\n",
    "We can loop through the nodes of `G` using \n",
    "\n",
    "`for i in G.nodes`\n",
    "\n",
    "Run the following line of code to add the remaining edges to `G` and print the edges."
   ]
  },
  {
   "cell_type": "code",
   "execution_count": 8,
   "metadata": {},
   "outputs": [
    {
     "name": "stdout",
     "output_type": "stream",
     "text": [
      "The edges of G are [(1, 2), (1, 3), (1, 7), (2, 3), (2, 4), (3, 4), (3, 5), (4, 5), (4, 6), (5, 6), (5, 7), (6, 7)].\n"
     ]
    }
   ],
   "source": [
    "# Create the remaining edges of G\n",
    "for i in G.nodes:\n",
    "    for j in G.nodes:\n",
    "        if abs(i - j) % 5 == 1 or abs(i - j) % 5 == 2 :\n",
    "            G.add_edge(i, j)\n",
    "            \n",
    "# Print the edges\n",
    "print(f'The edges of G are {G.edges}.')"
   ]
  },
  {
   "cell_type": "markdown",
   "metadata": {},
   "source": [
    "Congratulations!\n",
    "You have succesfully created a graph using `networkx`. \n",
    "\n",
    "We can now examine the nodes and edges of `G`.\n",
    "\n",
    "<i>Note:</i> The Python package `itertools` allows us to quickly loop over tuples of a set.\n",
    "As an example, the double loop above could be replaced by\n",
    "\n",
    "    from itertools import combinations\n",
    "\n",
    "    for pair in combinations(G.nodes, 2):\n",
    "        if abs(pair[0] - pair[1]) % 5 == 1 or abs(pair[0] - pair[1]) % 5 == 2:\n",
    "            G.add_edge(pair[0], pair[1])\n",
    "\n",
    "The previous code loops through all `combinations` of `G.nodes` of size `2`. "
   ]
  },
  {
   "cell_type": "markdown",
   "metadata": {},
   "source": [
    "### Drawing graphs\n",
    "\n",
    "It is often helpful for us to visualize a graph. \n",
    "The `networkx` package can be used to plot graphs. \n",
    "\n",
    "<i>Note:</i> Graph drawing is difficult and it is not easy to draw a graph in `networkx` precisely how we want. \n",
    "\n",
    "We can draw `G` using the command \n",
    "\n",
    "`nx.draw(G, with_labels = True, node_color = 'lightblue')`\n",
    "\n",
    "There is one mandatory input and many optinonal inputs to this function.\n",
    "\n",
    "`G` : This is the name of the graph that we want to draw. It is mandatory.\n",
    "\n",
    "`with_labels = True` : This shows the labels of our nodes. This is an optional input. If we have many nodes, then it might be helpful to remove this input.\n",
    "\n",
    "`node_color = 'lightblue'`: This adjusts the color of the nodes.\n",
    "\n",
    "Run the following cell to draw `G`."
   ]
  },
  {
   "cell_type": "code",
   "execution_count": 10,
   "metadata": {},
   "outputs": [
    {
     "data": {
      "image/png": "[encoded data removed]",
      "text/plain": [
       "<Figure size 640x480 with 1 Axes>"
      ]
     },
     "metadata": {},
     "output_type": "display_data"
    }
   ],
   "source": [
    "# This magic command is for drawing inline in the Jupyter Notebook. It has to be executed once for the full notebook.\n",
    "%matplotlib inline\n",
    "\n",
    "# Draw G\n",
    "nx.draw(G, with_labels = True, node_color = 'lightblue')\n",
    "\n",
    "# Note: There might be a deprecation warning appearing; it comes from code in the networkx package, so we cannot do much about it."
   ]
  },
  {
   "cell_type": "markdown",
   "metadata": {},
   "source": [
    "One very useful optional input is the position of the nodes. \n",
    "If we do not specify positions, then `nx.draw()` will draw the nodes in different places everytime we run it!\n",
    "You can test this for yourself by re-running the previous command.\n",
    " \n",
    "It is useful to choose positions because we will later use these positions to draw other things on our graph such as edge weights.\n",
    "These positions can be manually created, but `networkx` has a collection of positions to choose from. \n",
    "The line of code \n",
    "\n",
    "`node_pos =  nx.circular_layout(G)` \n",
    "\n",
    "chooses the `circular_layout` positioning.\n",
    "We add this positioning to our nodes by adding \n",
    "\n",
    "`pos = node_pos` \n",
    "\n",
    "as an input to the `nx.draw()` command. \n",
    "\n",
    "<i>Note:</i> Some layouts in `networkx` create new positions every time that it is run. Therefore, you should only run these command once and reference the position later using `node_pos`!\n",
    "If you do this, then every time you draw `G` the nodes will be in the same position.\n",
    "\n",
    "Run the following lines of code to set the node positions."
   ]
  },
  {
   "cell_type": "code",
   "execution_count": 11,
   "metadata": {},
   "outputs": [
    {
     "data": {
      "image/png": "[encoded data removed]",
      "text/plain": [
       "<Figure size 640x480 with 1 Axes>"
      ]
     },
     "metadata": {},
     "output_type": "display_data"
    }
   ],
   "source": [
    "# Fix a position of the nodes\n",
    "node_pos =  nx.circular_layout(G)\n",
    "\n",
    "# Draw G with fixed positions\n",
    "nx.draw(G,with_labels = True, pos = node_pos, node_color = 'lightblue')"
   ]
  },
  {
   "cell_type": "markdown",
   "metadata": {},
   "source": [
    "### Mini-conclusion\n",
    "\n",
    "At this point, we have seen how to create undirected graphs and draw them."
   ]
  },
  {
   "cell_type": "markdown",
   "metadata": {},
   "source": [
    "## Part 2. Directed graphs\n",
    "\n",
    "Many graphs have directions on the edges (edges with directions are called arcs). Such graphs are called directed graphs or digraphs for short."
   ]
  },
  {
   "cell_type": "markdown",
   "metadata": {},
   "source": [
    "### Creating digraphs\n",
    "\n",
    "We can create these 'digraphs' using `networkx` in the same way as undirected graphs. \n",
    "\n",
    "<b>Step 1</b> Import `networkx`.\n",
    "\n",
    "<b>Step 2</b> Create an empty digraph.\n",
    "\n",
    "<b>Step 3</b> Add nodes and arcs. \n",
    "\n",
    "Let's illustrate these steps using the following digraph:\n",
    "\n",
    "$$\n",
    "\\begin{array}{rcl}\n",
    "\\text{Nodes} &=& \\{\\text{A}~,\\text{L},~\\text{P},~\\text{H},~\\text{B},~\\text{E},~\\text{T}\\}\\\\\n",
    "\\text{Arcs} &=&\\{(u,v) : \\text{ if } u \\text{ comes directly before } v \\text{ in the word ALPHABET}\\}.\n",
    "\\end{array}\n",
    "$$"
   ]
  },
  {
   "cell_type": "markdown",
   "metadata": {},
   "source": [
    "#### Steps 1 and 2. Import `networkx` and create an empty digraph.\n",
    "\n",
    "These steps are almost identical to the steps for an undirected graph. \n",
    "The only difference is that we create an empty digraph using the command \n",
    "\n",
    "`G = nx.DiGraph()`.\n",
    "\n",
    "Run the following code create an empty digraph.\n",
    "\n",
    "<i>Note:</i> As we mentioned in the section on undirected graphs, the `networkx` package is already loaded, so it's not necessary to repeat Step 1 here."
   ]
  },
  {
   "cell_type": "code",
   "execution_count": 12,
   "metadata": {},
   "outputs": [],
   "source": [
    "# Import networkx and run the magic command for later inline drawings\n",
    "# It's sufficient to execute these commands once in the whole notebook\n",
    "import networkx as nx\n",
    "%matplotlib inline\n",
    "\n",
    "# Create an empty digraph\n",
    "G = nx.DiGraph()"
   ]
  },
  {
   "cell_type": "markdown",
   "metadata": {},
   "source": [
    "#### Step 3. Add nodes and arcs\n",
    "\n",
    "These commands are exactly the same as they are for undirected graphs!\n",
    "However, the order of the nodes is important when we add an arc. \n",
    "The first node becomes the tail of the arc and the second node becomes the head of the arc. \n",
    "For example, the command\n",
    "\n",
    "`G.add_edge(\"A\", \"L\")`\n",
    "\n",
    "will create an arc starting at `A` and pointing to `L`.\n",
    "\n",
    "<i>Note:</i>\n",
    "If a node is labeled with a letter or a word, then we must add it using quotation marks. For example, the command `G.add_node(\"A\")` adds node A.\n",
    "\n",
    "<i>Note:</i>\n",
    "If we try to add two nodes with the same label, then Python will only keep one copy of the node.\n",
    "\n",
    "Run the following code to add the nodes and arcs of `G`."
   ]
  },
  {
   "cell_type": "code",
   "execution_count": 13,
   "metadata": {},
   "outputs": [
    {
     "name": "stdout",
     "output_type": "stream",
     "text": [
      "The nodes of G are ['A', 'L', 'P', 'H', 'B', 'E', 'T'].\n",
      "The arcs of G are [('A', 'L'), ('A', 'B'), ('L', 'P'), ('P', 'H'), ('H', 'A'), ('B', 'E'), ('E', 'T')].\n"
     ]
    }
   ],
   "source": [
    "# Create the nodes and arcs \n",
    "word = \"ALPHABET\"\n",
    "\n",
    "G.add_nodes_from(list(word)) # list(\"ALPHABET\") gives ['A', 'L', 'P', 'H', 'A', 'B', 'E', 'T']\n",
    "\n",
    "for i in range(0, len(word)-1):\n",
    "    G.add_edge(word[i], word[i+1])\n",
    "    \n",
    "# Print the nodes and arcs of G\n",
    "\n",
    "print(f'The nodes of G are {G.nodes}.')\n",
    "print(f'The arcs of G are {G.edges}.')"
   ]
  },
  {
   "cell_type": "markdown",
   "metadata": {},
   "source": [
    "### Additional properties of digraphs\n",
    "\n",
    "Digraphs have more properties than undirected graphs.\n",
    "For example, a node `v` in a directed graph has an indegree and an outdegree. \n",
    "These are accessed using the commands \n",
    "\n",
    "`H.in_degree(v)` and `H.out_degree(v)`.\n",
    "\n",
    "We can view the nodes that `v` points to using \n",
    "\n",
    "`H.successors(v)`\n",
    "\n",
    "and the nodes that point to `v` using \n",
    "\n",
    "`H.predecessors(v)`\n",
    "\n",
    "<i>Note:</i> The commands `H.successors(v)` and `H.predecessors(v)` return iterators. These are perfect for iterating through successors or predecessors; to look at the actual successors or predecessors, we can convert them to lists using `list(H.successors(v))`.\n",
    "\n",
    "Run the following code to check the in- and outdegree of `A` and print its successors/predecessors. "
   ]
  },
  {
   "cell_type": "code",
   "execution_count": 14,
   "metadata": {},
   "outputs": [
    {
     "name": "stdout",
     "output_type": "stream",
     "text": [
      "The indegree of node A is 1.\n",
      "The predecessors of node A are ['H'].\n",
      "The outdegree of node A is 2.\n",
      "The successors of node A are ['L', 'B'].\n"
     ]
    }
   ],
   "source": [
    "# Print the indegree and predecessors of A.\n",
    "print(f'The indegree of node A is {G.in_degree(\"A\")}.')\n",
    "print(f'The predecessors of node A are {list(G.predecessors(\"A\"))}.')\n",
    "\n",
    "# Print the outdegree and successors of A.\n",
    "print(f'The outdegree of node A is {G.out_degree(\"A\")}.'.format())\n",
    "print(f'The successors of node A are {list(G.successors(\"A\"))}.')"
   ]
  },
  {
   "cell_type": "markdown",
   "metadata": {},
   "source": [
    "Another useful thing is to turn a digraph into an undirected graph. \n",
    "We can do this using the command \n",
    "\n",
    "`G_undirected = nx.Graph(G)`. \n",
    "\n",
    "Run the following commands to turn `G` into an undirected graph."
   ]
  },
  {
   "cell_type": "code",
   "execution_count": 15,
   "metadata": {},
   "outputs": [
    {
     "data": {
      "image/png": "[encoded data removed]",
      "text/plain": [
       "<Figure size 640x480 with 1 Axes>"
      ]
     },
     "metadata": {},
     "output_type": "display_data"
    }
   ],
   "source": [
    "# Turn G into an undirected graph\n",
    "G_undirected = nx.Graph(G)\n",
    "\n",
    "# Draw G_undirected\n",
    "node_pos = nx.circular_layout(G_undirected)\n",
    "\n",
    "nx.draw(G_undirected, with_labels = True, pos = node_pos, \n",
    "        node_color = 'lightblue')"
   ]
  },
  {
   "cell_type": "markdown",
   "metadata": {},
   "source": [
    "### Drawing digraphs\n",
    "\n",
    "We can draw `G` using the same command as before:\n",
    "\n",
    "`nx.draw(G, with_labels = True, pos = node_pos, node_color = 'lightblue', arrowsize=20)` \n",
    "\n",
    "Here we see a new optional input `arrowsize=20` to the `nx.draw()` command.\n",
    "The arcs of `G` are denoted with arrows, and this input lets us choose their size. \n",
    "\n",
    "Run the following code to draw `G`."
   ]
  },
  {
   "cell_type": "code",
   "execution_count": 16,
   "metadata": {},
   "outputs": [
    {
     "data": {
      "image/png": "[encoded data removed]",
      "text/plain": [
       "<Figure size 640x480 with 1 Axes>"
      ]
     },
     "metadata": {},
     "output_type": "display_data"
    }
   ],
   "source": [
    "# Fix a position of the nodes\n",
    "node_pos = nx.circular_layout(G)\n",
    "\n",
    "# Draw G\n",
    "nx.draw(G, with_labels = True, pos = node_pos, \n",
    "        node_color = 'lightblue', arrowsize=20)\n",
    "\n",
    "# Note: There might be a deprecation warning appearing; it comes from code in the networkx package, so we cannot do much about it."
   ]
  },
  {
   "cell_type": "markdown",
   "metadata": {},
   "source": [
    "### Mini-conclusion\n",
    "\n",
    "Thus, digraphs in `networkx` are created in almost the same way as undirected graphs and drawn in exactly the same way."
   ]
  },
  {
   "cell_type": "markdown",
   "metadata": {},
   "source": [
    "## Part 3. Node and edge attributes\n",
    "\n",
    "We have seen how to create graphs and digraphs.\n",
    "These structures capture the relationships between different objects. \n",
    "However, it is often helpful to add extra attributes to these objects and their relationships. \n",
    "For example, suppose we use a graph to represent roads between major cities. \n",
    "It might be useful to keep track of how many people live in each city and the travel time between cities. \n",
    "We call these properties <b>node and edge attributes.</b>\n",
    "\n",
    "Let us use cities as an example to illustrate node and edge attributes in `networkx`.\n",
    "Consider Berlin, London, and Zurich. The following tables give the population (in millions of people) and flight time (in hours) between these cities.\n",
    "\n",
    "$$\n",
    "\\begin{array}{ccc}\n",
    "\\text{Population} & &\\text{Travel time}\\\\\n",
    "\\begin{array}{c|c}\n",
    "\\text{Berlin} & 3.748\\\\\n",
    "\\text{London} & 8.825 \\\\ \n",
    "\\text{Zurich} & 0.415\n",
    "\\end{array}\n",
    "&\n",
    "\\quad\n",
    "&\n",
    "\\begin{array}{c|c|c|c}\n",
    "& \\text{Berlin} & \\text{London} & \\text{Zurich}\\\\\n",
    "\\hline\n",
    "\\text{Berlin} & -- & 1.8 & 1.5 \\\\\n",
    "\\text{London} & 1.8 &-- & 1.7 \\\\ \n",
    "\\text{Zurich} & 1.5 &  1.7 & --\n",
    "\\end{array}\n",
    "\\end{array}\n",
    "$$\n",
    "\n",
    "We will create a graph using this data. \n",
    "\n",
    "Run the following line of code to import the proper package and create an empty graph."
   ]
  },
  {
   "cell_type": "code",
   "execution_count": 17,
   "metadata": {},
   "outputs": [],
   "source": [
    "# Import networkx and run the magic command for later inline drawings\n",
    "# It's sufficient to execute these commands once in the whole notebook\n",
    "import networkx as nx\n",
    "%matplotlib inline\n",
    "\n",
    "# Create an empty graph\n",
    "G = nx.Graph()"
   ]
  },
  {
   "cell_type": "markdown",
   "metadata": {},
   "source": [
    "### Adding a node attribute\n",
    "\n",
    "If we want to add a node with an attribute to `G`, then we use the command\n",
    "\n",
    "`G.add_node(node_label, attribute_name = attribute_value)`\n",
    "\n",
    "There are three parts to this command:\n",
    "\n",
    "`node_label`: This is the usual node label that we are familiar with.\n",
    "\n",
    "`attribute_name`: This is the name of the particular attribute. For example, if we want to use the attribute `population`, then we would replace `attribute_name` by `population`.\n",
    "\n",
    "`attribute_value`: This is the value of the attribute that we give to this node. For example, for Berlin we will replace `attribute_value` by `3.748`.\n",
    "\n",
    "We can use the command `G.add_node_from()` to add many nodes at once.\n",
    "We can still use this command with attributes using the following command:\n",
    "\n",
    "`G.add_nodes_from([(node1, {\"attribute_name\": attribute_value1}), \n",
    "                   (node2, {\"attribute_name\": attribute_value2}),...])`\n",
    "\n",
    "<i>Note:</i>\n",
    "The command `G.add_node()` does not require quotation marks around the attribute name nor does it need the brackets `{}`. \n",
    "However, `G.add_nodes_from` does need quotation marks and `{}`. A node can have multiple attributes, and when we add multiple nodes at one time we use the quotation marks and the `{}` brackets to appropriately organize everything for Python. In fact, we provide a list of pairs, where for each pair, the first entry is a node, and the second entry is a dictionary that maps the name of an attribute (a string, hence in quotes) to its value.\n",
    "Of course, with the very same syntax, we could also add several attributes at once.\n",
    "\n",
    "Run the following code to add a node for `Berlin, London`, and `Zurich` with the `population` attribute."
   ]
  },
  {
   "cell_type": "code",
   "execution_count": 18,
   "metadata": {},
   "outputs": [],
   "source": [
    "# Add one node\n",
    "G.add_node(\"Berlin\", population = 3.748)\n",
    "\n",
    "# Add many nodes\n",
    "G.add_nodes_from([(\"London\", {\"population\" : 8.825}),\n",
    "                  (\"Zurich\", {\"population\" : 0.415})])"
   ]
  },
  {
   "cell_type": "markdown",
   "metadata": {},
   "source": [
    "We can view a node's attribute using the command\n",
    "\n",
    "`G.nodes[node_label][\"attribute_name\"]`\n",
    "\n",
    "Notice the quotation marks around `attribute_name`.\n",
    "\n",
    "If we want to get all of the attributes as a dictionary that maps nodes to the corresponding attribute values, then we can use \n",
    "\n",
    "`nx.get_node_attributes(G, \"attribute_name\")`\n",
    "\n",
    "Run the following code to print the population of different cities."
   ]
  },
  {
   "cell_type": "code",
   "execution_count": 19,
   "metadata": {},
   "outputs": [
    {
     "name": "stdout",
     "output_type": "stream",
     "text": [
      "Berlin has 3.748 million people.\n",
      "London has 8.825 million people.\n",
      "Zurich has 0.415 million people.\n",
      "The populations are {'Berlin': 3.748, 'London': 8.825, 'Zurich': 0.415}.\n"
     ]
    }
   ],
   "source": [
    "# Print each city's population individually\n",
    "for city in G.nodes:\n",
    "    print(f'{city} has {G.nodes[city][\"population\"]} million people.')\n",
    "\n",
    "# Print each city's population at once \n",
    "city_pop = nx.get_node_attributes(G, \"population\")\n",
    "\n",
    "print(f'The populations are {city_pop}.')"
   ]
  },
  {
   "cell_type": "markdown",
   "metadata": {},
   "source": [
    "### Adding an edge attribute\n",
    "\n",
    "Adding edge attributes are done in the same way as node attributes except we use the commands `G.add_edge()` and `G.add_edges_from()`.\n",
    "If we want to add an edge with attribute `travel_time` between `Berlin` and `London`, then we use the command\n",
    "\n",
    "`G.add_edge(\"Berlin\", \"London\", travel_time = 1.8)`\n",
    "\n",
    "If we want to add multiple edges with attribute `travel_time`, then we use the command\n",
    "\n",
    "`G.add_edges_from([(\"Berlin\", \"Zurich\", {\"travel_time\": 1.5}), \n",
    "                   (\"London\", \"Zurich\", {\"travel_time\": 1.7})])`\n",
    "\n",
    "We can get an edge attribute dictionary using the command \n",
    "\n",
    "`nx.get_edge_attributes(G, \"attribute_name\")`\n",
    "\n",
    "Run the following code to add edges between each city with the `travel_time` attribute."
   ]
  },
  {
   "cell_type": "code",
   "execution_count": 20,
   "metadata": {},
   "outputs": [
    {
     "name": "stdout",
     "output_type": "stream",
     "text": [
      "The travel times are {('Berlin', 'London'): 1.8, ('Berlin', 'Zurich'): 1.5, ('London', 'Zurich'): 1.7}.\n"
     ]
    }
   ],
   "source": [
    "# Add one edge\n",
    "G.add_edge(\"Berlin\", \"London\", travel_time = 1.8)\n",
    "\n",
    "# Add multiple edges\n",
    "G.add_edges_from([(\"Berlin\", \"Zurich\", {\"travel_time\": 1.5}), \n",
    "                  (\"London\", \"Zurich\", {\"travel_time\": 1.7})])\n",
    "\n",
    "# Print the edge travel times\n",
    "times = nx.get_edge_attributes(G, \"travel_time\")\n",
    "\n",
    "print(f'The travel times are {times}.')"
   ]
  },
  {
   "cell_type": "markdown",
   "metadata": {},
   "source": [
    "### Editing attributes \n",
    "\n",
    "We can also adjust the attributes of a node or an edge.\n",
    "If we want to change the popluation of `Berlin` to `3.6`, then we can use the command \n",
    "\n",
    "`G.nodes[\"Berlin\"][\"population\"] = 3.6`\n",
    "\n",
    "If we want to change the travel time between `London` and `Zurich` to `1.75`, then we can use the command \n",
    "\n",
    "`G.edges[(\"London\",\"Zurich\")][\"travel_time\"] = 1.75`\n",
    "\n",
    "Run the following code to update these attribute values and reprint everything."
   ]
  },
  {
   "cell_type": "code",
   "execution_count": 21,
   "metadata": {},
   "outputs": [
    {
     "name": "stdout",
     "output_type": "stream",
     "text": [
      "Berlin has 3.6 million people.\n",
      "London has 8.825 million people.\n",
      "Zurich has 0.415 million people.\n",
      "The travel times are {('Berlin', 'London'): 1.8, ('Berlin', 'Zurich'): 1.5, ('London', 'Zurich'): 1.75}.\n"
     ]
    }
   ],
   "source": [
    "# Update Berlin's population\n",
    "G.nodes[\"Berlin\"][\"population\"] = 3.6\n",
    "\n",
    "for city in G.nodes:\n",
    "    print(f'{city} has {G.nodes[city][\"population\"]} million people.')\n",
    "    \n",
    "# Update travel time from London to Zurich\n",
    "G.edges[(\"London\",\"Zurich\")][\"travel_time\"] = 1.75\n",
    "        \n",
    "# Print the edge travel times         \n",
    "times = nx.get_edge_attributes(G, \"travel_time\")\n",
    "\n",
    "print(f'The travel times are {times}.')"
   ]
  },
  {
   "cell_type": "markdown",
   "metadata": {},
   "source": [
    "Many graphs have multiple node and edge attributes. \n",
    "We can simply add these extra attributes in the same way as we added the attributes `population` and `travel_time`."
   ]
  },
  {
   "cell_type": "markdown",
   "metadata": {},
   "source": [
    "### Drawing graphs with node and edge attributes\n",
    "\n",
    "Let us draw `G` with the population written on every city's node and the travel time written on every edge. \n",
    "In order to do this, we first draw our graph with the usual command\n",
    "\n",
    "`nx.draw(G, pos = node_pos, node_color = 'lightblue', arrowsize = 20)`\n",
    "\n",
    "Note that we didn't set the parameter `with_labels = True`, as this would display city names instead of populations.\n",
    "We can add node attributes to the drawing with\n",
    "\n",
    "`nx.draw_networkx_labels(G, pos = node_pos, labels = nx.get_node_attributes(G, 'population'))`\n",
    "\n",
    "Here's a breakdown of the parameters of this function:\n",
    "\n",
    "`G` : This is the name of the graph.\n",
    "\n",
    "`pos = node_pos` : We're using the same node position as for the original drawing, so that `networkx` positions the node attributes in the middle of each node.\n",
    "\n",
    "`labels = nx.get_node_attributes(G, 'population')` : We choose the `population` node attribute to be displayed.\n",
    "\n",
    "Similarly, we now draw our edge attributes on top of this graph using the command\n",
    "\n",
    "`edge_draw = nx.draw_networkx_edge_labels(G, pos = node_pos, \n",
    "                                          edge_labels = nx.get_edge_attributes(G, 'travel_time'))`\n",
    "\n",
    "This command has four parts:\n",
    "\n",
    "`G` : This is the name of the graph.\n",
    "\n",
    "`pos = node_pos` : This says where we draw the arc attribute. If we use the same position as for the nodes, then `networkx` will draw the attriute in the middle of the arc.\n",
    "\n",
    "`edge_labels = nx.get_edge_attributes(G, 'travel_time')` : We choose to draw the `travel_time` edge attribute.\n",
    "\n",
    "`edge_draw = ... ` : The `nx.draw_networkx_edge_labels` returns the attribute value drawn on the arcs. \n",
    "We need to store this dictionary otherwise it will be printed to the screen. This is why we use `edge_draw = ...`.\n",
    "\n",
    "Run the following commands to visualize `H` with capacities."
   ]
  },
  {
   "cell_type": "code",
   "execution_count": 22,
   "metadata": {},
   "outputs": [
    {
     "name": "stderr",
     "output_type": "stream",
     "text": [
      "/home/ssuemer/Desktop/ETH/FS25/net_int_opt/w1/.venv/lib/python3.12/site-packages/networkx/drawing/nx_pylab.py:315: UserWarning: \n",
      "\n",
      "The arrowsize keyword argument is not applicable when drawing edges\n",
      "with LineCollection.\n",
      "\n",
      "To make this warning go away, either specify `arrows=True` to\n",
      "force FancyArrowPatches or use the default values.\n",
      "Note that using FancyArrowPatches may be slow for large graphs.\n",
      "\n",
      "  draw_networkx_edges(G, pos, arrows=arrows, **edge_kwds)\n"
     ]
    },
    {
     "data": {
      "image/png": "[encoded data removed]",
      "text/plain": [
       "<Figure size 640x480 with 1 Axes>"
      ]
     },
     "metadata": {},
     "output_type": "display_data"
    }
   ],
   "source": [
    "# Add node positions\n",
    "node_pos = nx.circular_layout(G)\n",
    "\n",
    "# Draw G\n",
    "nx.draw(G, pos = node_pos, node_color = 'lightblue', arrowsize = 20)\n",
    "\n",
    "# Draw the node labels\n",
    "nx.draw_networkx_labels(G, pos = node_pos,\n",
    "                        labels = nx.get_node_attributes(G, 'population'))\n",
    "\n",
    "# Draw the edge labels\n",
    "edge_draw = nx.draw_networkx_edge_labels(G, pos = node_pos, \n",
    "                                         edge_labels = nx.get_edge_attributes(G, 'travel_time'))\n",
    "\n",
    "# Note: There might be a deprecation warning appearing; it comes from code in the networkx package, so we cannot do much about it."
   ]
  },
  {
   "cell_type": "markdown",
   "metadata": {},
   "source": [
    "### Mini-conclusion\n",
    "\n",
    "Great! Now you know how to handle graphs with node and edge attributes."
   ]
  },
  {
   "cell_type": "markdown",
   "metadata": {},
   "source": [
    "## Conclusions\n",
    "\n",
    "This tutorial coveres how to create and draw graphs using the `networkx` package. A future tutorial will give an overview of some graph algorithms available in `networkx`."
   ]
  }
 ],
 "metadata": {
  "kernelspec": {
   "display_name": ".venv",
   "language": "python",
   "name": "python3"
  },
  "language_info": {
   "codemirror_mode": {
    "name": "ipython",
    "version": 3
   },
   "file_extension": ".py",
   "mimetype": "text/x-python",
   "name": "python",
   "nbconvert_exporter": "python",
   "pygments_lexer": "ipython3",
   "version": "3.12.3"
  }
 },
 "nbformat": 4,
 "nbformat_minor": 4
}
