{
 "cells": [
  {
   "cell_type": "markdown",
   "metadata": {},
   "source": [
    "# Getting started with Jupyter Notebooks and Python\n",
    "\n",
    "This notebook is intended to help you get started with both Jupyter Notebooks and Python. Work through it and you'll know the basics to start coding yourself!\n",
    "\n",
    "We assume that you view your notebooks in the JupyterLab environment, which you installed and started as explained on the course website.\n",
    "\n",
    "---\n",
    "\n",
    "## Running Python code\n",
    "\n",
    "Jupyter Notebooks are a handy way of running (in our case) Python code. For example, select the following code cell by clicking into it, and run it by hitting `Shift + Enter`."
   ]
  },
  {
   "cell_type": "code",
   "execution_count": 2,
   "metadata": {},
   "outputs": [
    {
     "name": "stdout",
     "output_type": "stream",
     "text": [
      "Welcome to your first Python notebook!\n"
     ]
    }
   ],
   "source": [
    "print(\"Welcome to your first Python notebook!\")"
   ]
  },
  {
   "cell_type": "markdown",
   "metadata": {},
   "source": [
    "Thus, whenever you've got a code cell, there is a Python interpreter running in the background, returning the output once the cell is run. In the example above, we just printed some text to standard output, which is displayed below the cell. Also check out the following examples by running the cells:"
   ]
  },
  {
   "cell_type": "code",
   "execution_count": 3,
   "metadata": {},
   "outputs": [
    {
     "data": {
      "text/plain": [
       "78.8"
      ]
     },
     "execution_count": 3,
     "metadata": {},
     "output_type": "execute_result"
    }
   ],
   "source": [
    "26.0*9/5 + 32"
   ]
  },
  {
   "cell_type": "code",
   "execution_count": 4,
   "metadata": {},
   "outputs": [],
   "source": [
    "x = 26.0\n",
    "y = x*9/5 + 32"
   ]
  },
  {
   "cell_type": "code",
   "execution_count": 5,
   "metadata": {},
   "outputs": [
    {
     "name": "stdout",
     "output_type": "stream",
     "text": [
      "26.0 degrees Celsius is 78.8 degrees Fahrenheit.\n"
     ]
    }
   ],
   "source": [
    "print(f\"{x} degrees Celsius is {y} degrees Fahrenheit.\")"
   ]
  },
  {
   "cell_type": "markdown",
   "metadata": {},
   "source": [
    "In the first cell above, we did a simple calculation (converting 26 degrees Celsius to Fahrenheit), using the Python cell as a calculator. In the second cell, we created variables `x` and `y` holding the respective Celsius and Fahrenheit values, and we printed a nicely formatted string in the end.\n",
    "\n",
    "Use the empty code cells below to try out more calculations and variable assignments like this!"
   ]
  },
  {
   "cell_type": "code",
   "execution_count": null,
   "metadata": {},
   "outputs": [],
   "source": []
  },
  {
   "cell_type": "code",
   "execution_count": null,
   "metadata": {},
   "outputs": [],
   "source": []
  },
  {
   "cell_type": "code",
   "execution_count": null,
   "metadata": {},
   "outputs": [],
   "source": []
  },
  {
   "cell_type": "code",
   "execution_count": null,
   "metadata": {},
   "outputs": [],
   "source": []
  },
  {
   "cell_type": "markdown",
   "metadata": {},
   "source": [
    "---\n",
    "\n",
    "## Cells: The base blocks of Jupyter Notebooks\n",
    "\n",
    "In the above example, you surely noticed that Jupyter Notebooks are organized in cells. If you hit your arrow keys, you can navigate up and down through the cells (note the bar on the left indicating the active cell).\n",
    "\n",
    "An active cell can be in one of two modes:\n",
    "\n",
    "- _Edit mode:_ Indicated by the blinking cursor in the cell and the cell borders highlighted in blue. In this mode, you can write text into the cell and move around the cursor using your arrow keys.\n",
    "- _Command mode:_ The cell is selected (indicated by the blue bar on the left), but not in edit mode. In this state, you cannot add text to the cell, but you can use keyboard shortcuts for interactions with the notebook.\n",
    "\n",
    "### Switching modes\n",
    "\n",
    "If in edit mode, you can switch to command mode by hitting the `Esc` key. For the other direction, hit the `Enter` key.\n",
    "\n",
    "Try to change this cell to edit mode! You will see the raw text that gave this nicely formatted cell, and you'll have to run the cell (by pressing `Shift + Enter` in either mode) to get back the formatted text."
   ]
  },
  {
   "cell_type": "markdown",
   "metadata": {},
   "source": [
    "### Useful shortcuts in command mode\n",
    "\n",
    "In command mode, there are plenty shortcuts available that simplify navigating in and working with the notebook. To start with, the following are the most important ones:\n",
    "\n",
    "- `Shift + Enter`: Run the active cell and advance to the next one. This command has the variations `Ctrl + Enter` and `Alt + Enter` for running the cell without advancing to the next one or with creating an empty cell below, respectively.\n",
    "- `a` and `b`: Insert a new cell **a**bove or **b**elow the currently selected one, respectively.\n",
    "- `d, d`: Pressing `d` twice in a row, you delete the selected cell.\n",
    "- `x`, `c`, and `v`: Shortcuts for cutting, copying, and pasting cells, respectively.\n",
    "- `z`: Revert the last changes (on cell level). This is what you need if you accidentally deleted a cell, for example.\n",
    "\n",
    "*Note: For cutting, copying, pasting, and reverting changes in edit mode, you can use the usual shortcuts `Ctrl + x`, `Ctrl + c`, `Ctrl + v`, and `Ctrl + z`.*\n",
    "\n",
    "Of course, you can do all of the above using your mouse (right click to access potential actions or choose from the small toolbar above), but keyboard shortcuts are mostly the faster way to go, and we'd encourage you to use them! :)\n",
    "\n",
    "For a complete list of available shortcuts, see for example [this page](https://blog.ja-ke.tech/2019/01/20/jupyterlab-shortcuts.html)."
   ]
  },
  {
   "cell_type": "markdown",
   "metadata": {},
   "source": [
    "### Cell types\n",
    "\n",
    "Before we get back to actual Python code, let us make you aware of the three different cell types. When navigating up and down through the cells, you might have noticed how the cell type shown in the toolbar at the top of the notebook view changes. There are three types of cells:\n",
    "\n",
    "- _Code cells:_ These cells contain (in our case) Python code that can later be executed, as we have seen above.\n",
    "- _Markdown cells:_ The cell you are just reading is a Markdown cell. It holds text formatted using the Markdown syntax. If you want to learn how this works, a good start is to view Markdown cells in edit mode and see what the underlying code is!\n",
    "- _Raw cells:_ These cells contain raw text without any formatting.\n",
    "\n",
    "Compare what happens if you change the cell types for the following three cells and then try to run them! In command mode, the shortcuts to change the type to code, Markdown, and raw cells are `y`, `m`, and `r`, respectively."
   ]
  },
  {
   "cell_type": "code",
   "execution_count": 6,
   "metadata": {},
   "outputs": [
    {
     "name": "stdout",
     "output_type": "stream",
     "text": [
      "8\n"
     ]
    }
   ],
   "source": [
    "# This is a code cell.\n",
    "z = 5 + 3\n",
    "print(z)"
   ]
  },
  {
   "cell_type": "markdown",
   "metadata": {},
   "source": [
    "This is a *Markdown* cell, where text can be **formatted** using the `Markdown syntax`."
   ]
  },
  {
   "cell_type": "raw",
   "metadata": {},
   "source": [
    "This is a raw text cell."
   ]
  },
  {
   "cell_type": "markdown",
   "metadata": {},
   "source": [
    "---\n",
    "\n",
    "## Back to Python\n",
    "Now that you've seen the basics of how to work with Jupyter Notebooks, let's get back to some actual Python code.\n",
    "\n",
    "Note that the variables set earlier always remain available, thus we can now, for example, sum the variables `x`, `y`, and `z` that we introduced earlier. Once we change one of the variables, the sum of course changes as well once we recalculate it.\n",
    "\n",
    "*Good to know: In Python, anything that comes after a `#` is considered a comment and not executed.*"
   ]
  },
  {
   "cell_type": "code",
   "execution_count": 7,
   "metadata": {},
   "outputs": [
    {
     "data": {
      "text/plain": [
       "112.8"
      ]
     },
     "execution_count": 7,
     "metadata": {},
     "output_type": "execute_result"
    }
   ],
   "source": [
    "# The current sum.\n",
    "x+y+z"
   ]
  },
  {
   "cell_type": "code",
   "execution_count": 8,
   "metadata": {},
   "outputs": [],
   "source": [
    "x = 1000"
   ]
  },
  {
   "cell_type": "code",
   "execution_count": 9,
   "metadata": {},
   "outputs": [
    {
     "data": {
      "text/plain": [
       "1086.8"
      ]
     },
     "execution_count": 9,
     "metadata": {},
     "output_type": "execute_result"
    }
   ],
   "source": [
    "# We changed x above so the sum will no longer be the same!\n",
    "x+y+z"
   ]
  },
  {
   "cell_type": "markdown",
   "metadata": {},
   "source": [
    "### Types in Python: Don't worry too much!\n",
    "\n",
    "Python has some basic built-in types for representing integers, floating point numbers, boolean values, or strings. But there is usually no need to specify these types, Python gets them right for you."
   ]
  },
  {
   "cell_type": "code",
   "execution_count": 10,
   "metadata": {},
   "outputs": [],
   "source": [
    "b = True # bool\n",
    "s = \"An example string.\" # string"
   ]
  },
  {
   "cell_type": "markdown",
   "metadata": {},
   "source": [
    "If you want to get information about a variable, for example the `s` above, type the variable name followed by a question mark into a code cell and run it."
   ]
  },
  {
   "cell_type": "code",
   "execution_count": 11,
   "metadata": {},
   "outputs": [
    {
     "name": "stdout",
     "output_type": "stream",
     "text": [
      "\u001b[0;31mType:\u001b[0m        str\n",
      "\u001b[0;31mString form:\u001b[0m An example string.\n",
      "\u001b[0;31mLength:\u001b[0m      18\n",
      "\u001b[0;31mDocstring:\u001b[0m  \n",
      "str(object='') -> str\n",
      "str(bytes_or_buffer[, encoding[, errors]]) -> str\n",
      "\n",
      "Create a new string object from the given object. If encoding or\n",
      "errors is specified, then the object must expose a data buffer\n",
      "that will be decoded using the given encoding and error handler.\n",
      "Otherwise, returns the result of object.__str__() (if defined)\n",
      "or repr(object).\n",
      "encoding defaults to sys.getdefaultencoding().\n",
      "errors defaults to 'strict'."
     ]
    }
   ],
   "source": [
    "s?"
   ]
  },
  {
   "cell_type": "markdown",
   "metadata": {},
   "source": [
    "Compare the information you get for the variables `x` and `y` that we used above! Python noticed that one is an integer, while the other is a floating point number, without us declaring so."
   ]
  },
  {
   "cell_type": "markdown",
   "metadata": {},
   "source": [
    "### Data structures\n",
    "\n",
    "You will mostly need the following four basic data structures in Python: Lists, tuples, dictionaries, and sets.\n",
    "\n",
    "#### Lists\n",
    "Lists are a very flexible data structure. You get them by enclosing objects in square brackets. To access an element of your list, type the lists name followed by an index in square brackets. Lists are mutable, so if you construct a list, you can later change what you put in there."
   ]
  },
  {
   "cell_type": "code",
   "execution_count": 12,
   "metadata": {},
   "outputs": [],
   "source": [
    "l = [1000, 4, 3.141, True, \"lists are so flexible!\"]"
   ]
  },
  {
   "cell_type": "code",
   "execution_count": 13,
   "metadata": {},
   "outputs": [
    {
     "data": {
      "text/plain": [
       "3.141"
      ]
     },
     "execution_count": 13,
     "metadata": {},
     "output_type": "execute_result"
    }
   ],
   "source": [
    "# list access; note that indices are counted from 0!\n",
    "l[2]"
   ]
  },
  {
   "cell_type": "code",
   "execution_count": 14,
   "metadata": {},
   "outputs": [
    {
     "data": {
      "text/plain": [
       "[1000, 'No longer the number 4 here.', 3.141, True, 'lists are so flexible!']"
      ]
     },
     "execution_count": 14,
     "metadata": {},
     "output_type": "execute_result"
    }
   ],
   "source": [
    "# change the second element of the list\n",
    "l[1] = \"No longer the number 4 here.\"\n",
    "l"
   ]
  },
  {
   "cell_type": "code",
   "execution_count": 15,
   "metadata": {},
   "outputs": [
    {
     "data": {
      "text/plain": [
       "[1, 1, 1, 1, 1, 1, 1, 1, 1, 1, 1, 1, 1, 1, 1]"
      ]
     },
     "execution_count": 15,
     "metadata": {},
     "output_type": "execute_result"
    }
   ],
   "source": [
    "# creating a long list of ones\n",
    "15 * [1]"
   ]
  },
  {
   "cell_type": "markdown",
   "metadata": {},
   "source": [
    "#### Tuples\n",
    "Tuples are similar to lists, but they are immutable, which means that you cannot change their content once set. You can construct a tuple using parentheses."
   ]
  },
  {
   "cell_type": "code",
   "execution_count": 16,
   "metadata": {},
   "outputs": [],
   "source": [
    "t = (1000, 3.141, \"this text will not be overwritten\", True)"
   ]
  },
  {
   "cell_type": "code",
   "execution_count": 17,
   "metadata": {},
   "outputs": [
    {
     "data": {
      "text/plain": [
       "'this text will not be overwritten'"
      ]
     },
     "execution_count": 17,
     "metadata": {},
     "output_type": "execute_result"
    }
   ],
   "source": [
    "# as before, access using square brackets\n",
    "t[2]"
   ]
  },
  {
   "cell_type": "code",
   "execution_count": 18,
   "metadata": {},
   "outputs": [
    {
     "ename": "TypeError",
     "evalue": "'tuple' object does not support item assignment",
     "output_type": "error",
     "traceback": [
      "\u001b[0;31m---------------------------------------------------------------------------\u001b[0m",
      "\u001b[0;31mTypeError\u001b[0m                                 Traceback (most recent call last)",
      "Cell \u001b[0;32mIn[18], line 2\u001b[0m\n\u001b[1;32m      1\u001b[0m \u001b[38;5;66;03m# this gives an error\u001b[39;00m\n\u001b[0;32m----> 2\u001b[0m \u001b[43mt\u001b[49m\u001b[43m[\u001b[49m\u001b[38;5;241;43m2\u001b[39;49m\u001b[43m]\u001b[49m \u001b[38;5;241m=\u001b[39m \u001b[38;5;124m\"\u001b[39m\u001b[38;5;124mI\u001b[39m\u001b[38;5;124m'\u001b[39m\u001b[38;5;124mll anyways try!\u001b[39m\u001b[38;5;124m\"\u001b[39m\n",
      "\u001b[0;31mTypeError\u001b[0m: 'tuple' object does not support item assignment"
     ]
    }
   ],
   "source": [
    "# this gives an error\n",
    "t[2] = \"I'll anyways try!\""
   ]
  },
  {
   "cell_type": "markdown",
   "metadata": {},
   "source": [
    "#### Dictionaries\n",
    "Dictionaries store pairs consisting of a key and a value. Be aware that dictionaries are not sorted!"
   ]
  },
  {
   "cell_type": "code",
   "execution_count": 19,
   "metadata": {},
   "outputs": [
    {
     "data": {
      "text/plain": [
       "'Auto'"
      ]
     },
     "execution_count": 19,
     "metadata": {},
     "output_type": "execute_result"
    }
   ],
   "source": [
    "# You can use curly brackets to define a dictionary.\n",
    "d = {\"car\": \"Auto\", \"apple\": \"Apfel\", \"socks\": \"Socken\", \"university\": \"Universität\"}\n",
    "\n",
    "d[\"car\"]"
   ]
  },
  {
   "cell_type": "code",
   "execution_count": 20,
   "metadata": {},
   "outputs": [
    {
     "data": {
      "text/plain": [
       "[1, 2, 3]"
      ]
     },
     "execution_count": 20,
     "metadata": {},
     "output_type": "execute_result"
    }
   ],
   "source": [
    "# There are different ways to create dictionaries!\n",
    "d2 = dict([(\"first\", [1,2,3]), (\"second\", [2,4,6,6,8]), (\"third\",[2,8,2,3])])\n",
    "\n",
    "d2[\"first\"]"
   ]
  },
  {
   "cell_type": "code",
   "execution_count": 21,
   "metadata": {},
   "outputs": [
    {
     "data": {
      "text/plain": [
       "{'car': 'Auto',\n",
       " 'apple': 'Apfel',\n",
       " 'socks': 'Socken',\n",
       " 'university': 'Universität',\n",
       " 'blackboard': 'Tafel'}"
      ]
     },
     "execution_count": 21,
     "metadata": {},
     "output_type": "execute_result"
    }
   ],
   "source": [
    "# you can add key-value pairs to the dictionary by simply assigning values\n",
    "d[\"blackboard\"] = \"Tafel\"\n",
    "\n",
    "d"
   ]
  },
  {
   "cell_type": "markdown",
   "metadata": {},
   "source": [
    "#### Sets\n",
    "\n",
    "Sets can be constructed from a sequence (i.e., list or tuple), and they resemble sets in a mathematical sense: elements cannot appear twice. Sets come with useful operations like intersection, testing subset relations, or difference operations. In sets, the elements are not sorted in a particular way."
   ]
  },
  {
   "cell_type": "code",
   "execution_count": 23,
   "metadata": {},
   "outputs": [],
   "source": [
    "# Use the `set` keyword to define a set.\n",
    "s1 = set([1,2,3,4,1])\n",
    "s2 = set([3,4,5,6])\n",
    "s3 = set([1,2,3,4])"
   ]
  },
  {
   "cell_type": "code",
   "execution_count": 24,
   "metadata": {},
   "outputs": [
    {
     "data": {
      "text/plain": [
       "True"
      ]
     },
     "execution_count": 24,
     "metadata": {},
     "output_type": "execute_result"
    }
   ],
   "source": [
    "# note that s1 and s3 contain the same elements\n",
    "#(it does not matter if a given element appears multiple times in the definition of a set)\n",
    "s1 == s3"
   ]
  },
  {
   "cell_type": "code",
   "execution_count": 25,
   "metadata": {},
   "outputs": [
    {
     "data": {
      "text/plain": [
       "{1, 2, 3, 4, 5, 6}"
      ]
     },
     "execution_count": 25,
     "metadata": {},
     "output_type": "execute_result"
    }
   ],
   "source": [
    "# union\n",
    "s1 | s2"
   ]
  },
  {
   "cell_type": "code",
   "execution_count": 26,
   "metadata": {},
   "outputs": [
    {
     "data": {
      "text/plain": [
       "False"
      ]
     },
     "execution_count": 26,
     "metadata": {},
     "output_type": "execute_result"
    }
   ],
   "source": [
    "# subset testing\n",
    "s1 < s2"
   ]
  },
  {
   "cell_type": "code",
   "execution_count": 27,
   "metadata": {},
   "outputs": [
    {
     "data": {
      "text/plain": [
       "{1, 2}"
      ]
     },
     "execution_count": 27,
     "metadata": {},
     "output_type": "execute_result"
    }
   ],
   "source": [
    "# difference\n",
    "s1 - s2 "
   ]
  },
  {
   "cell_type": "code",
   "execution_count": 28,
   "metadata": {},
   "outputs": [
    {
     "data": {
      "text/plain": [
       "{1, 2, 5, 6}"
      ]
     },
     "execution_count": 28,
     "metadata": {},
     "output_type": "execute_result"
    }
   ],
   "source": [
    "# symmetric difference\n",
    "s1 ^ s2"
   ]
  },
  {
   "cell_type": "code",
   "execution_count": 29,
   "metadata": {},
   "outputs": [
    {
     "data": {
      "text/plain": [
       "[1, 2, 3, 5, 10]"
      ]
     },
     "execution_count": 29,
     "metadata": {},
     "output_type": "execute_result"
    }
   ],
   "source": [
    "# removing duplicates from a list via sets\n",
    "l = [1,2,5,3,2,5,10,1,3,2,10,5]\n",
    "l_unique = list(set(l))\n",
    "l_unique"
   ]
  },
  {
   "cell_type": "markdown",
   "metadata": {},
   "source": [
    "#### Built-in functions\n",
    "The above four basic data structures come with lots of built-in functionality. Below, you find a selection of such functions. Try to play around with them a bit! The list below is by no means exhaustive; you can check the [official reference](https://docs.python.org/3/library/stdtypes.html#sequence-types-list-tuple-range) for more."
   ]
  },
  {
   "cell_type": "code",
   "execution_count": 30,
   "metadata": {},
   "outputs": [
    {
     "data": {
      "text/plain": [
       "12"
      ]
     },
     "execution_count": 30,
     "metadata": {},
     "output_type": "execute_result"
    }
   ],
   "source": [
    "# length of a list\n",
    "len(l)"
   ]
  },
  {
   "cell_type": "code",
   "execution_count": 31,
   "metadata": {},
   "outputs": [
    {
     "data": {
      "text/plain": [
       "[1, 2, 5, 3, 2, 5, 10, 1, 3, 2, 10, 5, 'Lets append something to the list.']"
      ]
     },
     "execution_count": 31,
     "metadata": {},
     "output_type": "execute_result"
    }
   ],
   "source": [
    "l.append(\"Lets append something to the list.\")\n",
    "l"
   ]
  },
  {
   "cell_type": "code",
   "execution_count": 32,
   "metadata": {},
   "outputs": [
    {
     "data": {
      "text/plain": [
       "[1,\n",
       " 2,\n",
       " 5,\n",
       " 3,\n",
       " 2,\n",
       " 5,\n",
       " 10,\n",
       " 1,\n",
       " 3,\n",
       " 2,\n",
       " 10,\n",
       " 5,\n",
       " 'Lets append something to the list.',\n",
       " 10,\n",
       " 20,\n",
       " 30]"
      ]
     },
     "execution_count": 32,
     "metadata": {},
     "output_type": "execute_result"
    }
   ],
   "source": [
    "# concatenating lists\n",
    "l + [10,20,30]"
   ]
  },
  {
   "cell_type": "code",
   "execution_count": 33,
   "metadata": {},
   "outputs": [
    {
     "data": {
      "text/plain": [
       "[1,\n",
       " 2,\n",
       " 'insertion at index 2',\n",
       " 5,\n",
       " 3,\n",
       " 2,\n",
       " 5,\n",
       " 10,\n",
       " 1,\n",
       " 3,\n",
       " 2,\n",
       " 10,\n",
       " 5,\n",
       " 'Lets append something to the list.']"
      ]
     },
     "execution_count": 33,
     "metadata": {},
     "output_type": "execute_result"
    }
   ],
   "source": [
    "l.insert(2,\"insertion at index 2\")\n",
    "l"
   ]
  },
  {
   "cell_type": "code",
   "execution_count": 34,
   "metadata": {},
   "outputs": [
    {
     "data": {
      "text/plain": [
       "True"
      ]
     },
     "execution_count": 34,
     "metadata": {},
     "output_type": "execute_result"
    }
   ],
   "source": [
    "# check if \"car\" is a key in the dictionary d\n",
    "\"car\" in d"
   ]
  },
  {
   "cell_type": "code",
   "execution_count": 35,
   "metadata": {},
   "outputs": [
    {
     "data": {
      "text/plain": [
       "False"
      ]
     },
     "execution_count": 35,
     "metadata": {},
     "output_type": "execute_result"
    }
   ],
   "source": [
    "# check if \"Bus\" is a value in the dictionary d\n",
    "\"Bus\" in d.values()"
   ]
  },
  {
   "cell_type": "code",
   "execution_count": 36,
   "metadata": {},
   "outputs": [
    {
     "data": {
      "text/plain": [
       "[1, 1, 2, 2, 2, 3, 3, 5, 5, 5, 10, 10]"
      ]
     },
     "execution_count": 36,
     "metadata": {},
     "output_type": "execute_result"
    }
   ],
   "source": [
    "# sorting\n",
    "l = [1,2,5,3,2,5,10,1,3,2,10,5]\n",
    "list.sort(l)\n",
    "l"
   ]
  },
  {
   "cell_type": "markdown",
   "metadata": {},
   "source": [
    "---\n",
    "\n",
    "## Loops, if/else statements, and functions\n",
    "\n",
    "As one of the last ingredients to get you ready for programming yourself, we introduce loops, if/else statements, and functions.\n",
    "\n",
    "### Loops and if/else statements\n",
    "\n",
    "Python supports two kinds of loops: `while`-loops and `for`-loops. The following example shows a simple while loop."
   ]
  },
  {
   "cell_type": "code",
   "execution_count": 37,
   "metadata": {},
   "outputs": [
    {
     "name": "stdout",
     "output_type": "stream",
     "text": [
      "The square of 0 is 0.\n",
      "The square of 1 is 1.\n",
      "The square of 2 is 4.\n",
      "The square of 3 is 9.\n",
      "The square of 4 is 16.\n",
      "The square of 5 is 25.\n",
      "The square of 6 is 36.\n",
      "The square of 7 is 49.\n",
      "The square of 8 is 64.\n",
      "The square of 9 is 81.\n",
      "This is no longer part of the while-loop body.\n"
     ]
    }
   ],
   "source": [
    "x = 0\n",
    "while x < 10:\n",
    "    print(f\"The square of {x} is {x**2}.\")\n",
    "    x += 1\n",
    "print(\"This is no longer part of the while-loop body.\")"
   ]
  },
  {
   "cell_type": "markdown",
   "metadata": {},
   "source": [
    "Observe the structure of a while-loop: The `while` keyword is followed by a boolean expression and a colon. The subsequent block is then indented (here, it is indented by a tab, but you could also use any fixed number of spaces), and everything that is indented is part of the while-loop body. In constrast to other programming languages, indentation is an essential part of the Pyhton syntax, so you cannot just use it as you wish!\n",
    "\n",
    "If, for example, we are only interested in the squares of odd numbers, we can combine the above while-loop with an if/else-block:"
   ]
  },
  {
   "cell_type": "code",
   "execution_count": 38,
   "metadata": {},
   "outputs": [
    {
     "name": "stdout",
     "output_type": "stream",
     "text": [
      "0 is even.\n",
      "1 is odd and its square is 1\n",
      "2 is even.\n",
      "3 is odd and its square is 9\n",
      "4 is even.\n",
      "5 is odd and its square is 25\n",
      "6 is even.\n",
      "7 is odd and its square is 49\n",
      "8 is even.\n",
      "9 is odd and its square is 81\n"
     ]
    }
   ],
   "source": [
    "x = 0\n",
    "while x < 10:\n",
    "    if x % 2 == 0:\n",
    "        print(f\"{x} is even.\")\n",
    "    else:\n",
    "        print(f\"{x} is odd and its square is {x**2}\")\n",
    "    x += 1"
   ]
  },
  {
   "cell_type": "markdown",
   "metadata": {},
   "source": [
    "Note that an `if`-block can also be on its own without an `else`-block (don't forget the indentation, though!).\n",
    "\n",
    "Actually, for what we were doing above, namely iterating through all integers from 0 to 9, a for-loop is more suitable:"
   ]
  },
  {
   "cell_type": "code",
   "execution_count": 39,
   "metadata": {},
   "outputs": [
    {
     "name": "stdout",
     "output_type": "stream",
     "text": [
      "0\n",
      "1\n",
      "4\n",
      "9\n",
      "16\n",
      "25\n",
      "36\n",
      "49\n",
      "64\n",
      "81\n"
     ]
    }
   ],
   "source": [
    "for x in range(10):\n",
    "    print(x**2)"
   ]
  },
  {
   "cell_type": "markdown",
   "metadata": {},
   "source": [
    "The `range()` function is very useful for such loops. It can be called with one, two, or three arguments. Try to find out how to use them from the help that you get below!"
   ]
  },
  {
   "cell_type": "code",
   "execution_count": 40,
   "metadata": {},
   "outputs": [
    {
     "name": "stdout",
     "output_type": "stream",
     "text": [
      "\u001b[0;31mInit signature:\u001b[0m \u001b[0mrange\u001b[0m\u001b[0;34m(\u001b[0m\u001b[0mself\u001b[0m\u001b[0;34m,\u001b[0m \u001b[0;34m/\u001b[0m\u001b[0;34m,\u001b[0m \u001b[0;34m*\u001b[0m\u001b[0margs\u001b[0m\u001b[0;34m,\u001b[0m \u001b[0;34m**\u001b[0m\u001b[0mkwargs\u001b[0m\u001b[0;34m)\u001b[0m\u001b[0;34m\u001b[0m\u001b[0;34m\u001b[0m\u001b[0m\n",
      "\u001b[0;31mDocstring:\u001b[0m     \n",
      "range(stop) -> range object\n",
      "range(start, stop[, step]) -> range object\n",
      "\n",
      "Return an object that produces a sequence of integers from start (inclusive)\n",
      "to stop (exclusive) by step.  range(i, j) produces i, i+1, i+2, ..., j-1.\n",
      "start defaults to 0, and stop is omitted!  range(4) produces 0, 1, 2, 3.\n",
      "These are exactly the valid indices for a list of 4 elements.\n",
      "When step is given, it specifies the increment (or decrement).\n",
      "\u001b[0;31mType:\u001b[0m           type\n",
      "\u001b[0;31mSubclasses:\u001b[0m     "
     ]
    }
   ],
   "source": [
    "range?"
   ]
  },
  {
   "cell_type": "markdown",
   "metadata": {},
   "source": [
    "We can actually iterate through any iterable type (lists, tuples, sets, dictionaries). Let's check the tuple that we constructed earlier:"
   ]
  },
  {
   "cell_type": "code",
   "execution_count": 41,
   "metadata": {},
   "outputs": [
    {
     "name": "stdout",
     "output_type": "stream",
     "text": [
      "1000\n",
      "3.141\n",
      "this text will not be overwritten\n",
      "True\n"
     ]
    }
   ],
   "source": [
    "for x in t:\n",
    "    print(x)"
   ]
  },
  {
   "cell_type": "markdown",
   "metadata": {},
   "source": [
    "#### List comprehension\n",
    "\n",
    "Imagine you want to create a list of the first ten squares, instead of just printing them as above, or going through them in a loop. Of course, we could build such a list using a loop as follows:"
   ]
  },
  {
   "cell_type": "code",
   "execution_count": 42,
   "metadata": {},
   "outputs": [
    {
     "data": {
      "text/plain": [
       "[0, 1, 4, 9, 16, 25, 36, 49, 64, 81]"
      ]
     },
     "execution_count": 42,
     "metadata": {},
     "output_type": "execute_result"
    }
   ],
   "source": [
    "squares = []\n",
    "for x in range(10):\n",
    "    squares.append(x**2)\n",
    "squares"
   ]
  },
  {
   "cell_type": "markdown",
   "metadata": {},
   "source": [
    "Python offers a more concise way of writing this, however, which is the list comprehension syntax:"
   ]
  },
  {
   "cell_type": "code",
   "execution_count": 43,
   "metadata": {},
   "outputs": [
    {
     "data": {
      "text/plain": [
       "[0, 1, 4, 9, 16, 25, 36, 49, 64, 81]"
      ]
     },
     "execution_count": 43,
     "metadata": {},
     "output_type": "execute_result"
    }
   ],
   "source": [
    "concise_squares = [x**2 for x in range(10)]\n",
    "concise_squares"
   ]
  },
  {
   "cell_type": "markdown",
   "metadata": {},
   "source": [
    "List comprehension also allows the use of additional filters using an if statement. To get the squares of the odd numbers only, we could write the following:"
   ]
  },
  {
   "cell_type": "code",
   "execution_count": 44,
   "metadata": {},
   "outputs": [
    {
     "data": {
      "text/plain": [
       "[1, 9, 25, 49, 81]"
      ]
     },
     "execution_count": 44,
     "metadata": {},
     "output_type": "execute_result"
    }
   ],
   "source": [
    "odd_squares = [x**2 for x in range(10) if x % 2 == 1]\n",
    "odd_squares"
   ]
  },
  {
   "cell_type": "markdown",
   "metadata": {},
   "source": [
    "### Functions\n",
    "\n",
    "To write somewhat structured code and avoid code repetition, functions are indispensable. Function definitions in Python start with the `def` keyword, followed by the function name, a list of arguments, and a colon. The subsequent function body is indented, and a `return` keyword indicates what the function returns. This is demonstrated in the following example:"
   ]
  },
  {
   "cell_type": "code",
   "execution_count": 45,
   "metadata": {},
   "outputs": [],
   "source": [
    "def celsiusToFahrenheit(x):\n",
    "    y = x*9/5 + 32\n",
    "    return y"
   ]
  },
  {
   "cell_type": "code",
   "execution_count": 46,
   "metadata": {},
   "outputs": [
    {
     "name": "stdout",
     "output_type": "stream",
     "text": [
      "-20 degrees Celsius is -4.0 degrees Fahrenheit.\n",
      "-14 degrees Celsius is 6.800000000000001 degrees Fahrenheit.\n",
      "-8 degrees Celsius is 17.6 degrees Fahrenheit.\n",
      "-2 degrees Celsius is 28.4 degrees Fahrenheit.\n",
      "4 degrees Celsius is 39.2 degrees Fahrenheit.\n",
      "10 degrees Celsius is 50.0 degrees Fahrenheit.\n",
      "16 degrees Celsius is 60.8 degrees Fahrenheit.\n",
      "22 degrees Celsius is 71.6 degrees Fahrenheit.\n",
      "28 degrees Celsius is 82.4 degrees Fahrenheit.\n",
      "34 degrees Celsius is 93.2 degrees Fahrenheit.\n",
      "40 degrees Celsius is 104.0 degrees Fahrenheit.\n"
     ]
    }
   ],
   "source": [
    "for x in range(-20,45,6):\n",
    "    print(f\"{x} degrees Celsius is {celsiusToFahrenheit(x)} degrees Fahrenheit.\")"
   ]
  },
  {
   "cell_type": "markdown",
   "metadata": {},
   "source": [
    "In case you don't like the aesthetics of the above printouts (note how the numbers are not aligned), there is a way to fix it (play around with the numbers to see what happens):"
   ]
  },
  {
   "cell_type": "code",
   "execution_count": 47,
   "metadata": {},
   "outputs": [
    {
     "name": "stdout",
     "output_type": "stream",
     "text": [
      "-20.0 degrees Celsius is  -4.0 degrees Fahrenheit.\n",
      "-14.0 degrees Celsius is   6.8 degrees Fahrenheit.\n",
      " -8.0 degrees Celsius is  17.6 degrees Fahrenheit.\n",
      " -2.0 degrees Celsius is  28.4 degrees Fahrenheit.\n",
      "  4.0 degrees Celsius is  39.2 degrees Fahrenheit.\n",
      " 10.0 degrees Celsius is  50.0 degrees Fahrenheit.\n",
      " 16.0 degrees Celsius is  60.8 degrees Fahrenheit.\n",
      " 22.0 degrees Celsius is  71.6 degrees Fahrenheit.\n",
      " 28.0 degrees Celsius is  82.4 degrees Fahrenheit.\n",
      " 34.0 degrees Celsius is  93.2 degrees Fahrenheit.\n",
      " 40.0 degrees Celsius is 104.0 degrees Fahrenheit.\n"
     ]
    }
   ],
   "source": [
    "width = 5\n",
    "precision = 1\n",
    "for x in range(-20,45,6):\n",
    "    print(f\"{x:{width}.{precision}f} degrees Celsius is {celsiusToFahrenheit(x):{width}.{precision}f} degrees Fahrenheit.\")"
   ]
  },
  {
   "cell_type": "markdown",
   "metadata": {},
   "source": [
    "---\n",
    "\n",
    "## Loading and using modules\n",
    "\n",
    "Python comes with many built-in modules that are ready to be used: Just import them using an `import` statement. As an example, we have a look at the `math` module that provides various mathematical functions and constants.\n",
    "\n",
    "There are different ways to import a module, or only parts of it. If, for example, you only need the constant $\\pi$ from the `math` module, you can import it as follows:"
   ]
  },
  {
   "cell_type": "code",
   "execution_count": 48,
   "metadata": {},
   "outputs": [],
   "source": [
    "from math import pi"
   ]
  },
  {
   "cell_type": "code",
   "execution_count": 49,
   "metadata": {},
   "outputs": [
    {
     "data": {
      "text/plain": [
       "3.141592653589793"
      ]
     },
     "execution_count": 49,
     "metadata": {},
     "output_type": "execute_result"
    }
   ],
   "source": [
    "pi"
   ]
  },
  {
   "cell_type": "markdown",
   "metadata": {},
   "source": [
    "If you want to import everything from the `math` module, you can use an asterisk:"
   ]
  },
  {
   "cell_type": "code",
   "execution_count": 50,
   "metadata": {},
   "outputs": [],
   "source": [
    "from math import *"
   ]
  },
  {
   "cell_type": "code",
   "execution_count": 51,
   "metadata": {},
   "outputs": [
    {
     "data": {
      "text/plain": [
       "3"
      ]
     },
     "execution_count": 51,
     "metadata": {},
     "output_type": "execute_result"
    }
   ],
   "source": [
    "floor(pi)"
   ]
  },
  {
   "cell_type": "markdown",
   "metadata": {},
   "source": [
    "Note, however, that this way of importing from modules easily creates a mess. If, for example, you have a variable $p_i$ that you name `pi` in your code, you will overwrite the constant `pi` from the `math` module."
   ]
  },
  {
   "cell_type": "code",
   "execution_count": 52,
   "metadata": {},
   "outputs": [],
   "source": [
    "pi = 7"
   ]
  },
  {
   "cell_type": "code",
   "execution_count": 53,
   "metadata": {},
   "outputs": [
    {
     "data": {
      "text/plain": [
       "7"
      ]
     },
     "execution_count": 53,
     "metadata": {},
     "output_type": "execute_result"
    }
   ],
   "source": [
    "pi"
   ]
  },
  {
   "cell_type": "markdown",
   "metadata": {},
   "source": [
    "The safer way to go is to just import the `math` module, and then use `math.pi`, for example."
   ]
  },
  {
   "cell_type": "code",
   "execution_count": 54,
   "metadata": {},
   "outputs": [],
   "source": [
    "import math"
   ]
  },
  {
   "cell_type": "code",
   "execution_count": 55,
   "metadata": {},
   "outputs": [
    {
     "data": {
      "text/plain": [
       "3.141592653589793"
      ]
     },
     "execution_count": 55,
     "metadata": {},
     "output_type": "execute_result"
    }
   ],
   "source": [
    "math.pi"
   ]
  },
  {
   "cell_type": "code",
   "execution_count": 56,
   "metadata": {},
   "outputs": [
    {
     "data": {
      "text/plain": [
       "3"
      ]
     },
     "execution_count": 56,
     "metadata": {},
     "output_type": "execute_result"
    }
   ],
   "source": [
    "math.floor(math.pi)"
   ]
  },
  {
   "cell_type": "markdown",
   "metadata": {},
   "source": [
    "A last option is to use alternative names for things you import. We will, for example, use the `networkx` module a lot. Always typing `networkx` might feel cumbersome, so we can import it with the shorter alternative name `nx`. Another example is to import the constant `pi` from `math` using the different name `PI`."
   ]
  },
  {
   "cell_type": "code",
   "execution_count": 58,
   "metadata": {},
   "outputs": [
    {
     "data": {
      "text/plain": [
       "<networkx.classes.graph.Graph at 0x7f9f68d0d670>"
      ]
     },
     "execution_count": 58,
     "metadata": {},
     "output_type": "execute_result"
    }
   ],
   "source": [
    "import networkx as nx\n",
    "g = nx.Graph()\n",
    "g"
   ]
  },
  {
   "cell_type": "code",
   "execution_count": 59,
   "metadata": {},
   "outputs": [
    {
     "data": {
      "text/plain": [
       "3.141592653589793"
      ]
     },
     "execution_count": 59,
     "metadata": {},
     "output_type": "execute_result"
    }
   ],
   "source": [
    "from math import pi as PI\n",
    "PI"
   ]
  },
  {
   "cell_type": "markdown",
   "metadata": {},
   "source": [
    "---\n",
    "\n",
    "## LaTeX\n",
    "\n",
    "You can write math in in Jupyter Notebooks by entering LaTeX code between two dollar signs (\\\\$ \\\\$) for inline math or between two double dollar signs (\\\\$\\\\$ \\\\$\\\\$) for displayed math. For example, $\\pi \\approx 3.14$ and $$E = m c^2 .$$ Note that since Jupyter uses MathJax to render math, only the math-mode macros of TeX and LaTeX are supported but not the text-mode macros. For example, `\\emph`, `\\begin{enumerate} ... \\end{enumerate}` and other text-mode macros and environments do not work and have to be replaced with HTML analogs."
   ]
  },
  {
   "cell_type": "markdown",
   "metadata": {},
   "source": [
    "---\n",
    "\n",
    "## That's it! Have fun playing around yourself!\n",
    "\n",
    "---"
   ]
  },
  {
   "cell_type": "code",
   "execution_count": 62,
   "metadata": {},
   "outputs": [
    {
     "data": {
      "text/plain": [
       "[]"
      ]
     },
     "execution_count": 62,
     "metadata": {},
     "output_type": "execute_result"
    },
    {
     "data": {
      "image/png": "[encoded data removed]",
      "text/plain": [
       "<Figure size 800x800 with 1 Axes>"
      ]
     },
     "metadata": {},
     "output_type": "display_data"
    }
   ],
   "source": [
    "import matplotlib.pyplot as plt\n",
    "import numpy as np\n",
    "%matplotlib inline\n",
    "\n",
    "fig = plt.figure(figsize=(8,8))\n",
    "ax = fig.add_subplot(1,1,1, aspect=1)\n",
    "\n",
    "ax.scatter([.5],[.5], c='#FFCC00', s=120000, label=\"face\")\n",
    "ax.scatter([.35, .65], [.63, .63], c='k', s=1000, label=\"eyes\")\n",
    "\n",
    "X = np.linspace(.3, .7, 100)\n",
    "Y = 3 * (X-.5)**2 + 0.28\n",
    "\n",
    "ax.plot(X, Y, c='k', linewidth=8, label=\"smile\")\n",
    "\n",
    "ax.set_xlim(0,1)\n",
    "ax.set_ylim(0,1)\n",
    "\n",
    "ax.spines['top'].set_visible(False)\n",
    "ax.spines['right'].set_visible(False)\n",
    "ax.spines['left'].set_visible(False)\n",
    "ax.spines['bottom'].set_visible(False)\n",
    "ax.set_xticks([])\n",
    "ax.set_yticks([])"
   ]
  },
  {
   "cell_type": "code",
   "execution_count": null,
   "metadata": {},
   "outputs": [],
   "source": []
  }
 ],
 "metadata": {
  "kernelspec": {
   "display_name": ".venv",
   "language": "python",
   "name": "python3"
  },
  "language_info": {
   "codemirror_mode": {
    "name": "ipython",
    "version": 3
   },
   "file_extension": ".py",
   "mimetype": "text/x-python",
   "name": "python",
   "nbconvert_exporter": "python",
   "pygments_lexer": "ipython3",
   "version": "3.12.3"
  }
 },
 "nbformat": 4,
 "nbformat_minor": 4
}
